{
  "nbformat": 4,
  "nbformat_minor": 0,
  "metadata": {
    "colab": {
      "name": "Classification_Iris_Data.ipynb",
      "provenance": [],
      "collapsed_sections": [
        "4rwaZfnErgpx",
        "M2YJ63wLwSPS"
      ]
    },
    "kernelspec": {
      "name": "python3",
      "display_name": "Python 3"
    },
    "language_info": {
      "name": "python"
    },
    "accelerator": "GPU"
  },
  "cells": [
    {
      "cell_type": "markdown",
      "metadata": {
        "id": "bvNr6EoZqu_Y"
      },
      "source": [
        "# **Features of H2O**\n",
        "\n",
        "---\n",
        "\n",
        "\n",
        "\n",
        "*   It can do data pre-processing(categorical encoding conversion etc)\n",
        "*   It can take care of missing data imputation or other data cleaning activity\n",
        "*   Provides leaderboard with matrix\n",
        "*   It provides deployment ready code(MOJO is preferrable when model is large)\n",
        "\n",
        "\n",
        "\n"
      ]
    },
    {
      "cell_type": "markdown",
      "metadata": {
        "id": "4rwaZfnErgpx"
      },
      "source": [
        "# ***Installation***"
      ]
    },
    {
      "cell_type": "code",
      "metadata": {
        "colab": {
          "base_uri": "https://localhost:8080/"
        },
        "id": "cKIfh3lpqcq6",
        "outputId": "12479f9f-f653-4ce0-bb1f-a1ab013342f5"
      },
      "source": [
        "!apt-get install default-jre\n",
        "!java -version\n",
        "!pip install h2o"
      ],
      "execution_count": 30,
      "outputs": [
        {
          "output_type": "stream",
          "name": "stdout",
          "text": [
            "Reading package lists... Done\n",
            "Building dependency tree       \n",
            "Reading state information... Done\n",
            "default-jre is already the newest version (2:1.11-68ubuntu1~18.04.1).\n",
            "0 upgraded, 0 newly installed, 0 to remove and 37 not upgraded.\n",
            "openjdk version \"11.0.11\" 2021-04-20\n",
            "OpenJDK Runtime Environment (build 11.0.11+9-Ubuntu-0ubuntu2.18.04)\n",
            "OpenJDK 64-Bit Server VM (build 11.0.11+9-Ubuntu-0ubuntu2.18.04, mixed mode, sharing)\n",
            "Requirement already satisfied: h2o in /usr/local/lib/python3.7/dist-packages (3.34.0.1)\n",
            "Requirement already satisfied: tabulate in /usr/local/lib/python3.7/dist-packages (from h2o) (0.8.9)\n",
            "Requirement already satisfied: requests in /usr/local/lib/python3.7/dist-packages (from h2o) (2.23.0)\n",
            "Requirement already satisfied: future in /usr/local/lib/python3.7/dist-packages (from h2o) (0.16.0)\n",
            "Requirement already satisfied: idna<3,>=2.5 in /usr/local/lib/python3.7/dist-packages (from requests->h2o) (2.10)\n",
            "Requirement already satisfied: urllib3!=1.25.0,!=1.25.1,<1.26,>=1.21.1 in /usr/local/lib/python3.7/dist-packages (from requests->h2o) (1.24.3)\n",
            "Requirement already satisfied: certifi>=2017.4.17 in /usr/local/lib/python3.7/dist-packages (from requests->h2o) (2021.5.30)\n",
            "Requirement already satisfied: chardet<4,>=3.0.2 in /usr/local/lib/python3.7/dist-packages (from requests->h2o) (3.0.4)\n"
          ]
        }
      ]
    },
    {
      "cell_type": "markdown",
      "metadata": {
        "id": "WuYW0CV2r425"
      },
      "source": [
        "# ***Importing libraries***"
      ]
    },
    {
      "cell_type": "code",
      "metadata": {
        "id": "OQRN7Ybir23K"
      },
      "source": [
        "import h2o\n",
        "from h2o.automl import H2OAutoML\n",
        "import pandas as pd"
      ],
      "execution_count": 31,
      "outputs": []
    },
    {
      "cell_type": "markdown",
      "metadata": {
        "id": "fS0ZD9FysFOz"
      },
      "source": [
        "# ***Initializing H2O Cluster***"
      ]
    },
    {
      "cell_type": "code",
      "metadata": {
        "colab": {
          "base_uri": "https://localhost:8080/",
          "height": 554
        },
        "id": "ybmI4b9NsKGT",
        "outputId": "c9b58817-0322-44ad-e4a4-01ec9ed3d0ca"
      },
      "source": [
        "h2o.init()"
      ],
      "execution_count": null,
      "outputs": [
        {
          "output_type": "stream",
          "name": "stdout",
          "text": [
            "Checking whether there is an H2O instance running at http://localhost:54321 ..... not found.\n",
            "Attempting to start a local H2O server...\n",
            "  Java Version: openjdk version \"11.0.11\" 2021-04-20; OpenJDK Runtime Environment (build 11.0.11+9-Ubuntu-0ubuntu2.18.04); OpenJDK 64-Bit Server VM (build 11.0.11+9-Ubuntu-0ubuntu2.18.04, mixed mode, sharing)\n",
            "  Starting server from /usr/local/lib/python3.7/dist-packages/h2o/backend/bin/h2o.jar\n",
            "  Ice root: /tmp/tmprtrb82un\n",
            "  JVM stdout: /tmp/tmprtrb82un/h2o_unknownUser_started_from_python.out\n",
            "  JVM stderr: /tmp/tmprtrb82un/h2o_unknownUser_started_from_python.err\n",
            "  Server is running at http://127.0.0.1:54321\n",
            "Connecting to H2O server at http://127.0.0.1:54321 ... successful.\n"
          ]
        },
        {
          "output_type": "display_data",
          "data": {
            "text/html": [
              "<div style=\"overflow:auto\"><table style=\"width:50%\"><tr><td>H2O_cluster_uptime:</td>\n",
              "<td>02 secs</td></tr>\n",
              "<tr><td>H2O_cluster_timezone:</td>\n",
              "<td>Etc/UTC</td></tr>\n",
              "<tr><td>H2O_data_parsing_timezone:</td>\n",
              "<td>UTC</td></tr>\n",
              "<tr><td>H2O_cluster_version:</td>\n",
              "<td>3.34.0.1</td></tr>\n",
              "<tr><td>H2O_cluster_version_age:</td>\n",
              "<td>18 days </td></tr>\n",
              "<tr><td>H2O_cluster_name:</td>\n",
              "<td>H2O_from_python_unknownUser_gryas5</td></tr>\n",
              "<tr><td>H2O_cluster_total_nodes:</td>\n",
              "<td>1</td></tr>\n",
              "<tr><td>H2O_cluster_free_memory:</td>\n",
              "<td>3.172 Gb</td></tr>\n",
              "<tr><td>H2O_cluster_total_cores:</td>\n",
              "<td>2</td></tr>\n",
              "<tr><td>H2O_cluster_allowed_cores:</td>\n",
              "<td>2</td></tr>\n",
              "<tr><td>H2O_cluster_status:</td>\n",
              "<td>locked, healthy</td></tr>\n",
              "<tr><td>H2O_connection_url:</td>\n",
              "<td>http://127.0.0.1:54321</td></tr>\n",
              "<tr><td>H2O_connection_proxy:</td>\n",
              "<td>{\"http\": null, \"https\": null}</td></tr>\n",
              "<tr><td>H2O_internal_security:</td>\n",
              "<td>False</td></tr>\n",
              "<tr><td>H2O_API_Extensions:</td>\n",
              "<td>Amazon S3, XGBoost, Algos, AutoML, Core V3, TargetEncoder, Core V4</td></tr>\n",
              "<tr><td>Python_version:</td>\n",
              "<td>3.7.12 final</td></tr></table></div>"
            ],
            "text/plain": [
              "--------------------------  ------------------------------------------------------------------\n",
              "H2O_cluster_uptime:         02 secs\n",
              "H2O_cluster_timezone:       Etc/UTC\n",
              "H2O_data_parsing_timezone:  UTC\n",
              "H2O_cluster_version:        3.34.0.1\n",
              "H2O_cluster_version_age:    18 days\n",
              "H2O_cluster_name:           H2O_from_python_unknownUser_gryas5\n",
              "H2O_cluster_total_nodes:    1\n",
              "H2O_cluster_free_memory:    3.172 Gb\n",
              "H2O_cluster_total_cores:    2\n",
              "H2O_cluster_allowed_cores:  2\n",
              "H2O_cluster_status:         locked, healthy\n",
              "H2O_connection_url:         http://127.0.0.1:54321\n",
              "H2O_connection_proxy:       {\"http\": null, \"https\": null}\n",
              "H2O_internal_security:      False\n",
              "H2O_API_Extensions:         Amazon S3, XGBoost, Algos, AutoML, Core V3, TargetEncoder, Core V4\n",
              "Python_version:             3.7.12 final\n",
              "--------------------------  ------------------------------------------------------------------"
            ]
          },
          "metadata": {}
        }
      ]
    },
    {
      "cell_type": "markdown",
      "metadata": {
        "id": "ETQOldQJsh0R"
      },
      "source": [
        "## ***Loading Dataset***"
      ]
    },
    {
      "cell_type": "code",
      "metadata": {
        "colab": {
          "base_uri": "https://localhost:8080/"
        },
        "id": "VeiEAqAFsml7",
        "outputId": "f3ceb593-505d-4956-efa2-453b350a5b1b"
      },
      "source": [
        "train = h2o.import_file(\"iris_train.csv\")\n",
        "test = h2o.import_file(\"iris_test.csv\")"
      ],
      "execution_count": null,
      "outputs": [
        {
          "output_type": "stream",
          "name": "stdout",
          "text": [
            "Parse progress: |████████████████████████████████████████████████████████████████| (done) 100%\n",
            "Parse progress: |████████████████████████████████████████████████████████████████| (done) 100%\n"
          ]
        }
      ]
    },
    {
      "cell_type": "code",
      "metadata": {
        "id": "9Sym_RHuhWGw"
      },
      "source": [
        "train = train.drop(\"C1\")\n",
        "test = test.drop(\"C1\")"
      ],
      "execution_count": null,
      "outputs": []
    },
    {
      "cell_type": "markdown",
      "metadata": {
        "id": "TwDkvsqKs070"
      },
      "source": [
        "# ***Data Pre-Processing***"
      ]
    },
    {
      "cell_type": "code",
      "metadata": {
        "colab": {
          "base_uri": "https://localhost:8080/"
        },
        "id": "b_FfBmm3s0TD",
        "outputId": "43443608-c8dd-4d6b-c330-7fdb2e0465d6"
      },
      "source": [
        "train_df = h2o.as_list(train,use_pandas=True)\n",
        "train_df.isna().sum()"
      ],
      "execution_count": null,
      "outputs": [
        {
          "output_type": "execute_result",
          "data": {
            "text/plain": [
              "sepal_length    0\n",
              "sepal_width     0\n",
              "petal_length    0\n",
              "petal_width     0\n",
              "species         0\n",
              "dtype: int64"
            ]
          },
          "metadata": {},
          "execution_count": 6
        }
      ]
    },
    {
      "cell_type": "code",
      "metadata": {
        "colab": {
          "base_uri": "https://localhost:8080/"
        },
        "id": "zn8ixAaps-6G",
        "outputId": "c86adb33-fbde-445d-fdd4-759bf97ddaf4"
      },
      "source": [
        "test_df = h2o.as_list(test,use_pandas=True)\n",
        "test_df.isna().sum()"
      ],
      "execution_count": null,
      "outputs": [
        {
          "output_type": "execute_result",
          "data": {
            "text/plain": [
              "sepal_length    0\n",
              "sepal_width     0\n",
              "petal_length    0\n",
              "petal_width     0\n",
              "species         0\n",
              "dtype: int64"
            ]
          },
          "metadata": {},
          "execution_count": 7
        }
      ]
    },
    {
      "cell_type": "code",
      "metadata": {
        "colab": {
          "base_uri": "https://localhost:8080/"
        },
        "id": "RrKlmQhNwGy8",
        "outputId": "9d150cd5-9a3f-43f4-aff2-1fb5f348c22d"
      },
      "source": [
        "round((train_df.isnull().sum() * 100/ len(train_df)),2).sort_values(ascending=False)"
      ],
      "execution_count": null,
      "outputs": [
        {
          "output_type": "execute_result",
          "data": {
            "text/plain": [
              "species         0.0\n",
              "petal_width     0.0\n",
              "petal_length    0.0\n",
              "sepal_width     0.0\n",
              "sepal_length    0.0\n",
              "dtype: float64"
            ]
          },
          "metadata": {},
          "execution_count": 8
        }
      ]
    },
    {
      "cell_type": "code",
      "metadata": {
        "colab": {
          "base_uri": "https://localhost:8080/"
        },
        "id": "hQN8Z34SwG90",
        "outputId": "bf75fe61-d122-4c5c-8297-f48b8386587f"
      },
      "source": [
        "round((test_df.isnull().sum() * 100/ len(test_df)),2).sort_values(ascending=False)"
      ],
      "execution_count": null,
      "outputs": [
        {
          "output_type": "execute_result",
          "data": {
            "text/plain": [
              "species         0.0\n",
              "petal_width     0.0\n",
              "petal_length    0.0\n",
              "sepal_width     0.0\n",
              "sepal_length    0.0\n",
              "dtype: float64"
            ]
          },
          "metadata": {},
          "execution_count": 9
        }
      ]
    },
    {
      "cell_type": "markdown",
      "metadata": {
        "id": "M2YJ63wLwSPS"
      },
      "source": [
        "# ***Converting Back to H2O***"
      ]
    },
    {
      "cell_type": "code",
      "metadata": {
        "colab": {
          "base_uri": "https://localhost:8080/"
        },
        "id": "petLMDTrwXWZ",
        "outputId": "ef61fbb9-0334-4fe9-d8a8-f8f59e510098"
      },
      "source": [
        "train = h2o.H2OFrame(train_df)\n",
        "test = h2o.H2OFrame(test_df)\n"
      ],
      "execution_count": null,
      "outputs": [
        {
          "output_type": "stream",
          "name": "stdout",
          "text": [
            "Parse progress: |████████████████████████████████████████████████████████████████| (done) 100%\n",
            "Parse progress: |████████████████████████████████████████████████████████████████| (done) 100%\n"
          ]
        }
      ]
    },
    {
      "cell_type": "markdown",
      "metadata": {
        "id": "iFfmRQAstKsD"
      },
      "source": [
        "# ***Identifying predictors and response variables***"
      ]
    },
    {
      "cell_type": "code",
      "metadata": {
        "id": "lr3Ud6SutKMw"
      },
      "source": [
        "x = train.columns\n",
        "y = \"species\"\n",
        "x.remove(y)"
      ],
      "execution_count": null,
      "outputs": []
    },
    {
      "cell_type": "markdown",
      "metadata": {
        "id": "LYEAnxl8ZBXJ"
      },
      "source": [
        "# ***Building Model***"
      ]
    },
    {
      "cell_type": "code",
      "metadata": {
        "colab": {
          "base_uri": "https://localhost:8080/",
          "height": 1000
        },
        "id": "q6j-wMUZwrSz",
        "outputId": "436dc20f-59c5-4b30-d031-7eae818e7d36"
      },
      "source": [
        "#Run AutoML for 10 base models. \n",
        "#The ‘max_models’ argument specifies the number of individuals (or “base”) models and \n",
        "# does not include any ensemble models that can be trained separately.\n",
        "\n",
        "model = H2OAutoML(max_models=10, seed=1)\n",
        "\n",
        "model.train(x=x, y=y, training_frame=train)"
      ],
      "execution_count": null,
      "outputs": [
        {
          "output_type": "stream",
          "name": "stdout",
          "text": [
            "AutoML progress: |██\n",
            "09:41:40.635: Skipping training of model GBM_1_AutoML_1_20211003_94135 due to exception: water.exceptions.H2OModelBuilderIllegalArgumentException: Illegal argument(s) for GBM model: GBM_1_AutoML_1_20211003_94135.  Details: ERRR on field: _min_rows: The dataset size is too small to split for min_rows=100.0: must have at least 200.0 (weighted) rows, but have only 120.0.\n",
            "\n",
            "\n",
            "█████████████████████████████████████████████████████████████| (done) 100%\n",
            "Model Details\n",
            "=============\n",
            "H2OGradientBoostingEstimator :  Gradient Boosting Machine\n",
            "Model Key:  GBM_3_AutoML_1_20211003_94135\n",
            "\n",
            "\n",
            "Model Summary: \n"
          ]
        },
        {
          "output_type": "display_data",
          "data": {
            "text/html": [
              "<div>\n",
              "<style scoped>\n",
              "    .dataframe tbody tr th:only-of-type {\n",
              "        vertical-align: middle;\n",
              "    }\n",
              "\n",
              "    .dataframe tbody tr th {\n",
              "        vertical-align: top;\n",
              "    }\n",
              "\n",
              "    .dataframe thead th {\n",
              "        text-align: right;\n",
              "    }\n",
              "</style>\n",
              "<table border=\"1\" class=\"dataframe\">\n",
              "  <thead>\n",
              "    <tr style=\"text-align: right;\">\n",
              "      <th></th>\n",
              "      <th></th>\n",
              "      <th>number_of_trees</th>\n",
              "      <th>number_of_internal_trees</th>\n",
              "      <th>model_size_in_bytes</th>\n",
              "      <th>min_depth</th>\n",
              "      <th>max_depth</th>\n",
              "      <th>mean_depth</th>\n",
              "      <th>min_leaves</th>\n",
              "      <th>max_leaves</th>\n",
              "      <th>mean_leaves</th>\n",
              "    </tr>\n",
              "  </thead>\n",
              "  <tbody>\n",
              "    <tr>\n",
              "      <th>0</th>\n",
              "      <td></td>\n",
              "      <td>52.0</td>\n",
              "      <td>52.0</td>\n",
              "      <td>7775.0</td>\n",
              "      <td>3.0</td>\n",
              "      <td>7.0</td>\n",
              "      <td>4.25</td>\n",
              "      <td>5.0</td>\n",
              "      <td>9.0</td>\n",
              "      <td>7.25</td>\n",
              "    </tr>\n",
              "  </tbody>\n",
              "</table>\n",
              "</div>"
            ],
            "text/plain": [
              "     number_of_trees  ...  max_leaves  mean_leaves\n",
              "0               52.0  ...         9.0         7.25\n",
              "\n",
              "[1 rows x 10 columns]"
            ]
          },
          "metadata": {}
        },
        {
          "output_type": "stream",
          "name": "stdout",
          "text": [
            "\n",
            "\n",
            "ModelMetricsRegression: gbm\n",
            "** Reported on train data. **\n",
            "\n",
            "MSE: 0.01602248059869857\n",
            "RMSE: 0.12657993758372046\n",
            "MAE: 0.059342198282017006\n",
            "RMSLE: 0.05253257656016319\n",
            "Mean Residual Deviance: 0.01602248059869857\n",
            "\n",
            "ModelMetricsRegression: gbm\n",
            "** Reported on cross-validation data. **\n",
            "\n",
            "MSE: 0.04139076118614878\n",
            "RMSE: 0.2034471950805633\n",
            "MAE: 0.09632347901652484\n",
            "RMSLE: 0.08447326457411226\n",
            "Mean Residual Deviance: 0.04139076118614878\n",
            "\n",
            "Cross-Validation Metrics Summary: \n"
          ]
        },
        {
          "output_type": "display_data",
          "data": {
            "text/html": [
              "<div>\n",
              "<style scoped>\n",
              "    .dataframe tbody tr th:only-of-type {\n",
              "        vertical-align: middle;\n",
              "    }\n",
              "\n",
              "    .dataframe tbody tr th {\n",
              "        vertical-align: top;\n",
              "    }\n",
              "\n",
              "    .dataframe thead th {\n",
              "        text-align: right;\n",
              "    }\n",
              "</style>\n",
              "<table border=\"1\" class=\"dataframe\">\n",
              "  <thead>\n",
              "    <tr style=\"text-align: right;\">\n",
              "      <th></th>\n",
              "      <th></th>\n",
              "      <th>mean</th>\n",
              "      <th>sd</th>\n",
              "      <th>cv_1_valid</th>\n",
              "      <th>cv_2_valid</th>\n",
              "      <th>cv_3_valid</th>\n",
              "      <th>cv_4_valid</th>\n",
              "      <th>cv_5_valid</th>\n",
              "    </tr>\n",
              "  </thead>\n",
              "  <tbody>\n",
              "    <tr>\n",
              "      <th>0</th>\n",
              "      <td>mae</td>\n",
              "      <td>0.096824</td>\n",
              "      <td>0.020378</td>\n",
              "      <td>0.089944</td>\n",
              "      <td>0.066741</td>\n",
              "      <td>0.096408</td>\n",
              "      <td>0.117739</td>\n",
              "      <td>0.113290</td>\n",
              "    </tr>\n",
              "    <tr>\n",
              "      <th>1</th>\n",
              "      <td>mean_residual_deviance</td>\n",
              "      <td>0.042037</td>\n",
              "      <td>0.019317</td>\n",
              "      <td>0.041605</td>\n",
              "      <td>0.012574</td>\n",
              "      <td>0.043179</td>\n",
              "      <td>0.066651</td>\n",
              "      <td>0.046178</td>\n",
              "    </tr>\n",
              "    <tr>\n",
              "      <th>2</th>\n",
              "      <td>mse</td>\n",
              "      <td>0.042037</td>\n",
              "      <td>0.019317</td>\n",
              "      <td>0.041605</td>\n",
              "      <td>0.012574</td>\n",
              "      <td>0.043179</td>\n",
              "      <td>0.066651</td>\n",
              "      <td>0.046178</td>\n",
              "    </tr>\n",
              "    <tr>\n",
              "      <th>3</th>\n",
              "      <td>r2</td>\n",
              "      <td>0.940934</td>\n",
              "      <td>0.026080</td>\n",
              "      <td>0.947331</td>\n",
              "      <td>0.972462</td>\n",
              "      <td>0.944360</td>\n",
              "      <td>0.900023</td>\n",
              "      <td>0.940496</td>\n",
              "    </tr>\n",
              "    <tr>\n",
              "      <th>4</th>\n",
              "      <td>residual_deviance</td>\n",
              "      <td>0.042037</td>\n",
              "      <td>0.019317</td>\n",
              "      <td>0.041605</td>\n",
              "      <td>0.012574</td>\n",
              "      <td>0.043179</td>\n",
              "      <td>0.066651</td>\n",
              "      <td>0.046178</td>\n",
              "    </tr>\n",
              "    <tr>\n",
              "      <th>5</th>\n",
              "      <td>rmse</td>\n",
              "      <td>0.199392</td>\n",
              "      <td>0.053387</td>\n",
              "      <td>0.203974</td>\n",
              "      <td>0.112133</td>\n",
              "      <td>0.207796</td>\n",
              "      <td>0.258169</td>\n",
              "      <td>0.214891</td>\n",
              "    </tr>\n",
              "    <tr>\n",
              "      <th>6</th>\n",
              "      <td>rmsle</td>\n",
              "      <td>0.082959</td>\n",
              "      <td>0.020788</td>\n",
              "      <td>0.079333</td>\n",
              "      <td>0.050266</td>\n",
              "      <td>0.087142</td>\n",
              "      <td>0.106534</td>\n",
              "      <td>0.091522</td>\n",
              "    </tr>\n",
              "  </tbody>\n",
              "</table>\n",
              "</div>"
            ],
            "text/plain": [
              "                               mean  ...  cv_4_valid  cv_5_valid\n",
              "0                     mae  0.096824  ...    0.117739    0.113290\n",
              "1  mean_residual_deviance  0.042037  ...    0.066651    0.046178\n",
              "2                     mse  0.042037  ...    0.066651    0.046178\n",
              "3                      r2  0.940934  ...    0.900023    0.940496\n",
              "4       residual_deviance  0.042037  ...    0.066651    0.046178\n",
              "5                    rmse  0.199392  ...    0.258169    0.214891\n",
              "6                   rmsle  0.082959  ...    0.106534    0.091522\n",
              "\n",
              "[7 rows x 8 columns]"
            ]
          },
          "metadata": {}
        },
        {
          "output_type": "stream",
          "name": "stdout",
          "text": [
            "\n",
            "Scoring History: \n"
          ]
        },
        {
          "output_type": "display_data",
          "data": {
            "text/html": [
              "<div>\n",
              "<style scoped>\n",
              "    .dataframe tbody tr th:only-of-type {\n",
              "        vertical-align: middle;\n",
              "    }\n",
              "\n",
              "    .dataframe tbody tr th {\n",
              "        vertical-align: top;\n",
              "    }\n",
              "\n",
              "    .dataframe thead th {\n",
              "        text-align: right;\n",
              "    }\n",
              "</style>\n",
              "<table border=\"1\" class=\"dataframe\">\n",
              "  <thead>\n",
              "    <tr style=\"text-align: right;\">\n",
              "      <th></th>\n",
              "      <th></th>\n",
              "      <th>timestamp</th>\n",
              "      <th>duration</th>\n",
              "      <th>number_of_trees</th>\n",
              "      <th>training_rmse</th>\n",
              "      <th>training_mae</th>\n",
              "      <th>training_deviance</th>\n",
              "    </tr>\n",
              "  </thead>\n",
              "  <tbody>\n",
              "    <tr>\n",
              "      <th>0</th>\n",
              "      <td></td>\n",
              "      <td>2021-10-03 09:41:48</td>\n",
              "      <td>0.677 sec</td>\n",
              "      <td>0.0</td>\n",
              "      <td>0.836660</td>\n",
              "      <td>0.700000</td>\n",
              "      <td>0.700000</td>\n",
              "    </tr>\n",
              "    <tr>\n",
              "      <th>1</th>\n",
              "      <td></td>\n",
              "      <td>2021-10-03 09:41:48</td>\n",
              "      <td>0.690 sec</td>\n",
              "      <td>5.0</td>\n",
              "      <td>0.517176</td>\n",
              "      <td>0.441700</td>\n",
              "      <td>0.267471</td>\n",
              "    </tr>\n",
              "    <tr>\n",
              "      <th>2</th>\n",
              "      <td></td>\n",
              "      <td>2021-10-03 09:41:48</td>\n",
              "      <td>0.701 sec</td>\n",
              "      <td>10.0</td>\n",
              "      <td>0.333520</td>\n",
              "      <td>0.286100</td>\n",
              "      <td>0.111236</td>\n",
              "    </tr>\n",
              "    <tr>\n",
              "      <th>3</th>\n",
              "      <td></td>\n",
              "      <td>2021-10-03 09:41:48</td>\n",
              "      <td>0.719 sec</td>\n",
              "      <td>15.0</td>\n",
              "      <td>0.233365</td>\n",
              "      <td>0.192107</td>\n",
              "      <td>0.054459</td>\n",
              "    </tr>\n",
              "    <tr>\n",
              "      <th>4</th>\n",
              "      <td></td>\n",
              "      <td>2021-10-03 09:41:48</td>\n",
              "      <td>0.741 sec</td>\n",
              "      <td>20.0</td>\n",
              "      <td>0.183974</td>\n",
              "      <td>0.137112</td>\n",
              "      <td>0.033846</td>\n",
              "    </tr>\n",
              "    <tr>\n",
              "      <th>5</th>\n",
              "      <td></td>\n",
              "      <td>2021-10-03 09:41:48</td>\n",
              "      <td>0.755 sec</td>\n",
              "      <td>25.0</td>\n",
              "      <td>0.159441</td>\n",
              "      <td>0.099831</td>\n",
              "      <td>0.025421</td>\n",
              "    </tr>\n",
              "    <tr>\n",
              "      <th>6</th>\n",
              "      <td></td>\n",
              "      <td>2021-10-03 09:41:48</td>\n",
              "      <td>0.767 sec</td>\n",
              "      <td>30.0</td>\n",
              "      <td>0.147729</td>\n",
              "      <td>0.079077</td>\n",
              "      <td>0.021824</td>\n",
              "    </tr>\n",
              "    <tr>\n",
              "      <th>7</th>\n",
              "      <td></td>\n",
              "      <td>2021-10-03 09:41:48</td>\n",
              "      <td>0.785 sec</td>\n",
              "      <td>35.0</td>\n",
              "      <td>0.140123</td>\n",
              "      <td>0.065015</td>\n",
              "      <td>0.019634</td>\n",
              "    </tr>\n",
              "    <tr>\n",
              "      <th>8</th>\n",
              "      <td></td>\n",
              "      <td>2021-10-03 09:41:48</td>\n",
              "      <td>0.795 sec</td>\n",
              "      <td>40.0</td>\n",
              "      <td>0.135334</td>\n",
              "      <td>0.062306</td>\n",
              "      <td>0.018315</td>\n",
              "    </tr>\n",
              "    <tr>\n",
              "      <th>9</th>\n",
              "      <td></td>\n",
              "      <td>2021-10-03 09:41:48</td>\n",
              "      <td>0.805 sec</td>\n",
              "      <td>45.0</td>\n",
              "      <td>0.131053</td>\n",
              "      <td>0.060459</td>\n",
              "      <td>0.017175</td>\n",
              "    </tr>\n",
              "    <tr>\n",
              "      <th>10</th>\n",
              "      <td></td>\n",
              "      <td>2021-10-03 09:41:48</td>\n",
              "      <td>0.815 sec</td>\n",
              "      <td>50.0</td>\n",
              "      <td>0.127380</td>\n",
              "      <td>0.059621</td>\n",
              "      <td>0.016226</td>\n",
              "    </tr>\n",
              "    <tr>\n",
              "      <th>11</th>\n",
              "      <td></td>\n",
              "      <td>2021-10-03 09:41:48</td>\n",
              "      <td>0.822 sec</td>\n",
              "      <td>52.0</td>\n",
              "      <td>0.126580</td>\n",
              "      <td>0.059342</td>\n",
              "      <td>0.016022</td>\n",
              "    </tr>\n",
              "  </tbody>\n",
              "</table>\n",
              "</div>"
            ],
            "text/plain": [
              "                timestamp  ... training_mae  training_deviance\n",
              "0     2021-10-03 09:41:48  ...     0.700000           0.700000\n",
              "1     2021-10-03 09:41:48  ...     0.441700           0.267471\n",
              "2     2021-10-03 09:41:48  ...     0.286100           0.111236\n",
              "3     2021-10-03 09:41:48  ...     0.192107           0.054459\n",
              "4     2021-10-03 09:41:48  ...     0.137112           0.033846\n",
              "5     2021-10-03 09:41:48  ...     0.099831           0.025421\n",
              "6     2021-10-03 09:41:48  ...     0.079077           0.021824\n",
              "7     2021-10-03 09:41:48  ...     0.065015           0.019634\n",
              "8     2021-10-03 09:41:48  ...     0.062306           0.018315\n",
              "9     2021-10-03 09:41:48  ...     0.060459           0.017175\n",
              "10    2021-10-03 09:41:48  ...     0.059621           0.016226\n",
              "11    2021-10-03 09:41:48  ...     0.059342           0.016022\n",
              "\n",
              "[12 rows x 7 columns]"
            ]
          },
          "metadata": {}
        },
        {
          "output_type": "stream",
          "name": "stdout",
          "text": [
            "\n",
            "Variable Importances: \n"
          ]
        },
        {
          "output_type": "display_data",
          "data": {
            "text/html": [
              "<div>\n",
              "<style scoped>\n",
              "    .dataframe tbody tr th:only-of-type {\n",
              "        vertical-align: middle;\n",
              "    }\n",
              "\n",
              "    .dataframe tbody tr th {\n",
              "        vertical-align: top;\n",
              "    }\n",
              "\n",
              "    .dataframe thead th {\n",
              "        text-align: right;\n",
              "    }\n",
              "</style>\n",
              "<table border=\"1\" class=\"dataframe\">\n",
              "  <thead>\n",
              "    <tr style=\"text-align: right;\">\n",
              "      <th></th>\n",
              "      <th>variable</th>\n",
              "      <th>relative_importance</th>\n",
              "      <th>scaled_importance</th>\n",
              "      <th>percentage</th>\n",
              "    </tr>\n",
              "  </thead>\n",
              "  <tbody>\n",
              "    <tr>\n",
              "      <th>0</th>\n",
              "      <td>petal_length</td>\n",
              "      <td>231.799316</td>\n",
              "      <td>1.000000</td>\n",
              "      <td>0.556579</td>\n",
              "    </tr>\n",
              "    <tr>\n",
              "      <th>1</th>\n",
              "      <td>petal_width</td>\n",
              "      <td>136.574234</td>\n",
              "      <td>0.589192</td>\n",
              "      <td>0.327932</td>\n",
              "    </tr>\n",
              "    <tr>\n",
              "      <th>2</th>\n",
              "      <td>sepal_length</td>\n",
              "      <td>45.215157</td>\n",
              "      <td>0.195062</td>\n",
              "      <td>0.108567</td>\n",
              "    </tr>\n",
              "    <tr>\n",
              "      <th>3</th>\n",
              "      <td>sepal_width</td>\n",
              "      <td>2.882827</td>\n",
              "      <td>0.012437</td>\n",
              "      <td>0.006922</td>\n",
              "    </tr>\n",
              "  </tbody>\n",
              "</table>\n",
              "</div>"
            ],
            "text/plain": [
              "       variable  relative_importance  scaled_importance  percentage\n",
              "0  petal_length           231.799316           1.000000    0.556579\n",
              "1   petal_width           136.574234           0.589192    0.327932\n",
              "2  sepal_length            45.215157           0.195062    0.108567\n",
              "3   sepal_width             2.882827           0.012437    0.006922"
            ]
          },
          "metadata": {}
        },
        {
          "output_type": "execute_result",
          "data": {
            "text/plain": [
              ""
            ]
          },
          "metadata": {},
          "execution_count": 12
        }
      ]
    },
    {
      "cell_type": "markdown",
      "metadata": {
        "id": "Ou5dlOxbx197"
      },
      "source": [
        "# ***LeaderBoard***"
      ]
    },
    {
      "cell_type": "code",
      "metadata": {
        "colab": {
          "base_uri": "https://localhost:8080/",
          "height": 381
        },
        "id": "YEtio82Px5vE",
        "outputId": "689a1ca5-e767-4d5e-f490-c02bcf02b49f"
      },
      "source": [
        "lb = model.leaderboard\n",
        "lb.head(rows=lb.nrows)\n",
        "\n",
        "#the AutoML leaderboard uses cross-validation metrics to rank the models.\n",
        "#A default performance metric for each machine learning task (binary classification, multiclass classification, regression) is specified internally and the leaderboard will be sorted by that metric."
      ],
      "execution_count": null,
      "outputs": [
        {
          "output_type": "display_data",
          "data": {
            "text/html": [
              "<table>\n",
              "<thead>\n",
              "<tr><th>model_id                                              </th><th style=\"text-align: right;\">  mean_residual_deviance</th><th style=\"text-align: right;\">    rmse</th><th style=\"text-align: right;\">      mse</th><th style=\"text-align: right;\">      mae</th><th style=\"text-align: right;\">    rmsle</th></tr>\n",
              "</thead>\n",
              "<tbody>\n",
              "<tr><td>GBM_3_AutoML_1_20211003_94135                         </td><td style=\"text-align: right;\">               0.0413908</td><td style=\"text-align: right;\">0.203447</td><td style=\"text-align: right;\">0.0413908</td><td style=\"text-align: right;\">0.0963235</td><td style=\"text-align: right;\">0.0844733</td></tr>\n",
              "<tr><td>StackedEnsemble_BestOfFamily_2_AutoML_1_20211003_94135</td><td style=\"text-align: right;\">               0.0435157</td><td style=\"text-align: right;\">0.208604</td><td style=\"text-align: right;\">0.0435157</td><td style=\"text-align: right;\">0.111959 </td><td style=\"text-align: right;\">0.0867799</td></tr>\n",
              "<tr><td>XRT_1_AutoML_1_20211003_94135                         </td><td style=\"text-align: right;\">               0.0437663</td><td style=\"text-align: right;\">0.209204</td><td style=\"text-align: right;\">0.0437663</td><td style=\"text-align: right;\">0.102894 </td><td style=\"text-align: right;\">0.0932417</td></tr>\n",
              "<tr><td>GBM_5_AutoML_1_20211003_94135                         </td><td style=\"text-align: right;\">               0.0440977</td><td style=\"text-align: right;\">0.209995</td><td style=\"text-align: right;\">0.0440977</td><td style=\"text-align: right;\">0.0845074</td><td style=\"text-align: right;\">0.0878595</td></tr>\n",
              "<tr><td>GBM_4_AutoML_1_20211003_94135                         </td><td style=\"text-align: right;\">               0.0442138</td><td style=\"text-align: right;\">0.210271</td><td style=\"text-align: right;\">0.0442138</td><td style=\"text-align: right;\">0.0972939</td><td style=\"text-align: right;\">0.0874621</td></tr>\n",
              "<tr><td>GBM_2_AutoML_1_20211003_94135                         </td><td style=\"text-align: right;\">               0.0445667</td><td style=\"text-align: right;\">0.211108</td><td style=\"text-align: right;\">0.0445667</td><td style=\"text-align: right;\">0.101614 </td><td style=\"text-align: right;\">0.0879863</td></tr>\n",
              "<tr><td>DRF_1_AutoML_1_20211003_94135                         </td><td style=\"text-align: right;\">               0.0453852</td><td style=\"text-align: right;\">0.213038</td><td style=\"text-align: right;\">0.0453852</td><td style=\"text-align: right;\">0.0937839</td><td style=\"text-align: right;\">0.088816 </td></tr>\n",
              "<tr><td>StackedEnsemble_BestOfFamily_3_AutoML_1_20211003_94135</td><td style=\"text-align: right;\">               0.047814 </td><td style=\"text-align: right;\">0.218664</td><td style=\"text-align: right;\">0.047814 </td><td style=\"text-align: right;\">0.121866 </td><td style=\"text-align: right;\">0.091877 </td></tr>\n",
              "<tr><td>StackedEnsemble_BestOfFamily_1_AutoML_1_20211003_94135</td><td style=\"text-align: right;\">               0.0486648</td><td style=\"text-align: right;\">0.220601</td><td style=\"text-align: right;\">0.0486648</td><td style=\"text-align: right;\">0.15236  </td><td style=\"text-align: right;\">0.0980817</td></tr>\n",
              "<tr><td>GLM_1_AutoML_1_20211003_94135                         </td><td style=\"text-align: right;\">               0.0496117</td><td style=\"text-align: right;\">0.222737</td><td style=\"text-align: right;\">0.0496117</td><td style=\"text-align: right;\">0.165006 </td><td style=\"text-align: right;\">0.100136 </td></tr>\n",
              "<tr><td>StackedEnsemble_AllModels_2_AutoML_1_20211003_94135   </td><td style=\"text-align: right;\">               0.0566817</td><td style=\"text-align: right;\">0.238079</td><td style=\"text-align: right;\">0.0566817</td><td style=\"text-align: right;\">0.175801 </td><td style=\"text-align: right;\">0.119935 </td></tr>\n",
              "<tr><td>StackedEnsemble_AllModels_1_AutoML_1_20211003_94135   </td><td style=\"text-align: right;\">               0.0587456</td><td style=\"text-align: right;\">0.242375</td><td style=\"text-align: right;\">0.0587456</td><td style=\"text-align: right;\">0.180988 </td><td style=\"text-align: right;\">0.12352  </td></tr>\n",
              "<tr><td>XGBoost_2_AutoML_1_20211003_94135                     </td><td style=\"text-align: right;\">               0.0625429</td><td style=\"text-align: right;\">0.250086</td><td style=\"text-align: right;\">0.0625429</td><td style=\"text-align: right;\">0.132005 </td><td style=\"text-align: right;\">0.116267 </td></tr>\n",
              "<tr><td>XGBoost_1_AutoML_1_20211003_94135                     </td><td style=\"text-align: right;\">               0.0727972</td><td style=\"text-align: right;\">0.26981 </td><td style=\"text-align: right;\">0.0727972</td><td style=\"text-align: right;\">0.142506 </td><td style=\"text-align: right;\">0.133604 </td></tr>\n",
              "<tr><td>XGBoost_3_AutoML_1_20211003_94135                     </td><td style=\"text-align: right;\">               0.0795496</td><td style=\"text-align: right;\">0.282045</td><td style=\"text-align: right;\">0.0795496</td><td style=\"text-align: right;\">0.132117 </td><td style=\"text-align: right;\">0.136752 </td></tr>\n",
              "</tbody>\n",
              "</table>"
            ]
          },
          "metadata": {}
        },
        {
          "output_type": "execute_result",
          "data": {
            "text/plain": [
              ""
            ]
          },
          "metadata": {},
          "execution_count": 13
        }
      ]
    },
    {
      "cell_type": "markdown",
      "metadata": {
        "id": "qwBINRzNyAgR"
      },
      "source": [
        "# ***Predictions***"
      ]
    },
    {
      "cell_type": "code",
      "metadata": {
        "colab": {
          "base_uri": "https://localhost:8080/"
        },
        "id": "qtbqWtP9yDK2",
        "outputId": "3f4c57f4-2787-4130-86e7-2c4b545ad643"
      },
      "source": [
        "preds = model.predict(test)"
      ],
      "execution_count": null,
      "outputs": [
        {
          "output_type": "stream",
          "name": "stdout",
          "text": [
            "gbm prediction progress: |███████████████████████████████████████████████████████| (done) 100%\n"
          ]
        }
      ]
    },
    {
      "cell_type": "code",
      "metadata": {
        "colab": {
          "base_uri": "https://localhost:8080/",
          "height": 254
        },
        "id": "8NWzM4zOyIIy",
        "outputId": "9fbc8af1-b782-4f63-a345-237ccbf4513b"
      },
      "source": [
        "df = test.cbind(preds)\n",
        "df"
      ],
      "execution_count": null,
      "outputs": [
        {
          "output_type": "display_data",
          "data": {
            "text/html": [
              "<table>\n",
              "<thead>\n",
              "<tr><th style=\"text-align: right;\">  sepal_length</th><th style=\"text-align: right;\">  sepal_width</th><th style=\"text-align: right;\">  petal_length</th><th style=\"text-align: right;\">  petal_width</th><th style=\"text-align: right;\">  species</th><th style=\"text-align: right;\">    predict</th></tr>\n",
              "</thead>\n",
              "<tbody>\n",
              "<tr><td style=\"text-align: right;\">           5.9</td><td style=\"text-align: right;\">          3  </td><td style=\"text-align: right;\">           4.2</td><td style=\"text-align: right;\">          1.5</td><td style=\"text-align: right;\">        1</td><td style=\"text-align: right;\"> 0.958266  </td></tr>\n",
              "<tr><td style=\"text-align: right;\">           6.9</td><td style=\"text-align: right;\">          3.1</td><td style=\"text-align: right;\">           5.4</td><td style=\"text-align: right;\">          2.1</td><td style=\"text-align: right;\">        2</td><td style=\"text-align: right;\"> 1.95296   </td></tr>\n",
              "<tr><td style=\"text-align: right;\">           5.1</td><td style=\"text-align: right;\">          3.3</td><td style=\"text-align: right;\">           1.7</td><td style=\"text-align: right;\">          0.5</td><td style=\"text-align: right;\">        0</td><td style=\"text-align: right;\"> 0.00631743</td></tr>\n",
              "<tr><td style=\"text-align: right;\">           6  </td><td style=\"text-align: right;\">          3.4</td><td style=\"text-align: right;\">           4.5</td><td style=\"text-align: right;\">          1.6</td><td style=\"text-align: right;\">        1</td><td style=\"text-align: right;\"> 0.966715  </td></tr>\n",
              "<tr><td style=\"text-align: right;\">           5.5</td><td style=\"text-align: right;\">          2.5</td><td style=\"text-align: right;\">           4  </td><td style=\"text-align: right;\">          1.3</td><td style=\"text-align: right;\">        1</td><td style=\"text-align: right;\"> 1.08574   </td></tr>\n",
              "<tr><td style=\"text-align: right;\">           6.2</td><td style=\"text-align: right;\">          2.9</td><td style=\"text-align: right;\">           4.3</td><td style=\"text-align: right;\">          1.3</td><td style=\"text-align: right;\">        1</td><td style=\"text-align: right;\"> 0.972367  </td></tr>\n",
              "<tr><td style=\"text-align: right;\">           5.5</td><td style=\"text-align: right;\">          4.2</td><td style=\"text-align: right;\">           1.4</td><td style=\"text-align: right;\">          0.2</td><td style=\"text-align: right;\">        0</td><td style=\"text-align: right;\">-0.0141336 </td></tr>\n",
              "<tr><td style=\"text-align: right;\">           6.3</td><td style=\"text-align: right;\">          2.8</td><td style=\"text-align: right;\">           5.1</td><td style=\"text-align: right;\">          1.5</td><td style=\"text-align: right;\">        2</td><td style=\"text-align: right;\"> 1.39429   </td></tr>\n",
              "<tr><td style=\"text-align: right;\">           5.6</td><td style=\"text-align: right;\">          3  </td><td style=\"text-align: right;\">           4.1</td><td style=\"text-align: right;\">          1.3</td><td style=\"text-align: right;\">        1</td><td style=\"text-align: right;\"> 0.955862  </td></tr>\n",
              "<tr><td style=\"text-align: right;\">           6.7</td><td style=\"text-align: right;\">          2.5</td><td style=\"text-align: right;\">           5.8</td><td style=\"text-align: right;\">          1.8</td><td style=\"text-align: right;\">        2</td><td style=\"text-align: right;\"> 2.09007   </td></tr>\n",
              "</tbody>\n",
              "</table>"
            ]
          },
          "metadata": {}
        },
        {
          "output_type": "execute_result",
          "data": {
            "text/plain": [
              ""
            ]
          },
          "metadata": {},
          "execution_count": 15
        }
      ]
    },
    {
      "cell_type": "markdown",
      "metadata": {
        "id": "ysBgJxnuyY19"
      },
      "source": [
        "# ***Saving Result***"
      ]
    },
    {
      "cell_type": "code",
      "metadata": {
        "colab": {
          "base_uri": "https://localhost:8080/"
        },
        "id": "blQubjaGycy_",
        "outputId": "12936adf-63da-44ec-bcf6-a071f55a74d8"
      },
      "source": [
        "h2o.export_file(df, path = \"iris_submission.csv\", force = True)"
      ],
      "execution_count": null,
      "outputs": [
        {
          "output_type": "stream",
          "name": "stdout",
          "text": [
            "Export File progress: |██████████████████████████████████████████████████████████| (done) 100%\n"
          ]
        }
      ]
    },
    {
      "cell_type": "markdown",
      "metadata": {
        "id": "gPeXYbM6ym9r"
      },
      "source": [
        "# ***Saving LeaderBoard***"
      ]
    },
    {
      "cell_type": "markdown",
      "metadata": {
        "id": "pjHSFGp8aFl7"
      },
      "source": [
        "There are two ways to save the leader model — binary format and MOJO format. If you’re taking your leader model to production, then it’s suggested MOJO format since it’s optimized for production use."
      ]
    },
    {
      "cell_type": "code",
      "metadata": {
        "colab": {
          "base_uri": "https://localhost:8080/",
          "height": 35
        },
        "id": "_5POS-g1yq0N",
        "outputId": "f6064ca6-115f-47b0-b39f-31322506cbea"
      },
      "source": [
        "h2o.save_model(model.leader, path = \"h2o_classification_model\")"
      ],
      "execution_count": null,
      "outputs": [
        {
          "output_type": "execute_result",
          "data": {
            "application/vnd.google.colaboratory.intrinsic+json": {
              "type": "string"
            },
            "text/plain": [
              "'/content/h2o_classification_model/GBM_3_AutoML_1_20211003_94135'"
            ]
          },
          "metadata": {},
          "execution_count": 18
        }
      ]
    },
    {
      "cell_type": "markdown",
      "metadata": {
        "id": "jdm95umry1J6"
      },
      "source": [
        "# ***Downloading Leaderboard***"
      ]
    },
    {
      "cell_type": "code",
      "metadata": {
        "colab": {
          "base_uri": "https://localhost:8080/",
          "height": 35
        },
        "id": "gnmpvCFGy1kn",
        "outputId": "b3fd99b7-1951-4399-8cf2-966252309434"
      },
      "source": [
        "model.leader.download_mojo(path = \"h2o_classification_model\")"
      ],
      "execution_count": null,
      "outputs": [
        {
          "output_type": "execute_result",
          "data": {
            "application/vnd.google.colaboratory.intrinsic+json": {
              "type": "string"
            },
            "text/plain": [
              "'/content/h2o_classification_model/GBM_3_AutoML_1_20211003_94135.zip'"
            ]
          },
          "metadata": {},
          "execution_count": 19
        }
      ]
    },
    {
      "cell_type": "markdown",
      "metadata": {
        "id": "WdbaquQCacf-"
      },
      "source": [
        "# ***Ensemble Exploration***"
      ]
    },
    {
      "cell_type": "markdown",
      "metadata": {
        "id": "3QBMxhKtafaz"
      },
      "source": [
        "Take a peek inside the Stacked Ensemble “All Models” model. The “All Models” ensemble is an ensemble of all of the individual models in the AutoML run. This is often the top-performing model on the leaderboard."
      ]
    },
    {
      "cell_type": "code",
      "metadata": {
        "id": "NL0Acb3Dakdw"
      },
      "source": [
        "# Get model ids for all models in the AutoML Leaderboard\n",
        "model_ids = list(model.leaderboard['model_id'].as_data_frame().iloc[:,0])\n"
      ],
      "execution_count": null,
      "outputs": []
    },
    {
      "cell_type": "code",
      "metadata": {
        "id": "Zc7RdDxQasE5"
      },
      "source": [
        "# Get the \"All Models\" Stacked Ensemble model\n",
        "se = h2o.get_model([mid for mid in model_ids if \"StackedEnsemble_AllModels\" in mid][0])\n"
      ],
      "execution_count": null,
      "outputs": []
    },
    {
      "cell_type": "code",
      "metadata": {
        "colab": {
          "base_uri": "https://localhost:8080/"
        },
        "id": "KfXyqvtIatZH",
        "outputId": "7b2301f7-64d9-464a-ee58-0b72ef9c50db"
      },
      "source": [
        "# Get the Stacked Ensemble metalearner model\n",
        "metalearner = h2o.get_model(se.metalearner()['name'])"
      ],
      "execution_count": null,
      "outputs": [
        {
          "output_type": "stream",
          "name": "stderr",
          "text": [
            "/usr/local/lib/python3.7/dist-packages/h2o/estimators/stackedensemble.py:929: H2ODeprecationWarning: The usage of stacked_ensemble.metalearner()['name'] will be deprecated. Metalearner now returns the metalearner object. If you need to get the 'name' please use stacked_ensemble.metalearner().model_id\n",
            "  H2ODeprecationWarning\n"
          ]
        }
      ]
    },
    {
      "cell_type": "markdown",
      "metadata": {
        "id": "TdLvMJmmaxWt"
      },
      "source": [
        "Examining the variable importance of the metalearner (combiner) algorithm in the ensemble. This shows us how much each base learner is contributing to the ensemble. The AutoML Stacked Ensembles use the default metalearner algorithm (GLM with non-negative weights), so the variable importance of the metalearner is actually the standardized coefficient magnitudes of the GLM."
      ]
    },
    {
      "cell_type": "code",
      "metadata": {
        "colab": {
          "base_uri": "https://localhost:8080/"
        },
        "id": "agwM0aYPa5zD",
        "outputId": "e0d2da35-b4fd-4bd3-e7b8-f44ac6603ca8"
      },
      "source": [
        "metalearner.coef_norm()"
      ],
      "execution_count": null,
      "outputs": [
        {
          "output_type": "execute_result",
          "data": {
            "text/plain": [
              "{'DRF_1_AutoML_1_20211003_94135': 0.07759311172164117,\n",
              " 'GBM_2_AutoML_1_20211003_94135': 0.07445584409315267,\n",
              " 'GBM_3_AutoML_1_20211003_94135': 0.09433913269559831,\n",
              " 'GBM_4_AutoML_1_20211003_94135': 0.07824599595452054,\n",
              " 'GBM_5_AutoML_1_20211003_94135': 0.09711669903629148,\n",
              " 'GLM_1_AutoML_1_20211003_94135': 0.1282525491565113,\n",
              " 'Intercept': 1.0000000000000002,\n",
              " 'XGBoost_1_AutoML_1_20211003_94135': 0.03985043270842907,\n",
              " 'XGBoost_2_AutoML_1_20211003_94135': 0.03960155371568355,\n",
              " 'XGBoost_3_AutoML_1_20211003_94135': 0.022946848897330754,\n",
              " 'XRT_1_AutoML_1_20211003_94135': 0.07492495648409035}"
            ]
          },
          "metadata": {},
          "execution_count": 23
        }
      ]
    },
    {
      "cell_type": "code",
      "metadata": {
        "colab": {
          "base_uri": "https://localhost:8080/"
        },
        "id": "oX0fyBW9cysF",
        "outputId": "fb091ab5-93fd-417d-adb4-21467719b8a2"
      },
      "source": [
        "model_ids"
      ],
      "execution_count": null,
      "outputs": [
        {
          "output_type": "execute_result",
          "data": {
            "text/plain": [
              "['GBM_3_AutoML_1_20211003_94135',\n",
              " 'StackedEnsemble_BestOfFamily_2_AutoML_1_20211003_94135',\n",
              " 'XRT_1_AutoML_1_20211003_94135',\n",
              " 'GBM_5_AutoML_1_20211003_94135',\n",
              " 'GBM_4_AutoML_1_20211003_94135',\n",
              " 'GBM_2_AutoML_1_20211003_94135',\n",
              " 'DRF_1_AutoML_1_20211003_94135',\n",
              " 'StackedEnsemble_BestOfFamily_3_AutoML_1_20211003_94135',\n",
              " 'StackedEnsemble_BestOfFamily_1_AutoML_1_20211003_94135',\n",
              " 'GLM_1_AutoML_1_20211003_94135',\n",
              " 'StackedEnsemble_AllModels_2_AutoML_1_20211003_94135',\n",
              " 'StackedEnsemble_AllModels_1_AutoML_1_20211003_94135',\n",
              " 'XGBoost_2_AutoML_1_20211003_94135',\n",
              " 'XGBoost_1_AutoML_1_20211003_94135',\n",
              " 'XGBoost_3_AutoML_1_20211003_94135']"
            ]
          },
          "metadata": {},
          "execution_count": 24
        }
      ]
    },
    {
      "cell_type": "code",
      "metadata": {
        "id": "SRjQ6SgkdhHg"
      },
      "source": [
        "out = h2o.get_model([mid for mid in model_ids if \"XGBoost\" in mid][0])"
      ],
      "execution_count": null,
      "outputs": []
    },
    {
      "cell_type": "code",
      "metadata": {
        "colab": {
          "base_uri": "https://localhost:8080/"
        },
        "id": "cMmfR4VpdpjR",
        "outputId": "a80e4b75-c6b0-4bfe-f0f5-254b223f1cfa"
      },
      "source": [
        "out.params"
      ],
      "execution_count": null,
      "outputs": [
        {
          "output_type": "execute_result",
          "data": {
            "text/plain": [
              "{'auc_type': {'actual': 'AUTO', 'default': 'AUTO', 'input': 'AUTO'},\n",
              " 'backend': {'actual': 'gpu', 'default': 'auto', 'input': 'auto'},\n",
              " 'booster': {'actual': 'gbtree', 'default': 'gbtree', 'input': 'gbtree'},\n",
              " 'build_tree_one_node': {'actual': False, 'default': False, 'input': False},\n",
              " 'calibrate_model': {'actual': False, 'default': False, 'input': False},\n",
              " 'calibration_frame': {'actual': None, 'default': None, 'input': None},\n",
              " 'categorical_encoding': {'actual': 'OneHotInternal',\n",
              "  'default': 'AUTO',\n",
              "  'input': 'AUTO'},\n",
              " 'checkpoint': {'actual': None, 'default': None, 'input': None},\n",
              " 'col_sample_rate': {'actual': 0.8, 'default': 1.0, 'input': 0.8},\n",
              " 'col_sample_rate_per_tree': {'actual': 0.8, 'default': 1.0, 'input': 0.8},\n",
              " 'colsample_bylevel': {'actual': 0.8, 'default': 1.0, 'input': 1.0},\n",
              " 'colsample_bynode': {'actual': 1.0, 'default': 1.0, 'input': 1.0},\n",
              " 'colsample_bytree': {'actual': 0.8, 'default': 1.0, 'input': 1.0},\n",
              " 'distribution': {'actual': 'gaussian', 'default': 'AUTO', 'input': 'AUTO'},\n",
              " 'dmatrix_type': {'actual': 'dense', 'default': 'auto', 'input': 'auto'},\n",
              " 'eta': {'actual': 0.3, 'default': 0.3, 'input': 0.3},\n",
              " 'export_checkpoints_dir': {'actual': None, 'default': None, 'input': None},\n",
              " 'fold_assignment': {'actual': 'Modulo', 'default': 'AUTO', 'input': 'Modulo'},\n",
              " 'fold_column': {'actual': None, 'default': None, 'input': None},\n",
              " 'gainslift_bins': {'actual': -1, 'default': -1, 'input': -1},\n",
              " 'gamma': {'actual': 0.0, 'default': 0.0, 'input': 0.0},\n",
              " 'gpu_id': {'actual': None, 'default': None, 'input': None},\n",
              " 'grow_policy': {'actual': 'depthwise',\n",
              "  'default': 'depthwise',\n",
              "  'input': 'depthwise'},\n",
              " 'ignore_const_cols': {'actual': True, 'default': True, 'input': True},\n",
              " 'ignored_columns': {'actual': [], 'default': None, 'input': []},\n",
              " 'interaction_constraints': {'actual': None, 'default': None, 'input': None},\n",
              " 'keep_cross_validation_fold_assignment': {'actual': False,\n",
              "  'default': False,\n",
              "  'input': False},\n",
              " 'keep_cross_validation_models': {'actual': False,\n",
              "  'default': True,\n",
              "  'input': False},\n",
              " 'keep_cross_validation_predictions': {'actual': True,\n",
              "  'default': False,\n",
              "  'input': True},\n",
              " 'learn_rate': {'actual': 0.3, 'default': 0.3, 'input': 0.3},\n",
              " 'max_abs_leafnode_pred': {'actual': 0.0, 'default': 0.0, 'input': 0.0},\n",
              " 'max_bins': {'actual': 256, 'default': 256, 'input': 256},\n",
              " 'max_delta_step': {'actual': 0.0, 'default': 0.0, 'input': 0.0},\n",
              " 'max_depth': {'actual': 10, 'default': 6, 'input': 10},\n",
              " 'max_leaves': {'actual': 0, 'default': 0, 'input': 0},\n",
              " 'max_runtime_secs': {'actual': 0.0,\n",
              "  'default': 0.0,\n",
              "  'input': 1418980366223409.2},\n",
              " 'min_child_weight': {'actual': 5.0, 'default': 1.0, 'input': 1.0},\n",
              " 'min_rows': {'actual': 5.0, 'default': 1.0, 'input': 5.0},\n",
              " 'min_split_improvement': {'actual': 0.0, 'default': 0.0, 'input': 0.0},\n",
              " 'model_id': {'actual': {'URL': '/3/Models/XGBoost_2_AutoML_1_20211003_94135',\n",
              "   '__meta': {'schema_name': 'ModelKeyV3',\n",
              "    'schema_type': 'Key<Model>',\n",
              "    'schema_version': 3},\n",
              "   'name': 'XGBoost_2_AutoML_1_20211003_94135',\n",
              "   'type': 'Key<Model>'},\n",
              "  'default': None,\n",
              "  'input': None},\n",
              " 'monotone_constraints': {'actual': None, 'default': None, 'input': None},\n",
              " 'nfolds': {'actual': 5, 'default': 0, 'input': 5},\n",
              " 'normalize_type': {'actual': 'tree', 'default': 'tree', 'input': 'tree'},\n",
              " 'nthread': {'actual': -1, 'default': -1, 'input': -1},\n",
              " 'ntrees': {'actual': 34, 'default': 50, 'input': 10000},\n",
              " 'offset_column': {'actual': None, 'default': None, 'input': None},\n",
              " 'one_drop': {'actual': False, 'default': False, 'input': False},\n",
              " 'quiet_mode': {'actual': True, 'default': True, 'input': True},\n",
              " 'rate_drop': {'actual': 0.0, 'default': 0.0, 'input': 0.0},\n",
              " 'reg_alpha': {'actual': 0.0, 'default': 0.0, 'input': 0.0},\n",
              " 'reg_lambda': {'actual': 1.0, 'default': 1.0, 'input': 1.0},\n",
              " 'response_column': {'actual': {'__meta': {'schema_name': 'ColSpecifierV3',\n",
              "    'schema_type': 'VecSpecifier',\n",
              "    'schema_version': 3},\n",
              "   'column_name': 'species',\n",
              "   'is_member_of_frames': None},\n",
              "  'default': None,\n",
              "  'input': {'__meta': {'schema_name': 'ColSpecifierV3',\n",
              "    'schema_type': 'VecSpecifier',\n",
              "    'schema_version': 3},\n",
              "   'column_name': 'species',\n",
              "   'is_member_of_frames': None}},\n",
              " 'sample_rate': {'actual': 0.6, 'default': 1.0, 'input': 0.6},\n",
              " 'sample_type': {'actual': 'uniform',\n",
              "  'default': 'uniform',\n",
              "  'input': 'uniform'},\n",
              " 'save_matrix_directory': {'actual': None, 'default': None, 'input': None},\n",
              " 'scale_pos_weight': {'actual': 1.0, 'default': 1.0, 'input': 1.0},\n",
              " 'score_each_iteration': {'actual': False, 'default': False, 'input': False},\n",
              " 'score_tree_interval': {'actual': 5, 'default': 0, 'input': 5},\n",
              " 'seed': {'actual': 5, 'default': -1, 'input': 5},\n",
              " 'skip_drop': {'actual': 0.0, 'default': 0.0, 'input': 0.0},\n",
              " 'stopping_metric': {'actual': 'deviance',\n",
              "  'default': 'AUTO',\n",
              "  'input': 'deviance'},\n",
              " 'stopping_rounds': {'actual': 0, 'default': 0, 'input': 3},\n",
              " 'stopping_tolerance': {'actual': 0.05, 'default': 0.001, 'input': 0.05},\n",
              " 'subsample': {'actual': 0.6, 'default': 1.0, 'input': 1.0},\n",
              " 'training_frame': {'actual': {'URL': '/3/Frames/AutoML_1_20211003_94135_training_Key_Frame__upload_af23563ebdd66a3e2ef958644f841dd.hex',\n",
              "   '__meta': {'schema_name': 'FrameKeyV3',\n",
              "    'schema_type': 'Key<Frame>',\n",
              "    'schema_version': 3},\n",
              "   'name': 'AutoML_1_20211003_94135_training_Key_Frame__upload_af23563ebdd66a3e2ef958644f841dd.hex',\n",
              "   'type': 'Key<Frame>'},\n",
              "  'default': None,\n",
              "  'input': {'URL': '/3/Frames/AutoML_1_20211003_94135_training_Key_Frame__upload_af23563ebdd66a3e2ef958644f841dd.hex',\n",
              "   '__meta': {'schema_name': 'FrameKeyV3',\n",
              "    'schema_type': 'Key<Frame>',\n",
              "    'schema_version': 3},\n",
              "   'name': 'AutoML_1_20211003_94135_training_Key_Frame__upload_af23563ebdd66a3e2ef958644f841dd.hex',\n",
              "   'type': 'Key<Frame>'}},\n",
              " 'tree_method': {'actual': 'hist', 'default': 'auto', 'input': 'auto'},\n",
              " 'tweedie_power': {'actual': 1.5, 'default': 1.5, 'input': 1.5},\n",
              " 'validation_frame': {'actual': None, 'default': None, 'input': None},\n",
              " 'weights_column': {'actual': None, 'default': None, 'input': None}}"
            ]
          },
          "metadata": {},
          "execution_count": 26
        }
      ]
    },
    {
      "cell_type": "code",
      "metadata": {
        "colab": {
          "base_uri": "https://localhost:8080/"
        },
        "id": "ovN6dz_sdt8f",
        "outputId": "684fcfd5-a17b-4879-85a6-56cf53ff8fcc"
      },
      "source": [
        "out.convert_H2OXGBoostParams_2_XGBoostParams()"
      ],
      "execution_count": null,
      "outputs": [
        {
          "output_type": "execute_result",
          "data": {
            "text/plain": [
              "({'alpha': 0.0,\n",
              "  'booster': 'gbtree',\n",
              "  'colsample_bylevel': 0.8,\n",
              "  'colsample_bytree': 0.8,\n",
              "  'eta': 0.3,\n",
              "  'gamma': 0.0,\n",
              "  'gpu_id': 0,\n",
              "  'grow_policy': 'depthwise',\n",
              "  'lambda': 1.0,\n",
              "  'max_bin': 256,\n",
              "  'max_delta_step': 0.0,\n",
              "  'max_depth': 10,\n",
              "  'min_child_weight': 5.0,\n",
              "  'nround': 34,\n",
              "  'nthread': 2,\n",
              "  'objective': 'reg:squarederror',\n",
              "  'seed': 5,\n",
              "  'silent': True,\n",
              "  'subsample': 0.6,\n",
              "  'updater': 'grow_gpu_hist'},\n",
              " 34)"
            ]
          },
          "metadata": {},
          "execution_count": 27
        }
      ]
    },
    {
      "cell_type": "code",
      "metadata": {
        "id": "byFEEQ-qdyPO"
      },
      "source": [
        "out_gbm = h2o.get_model([mid for mid in model_ids if \"GBM\" in mid][0])"
      ],
      "execution_count": null,
      "outputs": []
    },
    {
      "cell_type": "code",
      "metadata": {
        "colab": {
          "base_uri": "https://localhost:8080/",
          "height": 448
        },
        "id": "bZkTvAvYd0kv",
        "outputId": "24625fc4-bd8f-4ba7-8c94-e2b01b9c9151"
      },
      "source": [
        "out.varimp_plot()"
      ],
      "execution_count": null,
      "outputs": [
        {
          "output_type": "display_data",
          "data": {
            "image/png": "[encoded data removed]",
            "text/plain": [
              "<Figure size 1008x720 with 1 Axes>"
            ]
          },
          "metadata": {
            "needs_background": "light"
          }
        }
      ]
    }
  ]
}