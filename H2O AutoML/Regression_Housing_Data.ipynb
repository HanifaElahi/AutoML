{
  "nbformat": 4,
  "nbformat_minor": 0,
  "metadata": {
    "colab": {
      "name": "Regression_Housing_Data.ipynb",
      "provenance": [],
      "collapsed_sections": [
        "4rwaZfnErgpx",
        "WuYW0CV2r425",
        "fS0ZD9FysFOz",
        "ETQOldQJsh0R",
        "TwDkvsqKs070",
        "M2YJ63wLwSPS",
        "iFfmRQAstKsD",
        "LYEAnxl8ZBXJ",
        "Ou5dlOxbx197",
        "qwBINRzNyAgR",
        "ysBgJxnuyY19",
        "gPeXYbM6ym9r",
        "jdm95umry1J6"
      ]
    },
    "kernelspec": {
      "name": "python3",
      "display_name": "Python 3"
    },
    "language_info": {
      "name": "python"
    },
    "accelerator": "GPU"
  },
  "cells": [
    {
      "cell_type": "markdown",
      "metadata": {
        "id": "bvNr6EoZqu_Y"
      },
      "source": [
        "# **Features of H2O**\n",
        "\n",
        "---\n",
        "\n",
        "\n",
        "\n",
        "*   It can do data pre-processing(categorical encoding conversion etc)\n",
        "*   It can take care of missing data imputation or other data cleaning activity\n",
        "*   Provides leaderboard with matrix\n",
        "*   It provides deployment ready code(MOJO is preferrable when model is large)\n",
        "\n",
        "\n",
        "\n"
      ]
    },
    {
      "cell_type": "markdown",
      "metadata": {
        "id": "4rwaZfnErgpx"
      },
      "source": [
        "# ***Installation***"
      ]
    },
    {
      "cell_type": "code",
      "metadata": {
        "colab": {
          "base_uri": "https://localhost:8080/"
        },
        "id": "cKIfh3lpqcq6",
        "outputId": "bc51f58a-6c36-448c-ba33-9e228999e3cc"
      },
      "source": [
        "!apt-get install default-jre\n",
        "!java -version\n",
        "!pip install h2o"
      ],
      "execution_count": null,
      "outputs": [
        {
          "output_type": "stream",
          "name": "stdout",
          "text": [
            "Reading package lists... Done\n",
            "Building dependency tree       \n",
            "Reading state information... Done\n",
            "default-jre is already the newest version (2:1.11-68ubuntu1~18.04.1).\n",
            "0 upgraded, 0 newly installed, 0 to remove and 37 not upgraded.\n",
            "openjdk version \"11.0.11\" 2021-04-20\n",
            "OpenJDK Runtime Environment (build 11.0.11+9-Ubuntu-0ubuntu2.18.04)\n",
            "OpenJDK 64-Bit Server VM (build 11.0.11+9-Ubuntu-0ubuntu2.18.04, mixed mode, sharing)\n",
            "Requirement already satisfied: h2o in /usr/local/lib/python3.7/dist-packages (3.34.0.1)\n",
            "Requirement already satisfied: future in /usr/local/lib/python3.7/dist-packages (from h2o) (0.16.0)\n",
            "Requirement already satisfied: requests in /usr/local/lib/python3.7/dist-packages (from h2o) (2.23.0)\n",
            "Requirement already satisfied: tabulate in /usr/local/lib/python3.7/dist-packages (from h2o) (0.8.9)\n",
            "Requirement already satisfied: chardet<4,>=3.0.2 in /usr/local/lib/python3.7/dist-packages (from requests->h2o) (3.0.4)\n",
            "Requirement already satisfied: idna<3,>=2.5 in /usr/local/lib/python3.7/dist-packages (from requests->h2o) (2.10)\n",
            "Requirement already satisfied: urllib3!=1.25.0,!=1.25.1,<1.26,>=1.21.1 in /usr/local/lib/python3.7/dist-packages (from requests->h2o) (1.24.3)\n",
            "Requirement already satisfied: certifi>=2017.4.17 in /usr/local/lib/python3.7/dist-packages (from requests->h2o) (2021.5.30)\n"
          ]
        }
      ]
    },
    {
      "cell_type": "markdown",
      "metadata": {
        "id": "WuYW0CV2r425"
      },
      "source": [
        "# ***Importing libraries***"
      ]
    },
    {
      "cell_type": "code",
      "metadata": {
        "id": "OQRN7Ybir23K"
      },
      "source": [
        "import h2o\n",
        "from h2o.automl import H2OAutoML\n",
        "import pandas as pd"
      ],
      "execution_count": null,
      "outputs": []
    },
    {
      "cell_type": "markdown",
      "metadata": {
        "id": "fS0ZD9FysFOz"
      },
      "source": [
        "# ***Initializing H2O Cluster***"
      ]
    },
    {
      "cell_type": "code",
      "metadata": {
        "colab": {
          "base_uri": "https://localhost:8080/"
        },
        "id": "ybmI4b9NsKGT",
        "outputId": "0e0bd981-50a7-4f46-a1cb-9afe4012f631"
      },
      "source": [
        "h2o.init()"
      ],
      "execution_count": null,
      "outputs": [
        {
          "output_type": "stream",
          "name": "stdout",
          "text": [
            "Checking whether there is an H2O instance running at http://localhost:54321 ..... not found.\n",
            "Attempting to start a local H2O server...\n",
            "  Java Version: openjdk version \"11.0.11\" 2021-04-20; OpenJDK Runtime Environment (build 11.0.11+9-Ubuntu-0ubuntu2.18.04); OpenJDK 64-Bit Server VM (build 11.0.11+9-Ubuntu-0ubuntu2.18.04, mixed mode, sharing)\n",
            "  Starting server from /usr/local/lib/python3.7/dist-packages/h2o/backend/bin/h2o.jar\n",
            "  Ice root: /tmp/tmp__dia4xw\n",
            "  JVM stdout: /tmp/tmp__dia4xw/h2o_unknownUser_started_from_python.out\n",
            "  JVM stderr: /tmp/tmp__dia4xw/h2o_unknownUser_started_from_python.err\n",
            "  Server is running at http://127.0.0.1:54321\n",
            "Connecting to H2O server at http://127.0.0.1:54321 ... successful.\n"
          ]
        },
        {
          "output_type": "display_data",
          "data": {
            "text/html": [
              "<div style=\"overflow:auto\"><table style=\"width:50%\"><tr><td>H2O_cluster_uptime:</td>\n",
              "<td>02 secs</td></tr>\n",
              "<tr><td>H2O_cluster_timezone:</td>\n",
              "<td>Etc/UTC</td></tr>\n",
              "<tr><td>H2O_data_parsing_timezone:</td>\n",
              "<td>UTC</td></tr>\n",
              "<tr><td>H2O_cluster_version:</td>\n",
              "<td>3.34.0.1</td></tr>\n",
              "<tr><td>H2O_cluster_version_age:</td>\n",
              "<td>18 days </td></tr>\n",
              "<tr><td>H2O_cluster_name:</td>\n",
              "<td>H2O_from_python_unknownUser_j14353</td></tr>\n",
              "<tr><td>H2O_cluster_total_nodes:</td>\n",
              "<td>1</td></tr>\n",
              "<tr><td>H2O_cluster_free_memory:</td>\n",
              "<td>3.172 Gb</td></tr>\n",
              "<tr><td>H2O_cluster_total_cores:</td>\n",
              "<td>2</td></tr>\n",
              "<tr><td>H2O_cluster_allowed_cores:</td>\n",
              "<td>2</td></tr>\n",
              "<tr><td>H2O_cluster_status:</td>\n",
              "<td>locked, healthy</td></tr>\n",
              "<tr><td>H2O_connection_url:</td>\n",
              "<td>http://127.0.0.1:54321</td></tr>\n",
              "<tr><td>H2O_connection_proxy:</td>\n",
              "<td>{\"http\": null, \"https\": null}</td></tr>\n",
              "<tr><td>H2O_internal_security:</td>\n",
              "<td>False</td></tr>\n",
              "<tr><td>H2O_API_Extensions:</td>\n",
              "<td>Amazon S3, XGBoost, Algos, AutoML, Core V3, TargetEncoder, Core V4</td></tr>\n",
              "<tr><td>Python_version:</td>\n",
              "<td>3.7.12 final</td></tr></table></div>"
            ],
            "text/plain": [
              "--------------------------  ------------------------------------------------------------------\n",
              "H2O_cluster_uptime:         02 secs\n",
              "H2O_cluster_timezone:       Etc/UTC\n",
              "H2O_data_parsing_timezone:  UTC\n",
              "H2O_cluster_version:        3.34.0.1\n",
              "H2O_cluster_version_age:    18 days\n",
              "H2O_cluster_name:           H2O_from_python_unknownUser_j14353\n",
              "H2O_cluster_total_nodes:    1\n",
              "H2O_cluster_free_memory:    3.172 Gb\n",
              "H2O_cluster_total_cores:    2\n",
              "H2O_cluster_allowed_cores:  2\n",
              "H2O_cluster_status:         locked, healthy\n",
              "H2O_connection_url:         http://127.0.0.1:54321\n",
              "H2O_connection_proxy:       {\"http\": null, \"https\": null}\n",
              "H2O_internal_security:      False\n",
              "H2O_API_Extensions:         Amazon S3, XGBoost, Algos, AutoML, Core V3, TargetEncoder, Core V4\n",
              "Python_version:             3.7.12 final\n",
              "--------------------------  ------------------------------------------------------------------"
            ]
          },
          "metadata": {}
        }
      ]
    },
    {
      "cell_type": "markdown",
      "metadata": {
        "id": "ETQOldQJsh0R"
      },
      "source": [
        "## ***Loading Dataset***"
      ]
    },
    {
      "cell_type": "code",
      "metadata": {
        "colab": {
          "base_uri": "https://localhost:8080/"
        },
        "id": "VeiEAqAFsml7",
        "outputId": "ea100085-3cf1-4afc-f724-2605a122097d"
      },
      "source": [
        "train = h2o.import_file(\"housing_training_data.csv\")\n",
        "test = h2o.import_file(\"housing_testing_data.csv\")"
      ],
      "execution_count": null,
      "outputs": [
        {
          "output_type": "stream",
          "name": "stdout",
          "text": [
            "Parse progress: |████████████████████████████████████████████████████████████████| (done) 100%\n",
            "Parse progress: |████████████████████████████████████████████████████████████████| (done) 100%\n"
          ]
        }
      ]
    },
    {
      "cell_type": "markdown",
      "metadata": {
        "id": "TwDkvsqKs070"
      },
      "source": [
        "# ***Data Pre-Processing***"
      ]
    },
    {
      "cell_type": "code",
      "metadata": {
        "colab": {
          "base_uri": "https://localhost:8080/"
        },
        "id": "b_FfBmm3s0TD",
        "outputId": "ec09fbf9-3488-4264-dc0e-ececa5f75d75"
      },
      "source": [
        "train_df = h2o.as_list(train,use_pandas=True)\n",
        "train_df.isna().sum()"
      ],
      "execution_count": null,
      "outputs": [
        {
          "output_type": "execute_result",
          "data": {
            "text/plain": [
              "MedInc        0\n",
              "HouseAge      0\n",
              "AveRooms      0\n",
              "AveBedrms     0\n",
              "Population    0\n",
              "AveOccup      0\n",
              "Latitude      0\n",
              "Longitude     0\n",
              "Price         0\n",
              "dtype: int64"
            ]
          },
          "metadata": {},
          "execution_count": 5
        }
      ]
    },
    {
      "cell_type": "code",
      "metadata": {
        "colab": {
          "base_uri": "https://localhost:8080/"
        },
        "id": "zn8ixAaps-6G",
        "outputId": "fc8482b1-31d6-42fd-be64-6a4bd53719ac"
      },
      "source": [
        "test_df = h2o.as_list(test,use_pandas=True)\n",
        "test_df.isna().sum()"
      ],
      "execution_count": null,
      "outputs": [
        {
          "output_type": "execute_result",
          "data": {
            "text/plain": [
              "MedInc        0\n",
              "HouseAge      0\n",
              "AveRooms      0\n",
              "AveBedrms     0\n",
              "Population    0\n",
              "AveOccup      0\n",
              "Latitude      0\n",
              "Longitude     0\n",
              "Price         0\n",
              "dtype: int64"
            ]
          },
          "metadata": {},
          "execution_count": 6
        }
      ]
    },
    {
      "cell_type": "code",
      "metadata": {
        "colab": {
          "base_uri": "https://localhost:8080/"
        },
        "id": "RrKlmQhNwGy8",
        "outputId": "d70f2989-e01c-4bdb-c939-f584a0f19f78"
      },
      "source": [
        "round((train_df.isnull().sum() * 100/ len(train_df)),2).sort_values(ascending=False)"
      ],
      "execution_count": null,
      "outputs": [
        {
          "output_type": "execute_result",
          "data": {
            "text/plain": [
              "Price         0.0\n",
              "Longitude     0.0\n",
              "Latitude      0.0\n",
              "AveOccup      0.0\n",
              "Population    0.0\n",
              "AveBedrms     0.0\n",
              "AveRooms      0.0\n",
              "HouseAge      0.0\n",
              "MedInc        0.0\n",
              "dtype: float64"
            ]
          },
          "metadata": {},
          "execution_count": 7
        }
      ]
    },
    {
      "cell_type": "code",
      "metadata": {
        "colab": {
          "base_uri": "https://localhost:8080/"
        },
        "id": "hQN8Z34SwG90",
        "outputId": "0302c98b-9f3a-4852-e862-602437d5e8a1"
      },
      "source": [
        "round((test_df.isnull().sum() * 100/ len(test_df)),2).sort_values(ascending=False)"
      ],
      "execution_count": null,
      "outputs": [
        {
          "output_type": "execute_result",
          "data": {
            "text/plain": [
              "Price         0.0\n",
              "Longitude     0.0\n",
              "Latitude      0.0\n",
              "AveOccup      0.0\n",
              "Population    0.0\n",
              "AveBedrms     0.0\n",
              "AveRooms      0.0\n",
              "HouseAge      0.0\n",
              "MedInc        0.0\n",
              "dtype: float64"
            ]
          },
          "metadata": {},
          "execution_count": 8
        }
      ]
    },
    {
      "cell_type": "markdown",
      "metadata": {
        "id": "M2YJ63wLwSPS"
      },
      "source": [
        "# ***Converting Back to H2O***"
      ]
    },
    {
      "cell_type": "code",
      "metadata": {
        "colab": {
          "base_uri": "https://localhost:8080/"
        },
        "id": "petLMDTrwXWZ",
        "outputId": "6df944c3-eedf-44ad-97c8-586a2c4442c2"
      },
      "source": [
        "train = h2o.H2OFrame(train_df)\n",
        "test = h2o.H2OFrame(test_df)\n"
      ],
      "execution_count": null,
      "outputs": [
        {
          "output_type": "stream",
          "name": "stdout",
          "text": [
            "Parse progress: |████████████████████████████████████████████████████████████████| (done) 100%\n",
            "Parse progress: |████████████████████████████████████████████████████████████████| (done) 100%\n"
          ]
        }
      ]
    },
    {
      "cell_type": "markdown",
      "metadata": {
        "id": "iFfmRQAstKsD"
      },
      "source": [
        "# ***Identifying predictors and response variables***"
      ]
    },
    {
      "cell_type": "code",
      "metadata": {
        "id": "lr3Ud6SutKMw"
      },
      "source": [
        "x = train.columns\n",
        "y = \"Price\"\n",
        "x.remove(y)"
      ],
      "execution_count": null,
      "outputs": []
    },
    {
      "cell_type": "markdown",
      "metadata": {
        "id": "LYEAnxl8ZBXJ"
      },
      "source": [
        "# ***Building Model***"
      ]
    },
    {
      "cell_type": "code",
      "metadata": {
        "colab": {
          "base_uri": "https://localhost:8080/"
        },
        "id": "q6j-wMUZwrSz",
        "outputId": "f61c93d8-3365-4eaa-df32-6a8c4a263f25"
      },
      "source": [
        "#Run AutoML for 10 base models. \n",
        "#The ‘max_models’ argument specifies the number of individuals (or “base”) models and \n",
        "# does not include any ensemble models that can be trained separately.\n",
        "\n",
        "model = H2OAutoML(max_models=10, seed=1)\n",
        "\n",
        "model.train(x=x, y=y, training_frame=train)"
      ],
      "execution_count": null,
      "outputs": [
        {
          "output_type": "stream",
          "name": "stdout",
          "text": [
            "AutoML progress: |███████████████████████████████████████████████████████████████| (done) 100%\n",
            "Model Details\n",
            "=============\n",
            "H2OStackedEnsembleEstimator :  Stacked Ensemble\n",
            "Model Key:  StackedEnsemble_AllModels_2_AutoML_1_20211003_92228\n",
            "\n",
            "No model summary for this model\n",
            "\n",
            "ModelMetricsRegressionGLM: stackedensemble\n",
            "** Reported on train data. **\n",
            "\n",
            "MSE: 0.08694919328209451\n",
            "RMSE: 0.29487148604450464\n",
            "MAE: 0.1979381528765061\n",
            "RMSLE: 0.0881075914337863\n",
            "R^2: 0.9359727164184828\n",
            "Mean Residual Deviance: 0.08694919328209451\n",
            "Null degrees of freedom: 10057\n",
            "Residual degrees of freedom: 10051\n",
            "Null deviance: 13658.789778719492\n",
            "Residual deviance: 874.5349860313065\n",
            "AIC: 3993.393355840501\n",
            "\n",
            "ModelMetricsRegressionGLM: stackedensemble\n",
            "** Reported on cross-validation data. **\n",
            "\n",
            "MSE: 0.19110829211520666\n",
            "RMSE: 0.43715934407857127\n",
            "MAE: 0.28367674869494275\n",
            "RMSLE: 0.12952410738830994\n",
            "R^2: 0.8597678851684465\n",
            "Mean Residual Deviance: 0.19110829211520666\n",
            "Null degrees of freedom: 18575\n",
            "Residual degrees of freedom: 18568\n",
            "Null deviance: 25317.026371323554\n",
            "Residual deviance: 3550.027634332079\n",
            "AIC: 21992.7026549715\n"
          ]
        },
        {
          "output_type": "execute_result",
          "data": {
            "text/plain": [
              ""
            ]
          },
          "metadata": {},
          "execution_count": 11
        }
      ]
    },
    {
      "cell_type": "markdown",
      "metadata": {
        "id": "Ou5dlOxbx197"
      },
      "source": [
        "# ***LeaderBoard***"
      ]
    },
    {
      "cell_type": "code",
      "metadata": {
        "colab": {
          "base_uri": "https://localhost:8080/"
        },
        "id": "YEtio82Px5vE",
        "outputId": "35032bcd-0b39-4f30-ad9f-fb0310d3c21c"
      },
      "source": [
        "lb = model.leaderboard\n",
        "lb.head(rows=lb.nrows)\n",
        "\n",
        "#the AutoML leaderboard uses cross-validation metrics to rank the models.\n",
        "#A default performance metric for each machine learning task (binary classification, multiclass classification, regression) is specified internally and the leaderboard will be sorted by that metric."
      ],
      "execution_count": null,
      "outputs": [
        {
          "output_type": "display_data",
          "data": {
            "text/html": [
              "<table>\n",
              "<thead>\n",
              "<tr><th>model_id                                              </th><th style=\"text-align: right;\">  mean_residual_deviance</th><th style=\"text-align: right;\">    rmse</th><th style=\"text-align: right;\">     mse</th><th style=\"text-align: right;\">     mae</th><th style=\"text-align: right;\">     rmsle</th></tr>\n",
              "</thead>\n",
              "<tbody>\n",
              "<tr><td>StackedEnsemble_AllModels_2_AutoML_1_20211003_92228   </td><td style=\"text-align: right;\">                0.191108</td><td style=\"text-align: right;\">0.437159</td><td style=\"text-align: right;\">0.191108</td><td style=\"text-align: right;\">0.283677</td><td style=\"text-align: right;\">  0.129524</td></tr>\n",
              "<tr><td>StackedEnsemble_AllModels_1_AutoML_1_20211003_92228   </td><td style=\"text-align: right;\">                0.191136</td><td style=\"text-align: right;\">0.437191</td><td style=\"text-align: right;\">0.191136</td><td style=\"text-align: right;\">0.28373 </td><td style=\"text-align: right;\">  0.129538</td></tr>\n",
              "<tr><td>StackedEnsemble_BestOfFamily_3_AutoML_1_20211003_92228</td><td style=\"text-align: right;\">                0.194892</td><td style=\"text-align: right;\">0.441466</td><td style=\"text-align: right;\">0.194892</td><td style=\"text-align: right;\">0.287926</td><td style=\"text-align: right;\">  0.130926</td></tr>\n",
              "<tr><td>StackedEnsemble_BestOfFamily_2_AutoML_1_20211003_92228</td><td style=\"text-align: right;\">                0.19558 </td><td style=\"text-align: right;\">0.442244</td><td style=\"text-align: right;\">0.19558 </td><td style=\"text-align: right;\">0.287524</td><td style=\"text-align: right;\">  0.130968</td></tr>\n",
              "<tr><td>GBM_4_AutoML_1_20211003_92228                         </td><td style=\"text-align: right;\">                0.197237</td><td style=\"text-align: right;\">0.444114</td><td style=\"text-align: right;\">0.197237</td><td style=\"text-align: right;\">0.29007 </td><td style=\"text-align: right;\">  0.13186 </td></tr>\n",
              "<tr><td>GBM_2_AutoML_1_20211003_92228                         </td><td style=\"text-align: right;\">                0.200217</td><td style=\"text-align: right;\">0.447456</td><td style=\"text-align: right;\">0.200217</td><td style=\"text-align: right;\">0.294684</td><td style=\"text-align: right;\">  0.133529</td></tr>\n",
              "<tr><td>StackedEnsemble_BestOfFamily_1_AutoML_1_20211003_92228</td><td style=\"text-align: right;\">                0.201153</td><td style=\"text-align: right;\">0.448501</td><td style=\"text-align: right;\">0.201153</td><td style=\"text-align: right;\">0.293888</td><td style=\"text-align: right;\">  0.133677</td></tr>\n",
              "<tr><td>GBM_3_AutoML_1_20211003_92228                         </td><td style=\"text-align: right;\">                0.20356 </td><td style=\"text-align: right;\">0.451176</td><td style=\"text-align: right;\">0.20356 </td><td style=\"text-align: right;\">0.295334</td><td style=\"text-align: right;\">  0.134103</td></tr>\n",
              "<tr><td>GBM_1_AutoML_1_20211003_92228                         </td><td style=\"text-align: right;\">                0.204032</td><td style=\"text-align: right;\">0.451699</td><td style=\"text-align: right;\">0.204032</td><td style=\"text-align: right;\">0.297188</td><td style=\"text-align: right;\">  0.134879</td></tr>\n",
              "<tr><td>XGBoost_3_AutoML_1_20211003_92228                     </td><td style=\"text-align: right;\">                0.226462</td><td style=\"text-align: right;\">0.47588 </td><td style=\"text-align: right;\">0.226462</td><td style=\"text-align: right;\">0.319516</td><td style=\"text-align: right;\">  0.143539</td></tr>\n",
              "<tr><td>DRF_1_AutoML_1_20211003_92228                         </td><td style=\"text-align: right;\">                0.238148</td><td style=\"text-align: right;\">0.488004</td><td style=\"text-align: right;\">0.238148</td><td style=\"text-align: right;\">0.327594</td><td style=\"text-align: right;\">  0.144473</td></tr>\n",
              "<tr><td>XRT_1_AutoML_1_20211003_92228                         </td><td style=\"text-align: right;\">                0.24179 </td><td style=\"text-align: right;\">0.491721</td><td style=\"text-align: right;\">0.24179 </td><td style=\"text-align: right;\">0.330028</td><td style=\"text-align: right;\">  0.14512 </td></tr>\n",
              "<tr><td>XGBoost_2_AutoML_1_20211003_92228                     </td><td style=\"text-align: right;\">                0.250668</td><td style=\"text-align: right;\">0.500667</td><td style=\"text-align: right;\">0.250668</td><td style=\"text-align: right;\">0.337732</td><td style=\"text-align: right;\">  0.151796</td></tr>\n",
              "<tr><td>XGBoost_1_AutoML_1_20211003_92228                     </td><td style=\"text-align: right;\">                0.251132</td><td style=\"text-align: right;\">0.501131</td><td style=\"text-align: right;\">0.251132</td><td style=\"text-align: right;\">0.341467</td><td style=\"text-align: right;\">  0.15355 </td></tr>\n",
              "<tr><td>GLM_1_AutoML_1_20211003_92228                         </td><td style=\"text-align: right;\">                0.706913</td><td style=\"text-align: right;\">0.840781</td><td style=\"text-align: right;\">0.706913</td><td style=\"text-align: right;\">0.619625</td><td style=\"text-align: right;\">nan       </td></tr>\n",
              "</tbody>\n",
              "</table>"
            ]
          },
          "metadata": {}
        },
        {
          "output_type": "execute_result",
          "data": {
            "text/plain": [
              ""
            ]
          },
          "metadata": {},
          "execution_count": 12
        }
      ]
    },
    {
      "cell_type": "markdown",
      "metadata": {
        "id": "qwBINRzNyAgR"
      },
      "source": [
        "# ***Predictions***"
      ]
    },
    {
      "cell_type": "code",
      "metadata": {
        "colab": {
          "base_uri": "https://localhost:8080/"
        },
        "id": "qtbqWtP9yDK2",
        "outputId": "8828cc7d-5409-4a25-d010-b5c4876320da"
      },
      "source": [
        "preds = model.predict(test)"
      ],
      "execution_count": null,
      "outputs": [
        {
          "output_type": "stream",
          "name": "stdout",
          "text": [
            "stackedensemble prediction progress: |███████████████████████████████████████████| (done) 100%\n"
          ]
        }
      ]
    },
    {
      "cell_type": "code",
      "metadata": {
        "colab": {
          "base_uri": "https://localhost:8080/"
        },
        "id": "8NWzM4zOyIIy",
        "outputId": "469885e4-6ba1-4c14-c29a-795537134765"
      },
      "source": [
        "df = test.cbind(preds)\n",
        "df"
      ],
      "execution_count": null,
      "outputs": [
        {
          "output_type": "display_data",
          "data": {
            "text/html": [
              "<table>\n",
              "<thead>\n",
              "<tr><th style=\"text-align: right;\">  MedInc</th><th style=\"text-align: right;\">  HouseAge</th><th style=\"text-align: right;\">  AveRooms</th><th style=\"text-align: right;\">  AveBedrms</th><th style=\"text-align: right;\">  Population</th><th style=\"text-align: right;\">  AveOccup</th><th style=\"text-align: right;\">  Latitude</th><th style=\"text-align: right;\">  Longitude</th><th style=\"text-align: right;\">  Price</th><th style=\"text-align: right;\">  predict</th></tr>\n",
              "</thead>\n",
              "<tbody>\n",
              "<tr><td style=\"text-align: right;\">  2.0775</td><td style=\"text-align: right;\">        44</td><td style=\"text-align: right;\">   3.05316</td><td style=\"text-align: right;\">   1.02658 </td><td style=\"text-align: right;\">        1321</td><td style=\"text-align: right;\">   4.3887 </td><td style=\"text-align: right;\">     36.9 </td><td style=\"text-align: right;\">    -121.76</td><td style=\"text-align: right;\">  1.214</td><td style=\"text-align: right;\">  1.56537</td></tr>\n",
              "<tr><td style=\"text-align: right;\">  2.4375</td><td style=\"text-align: right;\">        20</td><td style=\"text-align: right;\">   4.79074</td><td style=\"text-align: right;\">   1.01296 </td><td style=\"text-align: right;\">        1534</td><td style=\"text-align: right;\">   2.84074</td><td style=\"text-align: right;\">     36.93</td><td style=\"text-align: right;\">    -121.77</td><td style=\"text-align: right;\">  1.904</td><td style=\"text-align: right;\">  1.74475</td></tr>\n",
              "<tr><td style=\"text-align: right;\">  3.0192</td><td style=\"text-align: right;\">        24</td><td style=\"text-align: right;\">   4.21475</td><td style=\"text-align: right;\">   0.969631</td><td style=\"text-align: right;\">        1844</td><td style=\"text-align: right;\">   4      </td><td style=\"text-align: right;\">     36.93</td><td style=\"text-align: right;\">    -121.77</td><td style=\"text-align: right;\">  1.843</td><td style=\"text-align: right;\">  1.61267</td></tr>\n",
              "<tr><td style=\"text-align: right;\">  3.2813</td><td style=\"text-align: right;\">        33</td><td style=\"text-align: right;\">   4.6711 </td><td style=\"text-align: right;\">   1.05316 </td><td style=\"text-align: right;\">        1075</td><td style=\"text-align: right;\">   3.57143</td><td style=\"text-align: right;\">     36.93</td><td style=\"text-align: right;\">    -121.77</td><td style=\"text-align: right;\">  1.9  </td><td style=\"text-align: right;\">  1.8502 </td></tr>\n",
              "<tr><td style=\"text-align: right;\">  2.6434</td><td style=\"text-align: right;\">        20</td><td style=\"text-align: right;\">   4.40492</td><td style=\"text-align: right;\">   1.04426 </td><td style=\"text-align: right;\">        2154</td><td style=\"text-align: right;\">   3.53115</td><td style=\"text-align: right;\">     36.92</td><td style=\"text-align: right;\">    -121.76</td><td style=\"text-align: right;\">  1.697</td><td style=\"text-align: right;\">  1.59537</td></tr>\n",
              "<tr><td style=\"text-align: right;\">  3.5   </td><td style=\"text-align: right;\">         9</td><td style=\"text-align: right;\">   5.05015</td><td style=\"text-align: right;\">   1.13818 </td><td style=\"text-align: right;\">        3198</td><td style=\"text-align: right;\">   3.27329</td><td style=\"text-align: right;\">     36.92</td><td style=\"text-align: right;\">    -121.77</td><td style=\"text-align: right;\">  1.948</td><td style=\"text-align: right;\">  1.82221</td></tr>\n",
              "<tr><td style=\"text-align: right;\">  3.1815</td><td style=\"text-align: right;\">        19</td><td style=\"text-align: right;\">   4.67784</td><td style=\"text-align: right;\">   0.947858</td><td style=\"text-align: right;\">        1856</td><td style=\"text-align: right;\">   3.45624</td><td style=\"text-align: right;\">     36.93</td><td style=\"text-align: right;\">    -121.79</td><td style=\"text-align: right;\">  1.891</td><td style=\"text-align: right;\">  1.75676</td></tr>\n",
              "<tr><td style=\"text-align: right;\">  4.3906</td><td style=\"text-align: right;\">        19</td><td style=\"text-align: right;\">   5.69549</td><td style=\"text-align: right;\">   0.951128</td><td style=\"text-align: right;\">         975</td><td style=\"text-align: right;\">   3.66541</td><td style=\"text-align: right;\">     36.92</td><td style=\"text-align: right;\">    -121.78</td><td style=\"text-align: right;\">  2.412</td><td style=\"text-align: right;\">  2.37261</td></tr>\n",
              "<tr><td style=\"text-align: right;\">  2.4053</td><td style=\"text-align: right;\">        21</td><td style=\"text-align: right;\">   4.94513</td><td style=\"text-align: right;\">   1.17168 </td><td style=\"text-align: right;\">        2236</td><td style=\"text-align: right;\">   3.95752</td><td style=\"text-align: right;\">     36.93</td><td style=\"text-align: right;\">    -121.78</td><td style=\"text-align: right;\">  1.784</td><td style=\"text-align: right;\">  1.59407</td></tr>\n",
              "<tr><td style=\"text-align: right;\">  2.0192</td><td style=\"text-align: right;\">        18</td><td style=\"text-align: right;\">   3.39617</td><td style=\"text-align: right;\">   1.08946 </td><td style=\"text-align: right;\">        1033</td><td style=\"text-align: right;\">   3.30032</td><td style=\"text-align: right;\">     36.94</td><td style=\"text-align: right;\">    -121.77</td><td style=\"text-align: right;\">  1.713</td><td style=\"text-align: right;\">  1.48352</td></tr>\n",
              "</tbody>\n",
              "</table>"
            ]
          },
          "metadata": {}
        },
        {
          "output_type": "execute_result",
          "data": {
            "text/plain": [
              ""
            ]
          },
          "metadata": {},
          "execution_count": 14
        }
      ]
    },
    {
      "cell_type": "markdown",
      "metadata": {
        "id": "ysBgJxnuyY19"
      },
      "source": [
        "# ***Saving Result***"
      ]
    },
    {
      "cell_type": "code",
      "metadata": {
        "colab": {
          "base_uri": "https://localhost:8080/"
        },
        "id": "blQubjaGycy_",
        "outputId": "f8dc2de3-bcba-4044-e9c3-7fbf6f87a6b8"
      },
      "source": [
        "h2o.export_file(df, path = \"submission.csv\", force = True)"
      ],
      "execution_count": null,
      "outputs": [
        {
          "output_type": "stream",
          "name": "stdout",
          "text": [
            "Export File progress: |██████████████████████████████████████████████████████████| (done) 100%\n"
          ]
        }
      ]
    },
    {
      "cell_type": "markdown",
      "metadata": {
        "id": "gPeXYbM6ym9r"
      },
      "source": [
        "# ***Saving LeaderBoard***"
      ]
    },
    {
      "cell_type": "markdown",
      "metadata": {
        "id": "pjHSFGp8aFl7"
      },
      "source": [
        "There are two ways to save the leader model — binary format and MOJO format. If you’re taking your leader model to production, then it’s suggested MOJO format since it’s optimized for production use."
      ]
    },
    {
      "cell_type": "code",
      "metadata": {
        "colab": {
          "base_uri": "https://localhost:8080/"
        },
        "id": "_5POS-g1yq0N",
        "outputId": "78b5e803-0982-4458-d720-239eeb8f1051"
      },
      "source": [
        "h2o.save_model(model.leader, path = \"h2o_regression_model\")"
      ],
      "execution_count": null,
      "outputs": [
        {
          "output_type": "execute_result",
          "data": {
            "application/vnd.google.colaboratory.intrinsic+json": {
              "type": "string"
            },
            "text/plain": [
              "'/content/h2o_regression_model/StackedEnsemble_AllModels_2_AutoML_1_20211003_92228'"
            ]
          },
          "metadata": {},
          "execution_count": 16
        }
      ]
    },
    {
      "cell_type": "markdown",
      "metadata": {
        "id": "jdm95umry1J6"
      },
      "source": [
        "# ***Downloading Leaderboard***"
      ]
    },
    {
      "cell_type": "code",
      "metadata": {
        "colab": {
          "base_uri": "https://localhost:8080/"
        },
        "id": "gnmpvCFGy1kn",
        "outputId": "e3e4970b-9b05-43d5-ec7c-55f804286b79"
      },
      "source": [
        "model.leader.download_mojo(path = \"h2o_regression_model\")"
      ],
      "execution_count": null,
      "outputs": [
        {
          "output_type": "execute_result",
          "data": {
            "application/vnd.google.colaboratory.intrinsic+json": {
              "type": "string"
            },
            "text/plain": [
              "'/content/h2o_regression_model/StackedEnsemble_AllModels_2_AutoML_1_20211003_92228.zip'"
            ]
          },
          "metadata": {},
          "execution_count": 17
        }
      ]
    },
    {
      "cell_type": "markdown",
      "metadata": {
        "id": "WdbaquQCacf-"
      },
      "source": [
        "# ***Ensemble Exploration***"
      ]
    },
    {
      "cell_type": "markdown",
      "metadata": {
        "id": "3QBMxhKtafaz"
      },
      "source": [
        "Take a peek inside the Stacked Ensemble “All Models” model. The “All Models” ensemble is an ensemble of all of the individual models in the AutoML run. This is often the top-performing model on the leaderboard."
      ]
    },
    {
      "cell_type": "code",
      "metadata": {
        "id": "NL0Acb3Dakdw"
      },
      "source": [
        "# Get model ids for all models in the AutoML Leaderboard\n",
        "model_ids = list(model.leaderboard['model_id'].as_data_frame().iloc[:,0])\n"
      ],
      "execution_count": null,
      "outputs": []
    },
    {
      "cell_type": "code",
      "metadata": {
        "id": "Zc7RdDxQasE5"
      },
      "source": [
        "# Get the \"All Models\" Stacked Ensemble model\n",
        "se = h2o.get_model([mid for mid in model_ids if \"StackedEnsemble_AllModels\" in mid][0])\n"
      ],
      "execution_count": null,
      "outputs": []
    },
    {
      "cell_type": "code",
      "metadata": {
        "colab": {
          "base_uri": "https://localhost:8080/"
        },
        "id": "KfXyqvtIatZH",
        "outputId": "dcef6a00-a416-425f-b6e5-29bc58c29bb0"
      },
      "source": [
        "# Get the Stacked Ensemble metalearner model\n",
        "metalearner = h2o.get_model(se.metalearner()['name'])"
      ],
      "execution_count": null,
      "outputs": [
        {
          "output_type": "stream",
          "name": "stderr",
          "text": [
            "/usr/local/lib/python3.7/dist-packages/h2o/estimators/stackedensemble.py:929: H2ODeprecationWarning: The usage of stacked_ensemble.metalearner()['name'] will be deprecated. Metalearner now returns the metalearner object. If you need to get the 'name' please use stacked_ensemble.metalearner().model_id\n",
            "  H2ODeprecationWarning\n"
          ]
        }
      ]
    },
    {
      "cell_type": "markdown",
      "metadata": {
        "id": "TdLvMJmmaxWt"
      },
      "source": [
        "Examining the variable importance of the metalearner (combiner) algorithm in the ensemble. This shows us how much each base learner is contributing to the ensemble. The AutoML Stacked Ensembles use the default metalearner algorithm (GLM with non-negative weights), so the variable importance of the metalearner is actually the standardized coefficient magnitudes of the GLM."
      ]
    },
    {
      "cell_type": "code",
      "metadata": {
        "colab": {
          "base_uri": "https://localhost:8080/"
        },
        "id": "agwM0aYPa5zD",
        "outputId": "0900b6ac-5752-472a-b9f4-03a6abcd171e"
      },
      "source": [
        "metalearner.coef_norm()"
      ],
      "execution_count": null,
      "outputs": [
        {
          "output_type": "execute_result",
          "data": {
            "text/plain": [
              "{'DRF_1_AutoML_1_20211003_92228': 0.0,\n",
              " 'GBM_1_AutoML_1_20211003_92228': 0.1287305870868205,\n",
              " 'GBM_2_AutoML_1_20211003_92228': 0.35124164082469256,\n",
              " 'GBM_3_AutoML_1_20211003_92228': 0.09544420380453805,\n",
              " 'GBM_4_AutoML_1_20211003_92228': 0.4781596101063351,\n",
              " 'GLM_1_AutoML_1_20211003_92228': 0.0,\n",
              " 'Intercept': 2.1203120386518863,\n",
              " 'XGBoost_1_AutoML_1_20211003_92228': 0.008862737498399019,\n",
              " 'XGBoost_2_AutoML_1_20211003_92228': 0.025698301596849275,\n",
              " 'XGBoost_3_AutoML_1_20211003_92228': 0.0,\n",
              " 'XRT_1_AutoML_1_20211003_92228': 0.0}"
            ]
          },
          "metadata": {},
          "execution_count": 21
        }
      ]
    },
    {
      "cell_type": "code",
      "metadata": {
        "colab": {
          "base_uri": "https://localhost:8080/"
        },
        "id": "oX0fyBW9cysF",
        "outputId": "01d644cd-3b98-4ad5-f95d-bae40be16d61"
      },
      "source": [
        "model_ids"
      ],
      "execution_count": null,
      "outputs": [
        {
          "output_type": "execute_result",
          "data": {
            "text/plain": [
              "['StackedEnsemble_AllModels_2_AutoML_1_20211003_92228',\n",
              " 'StackedEnsemble_AllModels_1_AutoML_1_20211003_92228',\n",
              " 'StackedEnsemble_BestOfFamily_3_AutoML_1_20211003_92228',\n",
              " 'StackedEnsemble_BestOfFamily_2_AutoML_1_20211003_92228',\n",
              " 'GBM_4_AutoML_1_20211003_92228',\n",
              " 'GBM_2_AutoML_1_20211003_92228',\n",
              " 'StackedEnsemble_BestOfFamily_1_AutoML_1_20211003_92228',\n",
              " 'GBM_3_AutoML_1_20211003_92228',\n",
              " 'GBM_1_AutoML_1_20211003_92228',\n",
              " 'XGBoost_3_AutoML_1_20211003_92228',\n",
              " 'DRF_1_AutoML_1_20211003_92228',\n",
              " 'XRT_1_AutoML_1_20211003_92228',\n",
              " 'XGBoost_2_AutoML_1_20211003_92228',\n",
              " 'XGBoost_1_AutoML_1_20211003_92228',\n",
              " 'GLM_1_AutoML_1_20211003_92228']"
            ]
          },
          "metadata": {},
          "execution_count": 22
        }
      ]
    },
    {
      "cell_type": "code",
      "metadata": {
        "id": "SRjQ6SgkdhHg"
      },
      "source": [
        "out = h2o.get_model([mid for mid in model_ids if \"XGBoost\" in mid][0])"
      ],
      "execution_count": null,
      "outputs": []
    },
    {
      "cell_type": "code",
      "metadata": {
        "colab": {
          "base_uri": "https://localhost:8080/"
        },
        "id": "cMmfR4VpdpjR",
        "outputId": "538e2021-d57b-4be6-a03a-2d2afba4c88c"
      },
      "source": [
        "out.params"
      ],
      "execution_count": null,
      "outputs": [
        {
          "output_type": "execute_result",
          "data": {
            "text/plain": [
              "{'auc_type': {'actual': 'AUTO', 'default': 'AUTO', 'input': 'AUTO'},\n",
              " 'backend': {'actual': 'gpu', 'default': 'auto', 'input': 'auto'},\n",
              " 'booster': {'actual': 'gbtree', 'default': 'gbtree', 'input': 'gbtree'},\n",
              " 'build_tree_one_node': {'actual': False, 'default': False, 'input': False},\n",
              " 'calibrate_model': {'actual': False, 'default': False, 'input': False},\n",
              " 'calibration_frame': {'actual': None, 'default': None, 'input': None},\n",
              " 'categorical_encoding': {'actual': 'OneHotInternal',\n",
              "  'default': 'AUTO',\n",
              "  'input': 'AUTO'},\n",
              " 'checkpoint': {'actual': None, 'default': None, 'input': None},\n",
              " 'col_sample_rate': {'actual': 0.8, 'default': 1.0, 'input': 0.8},\n",
              " 'col_sample_rate_per_tree': {'actual': 0.8, 'default': 1.0, 'input': 0.8},\n",
              " 'colsample_bylevel': {'actual': 0.8, 'default': 1.0, 'input': 1.0},\n",
              " 'colsample_bynode': {'actual': 1.0, 'default': 1.0, 'input': 1.0},\n",
              " 'colsample_bytree': {'actual': 0.8, 'default': 1.0, 'input': 1.0},\n",
              " 'distribution': {'actual': 'gaussian', 'default': 'AUTO', 'input': 'AUTO'},\n",
              " 'dmatrix_type': {'actual': 'dense', 'default': 'auto', 'input': 'auto'},\n",
              " 'eta': {'actual': 0.3, 'default': 0.3, 'input': 0.3},\n",
              " 'export_checkpoints_dir': {'actual': None, 'default': None, 'input': None},\n",
              " 'fold_assignment': {'actual': 'Modulo', 'default': 'AUTO', 'input': 'Modulo'},\n",
              " 'fold_column': {'actual': None, 'default': None, 'input': None},\n",
              " 'gainslift_bins': {'actual': -1, 'default': -1, 'input': -1},\n",
              " 'gamma': {'actual': 0.0, 'default': 0.0, 'input': 0.0},\n",
              " 'gpu_id': {'actual': None, 'default': None, 'input': None},\n",
              " 'grow_policy': {'actual': 'depthwise',\n",
              "  'default': 'depthwise',\n",
              "  'input': 'depthwise'},\n",
              " 'ignore_const_cols': {'actual': True, 'default': True, 'input': True},\n",
              " 'ignored_columns': {'actual': [], 'default': None, 'input': []},\n",
              " 'interaction_constraints': {'actual': None, 'default': None, 'input': None},\n",
              " 'keep_cross_validation_fold_assignment': {'actual': False,\n",
              "  'default': False,\n",
              "  'input': False},\n",
              " 'keep_cross_validation_models': {'actual': False,\n",
              "  'default': True,\n",
              "  'input': False},\n",
              " 'keep_cross_validation_predictions': {'actual': True,\n",
              "  'default': False,\n",
              "  'input': True},\n",
              " 'learn_rate': {'actual': 0.3, 'default': 0.3, 'input': 0.3},\n",
              " 'max_abs_leafnode_pred': {'actual': 0.0, 'default': 0.0, 'input': 0.0},\n",
              " 'max_bins': {'actual': 256, 'default': 256, 'input': 256},\n",
              " 'max_delta_step': {'actual': 0.0, 'default': 0.0, 'input': 0.0},\n",
              " 'max_depth': {'actual': 5, 'default': 6, 'input': 5},\n",
              " 'max_leaves': {'actual': 0, 'default': 0, 'input': 0},\n",
              " 'max_runtime_secs': {'actual': 0.0,\n",
              "  'default': 0.0,\n",
              "  'input': 1676976783951396.8},\n",
              " 'min_child_weight': {'actual': 3.0, 'default': 1.0, 'input': 1.0},\n",
              " 'min_rows': {'actual': 3.0, 'default': 1.0, 'input': 3.0},\n",
              " 'min_split_improvement': {'actual': 0.0, 'default': 0.0, 'input': 0.0},\n",
              " 'model_id': {'actual': {'URL': '/3/Models/XGBoost_3_AutoML_1_20211003_92228',\n",
              "   '__meta': {'schema_name': 'ModelKeyV3',\n",
              "    'schema_type': 'Key<Model>',\n",
              "    'schema_version': 3},\n",
              "   'name': 'XGBoost_3_AutoML_1_20211003_92228',\n",
              "   'type': 'Key<Model>'},\n",
              "  'default': None,\n",
              "  'input': None},\n",
              " 'monotone_constraints': {'actual': None, 'default': None, 'input': None},\n",
              " 'nfolds': {'actual': 5, 'default': 0, 'input': 5},\n",
              " 'normalize_type': {'actual': 'tree', 'default': 'tree', 'input': 'tree'},\n",
              " 'nthread': {'actual': -1, 'default': -1, 'input': -1},\n",
              " 'ntrees': {'actual': 108, 'default': 50, 'input': 10000},\n",
              " 'offset_column': {'actual': None, 'default': None, 'input': None},\n",
              " 'one_drop': {'actual': False, 'default': False, 'input': False},\n",
              " 'quiet_mode': {'actual': True, 'default': True, 'input': True},\n",
              " 'rate_drop': {'actual': 0.0, 'default': 0.0, 'input': 0.0},\n",
              " 'reg_alpha': {'actual': 0.0, 'default': 0.0, 'input': 0.0},\n",
              " 'reg_lambda': {'actual': 1.0, 'default': 1.0, 'input': 1.0},\n",
              " 'response_column': {'actual': {'__meta': {'schema_name': 'ColSpecifierV3',\n",
              "    'schema_type': 'VecSpecifier',\n",
              "    'schema_version': 3},\n",
              "   'column_name': 'Price',\n",
              "   'is_member_of_frames': None},\n",
              "  'default': None,\n",
              "  'input': {'__meta': {'schema_name': 'ColSpecifierV3',\n",
              "    'schema_type': 'VecSpecifier',\n",
              "    'schema_version': 3},\n",
              "   'column_name': 'Price',\n",
              "   'is_member_of_frames': None}},\n",
              " 'sample_rate': {'actual': 0.8, 'default': 1.0, 'input': 0.8},\n",
              " 'sample_type': {'actual': 'uniform',\n",
              "  'default': 'uniform',\n",
              "  'input': 'uniform'},\n",
              " 'save_matrix_directory': {'actual': None, 'default': None, 'input': None},\n",
              " 'scale_pos_weight': {'actual': 1.0, 'default': 1.0, 'input': 1.0},\n",
              " 'score_each_iteration': {'actual': False, 'default': False, 'input': False},\n",
              " 'score_tree_interval': {'actual': 5, 'default': 0, 'input': 5},\n",
              " 'seed': {'actual': 12, 'default': -1, 'input': 12},\n",
              " 'skip_drop': {'actual': 0.0, 'default': 0.0, 'input': 0.0},\n",
              " 'stopping_metric': {'actual': 'deviance',\n",
              "  'default': 'AUTO',\n",
              "  'input': 'deviance'},\n",
              " 'stopping_rounds': {'actual': 0, 'default': 0, 'input': 3},\n",
              " 'stopping_tolerance': {'actual': 0.007337090886046865,\n",
              "  'default': 0.001,\n",
              "  'input': 0.007337090886046865},\n",
              " 'subsample': {'actual': 0.8, 'default': 1.0, 'input': 1.0},\n",
              " 'training_frame': {'actual': {'URL': '/3/Frames/AutoML_1_20211003_92228_training_Key_Frame__upload_a29936a84a8fbac6f996707517674805.hex',\n",
              "   '__meta': {'schema_name': 'FrameKeyV3',\n",
              "    'schema_type': 'Key<Frame>',\n",
              "    'schema_version': 3},\n",
              "   'name': 'AutoML_1_20211003_92228_training_Key_Frame__upload_a29936a84a8fbac6f996707517674805.hex',\n",
              "   'type': 'Key<Frame>'},\n",
              "  'default': None,\n",
              "  'input': {'URL': '/3/Frames/AutoML_1_20211003_92228_training_Key_Frame__upload_a29936a84a8fbac6f996707517674805.hex',\n",
              "   '__meta': {'schema_name': 'FrameKeyV3',\n",
              "    'schema_type': 'Key<Frame>',\n",
              "    'schema_version': 3},\n",
              "   'name': 'AutoML_1_20211003_92228_training_Key_Frame__upload_a29936a84a8fbac6f996707517674805.hex',\n",
              "   'type': 'Key<Frame>'}},\n",
              " 'tree_method': {'actual': 'hist', 'default': 'auto', 'input': 'auto'},\n",
              " 'tweedie_power': {'actual': 1.5, 'default': 1.5, 'input': 1.5},\n",
              " 'validation_frame': {'actual': None, 'default': None, 'input': None},\n",
              " 'weights_column': {'actual': None, 'default': None, 'input': None}}"
            ]
          },
          "metadata": {},
          "execution_count": 24
        }
      ]
    },
    {
      "cell_type": "code",
      "metadata": {
        "colab": {
          "base_uri": "https://localhost:8080/"
        },
        "id": "ovN6dz_sdt8f",
        "outputId": "fc665e22-9035-45f9-fbd1-6b1091286fac"
      },
      "source": [
        "out.convert_H2OXGBoostParams_2_XGBoostParams()"
      ],
      "execution_count": null,
      "outputs": [
        {
          "output_type": "execute_result",
          "data": {
            "text/plain": [
              "({'alpha': 0.0,\n",
              "  'booster': 'gbtree',\n",
              "  'colsample_bylevel': 0.8,\n",
              "  'colsample_bytree': 0.8,\n",
              "  'eta': 0.3,\n",
              "  'gamma': 0.0,\n",
              "  'gpu_id': 0,\n",
              "  'grow_policy': 'depthwise',\n",
              "  'lambda': 1.0,\n",
              "  'max_bin': 256,\n",
              "  'max_delta_step': 0.0,\n",
              "  'max_depth': 5,\n",
              "  'min_child_weight': 3.0,\n",
              "  'nround': 108,\n",
              "  'nthread': 2,\n",
              "  'objective': 'reg:squarederror',\n",
              "  'seed': 12,\n",
              "  'silent': True,\n",
              "  'subsample': 0.8,\n",
              "  'updater': 'grow_gpu_hist'},\n",
              " 108)"
            ]
          },
          "metadata": {},
          "execution_count": 25
        }
      ]
    },
    {
      "cell_type": "code",
      "metadata": {
        "id": "byFEEQ-qdyPO"
      },
      "source": [
        "out_gbm = h2o.get_model([mid for mid in model_ids if \"GBM\" in mid][0])"
      ],
      "execution_count": null,
      "outputs": []
    },
    {
      "cell_type": "code",
      "metadata": {
        "colab": {
          "base_uri": "https://localhost:8080/",
          "height": 612
        },
        "id": "bZkTvAvYd0kv",
        "outputId": "16d36857-1098-42b7-f912-fd141f976e10"
      },
      "source": [
        "out.varimp_plot()"
      ],
      "execution_count": null,
      "outputs": [
        {
          "output_type": "display_data",
          "data": {
            "image/png": "[encoded data removed]",
            "text/plain": [
              "<Figure size 1008x720 with 1 Axes>"
            ]
          },
          "metadata": {
            "needs_background": "light"
          }
        }
      ]
    }
  ]
}