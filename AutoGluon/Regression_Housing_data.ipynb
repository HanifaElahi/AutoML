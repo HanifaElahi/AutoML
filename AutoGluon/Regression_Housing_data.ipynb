{
  "nbformat": 4,
  "nbformat_minor": 0,
  "metadata": {
    "colab": {
      "name": "Regression_Housing_data.ipynb",
      "provenance": [],
      "collapsed_sections": []
    },
    "kernelspec": {
      "name": "python3",
      "display_name": "Python 3"
    },
    "language_info": {
      "name": "python"
    },
    "accelerator": "GPU"
  },
  "cells": [
    {
      "cell_type": "markdown",
      "metadata": {
        "id": "4rwaZfnErgpx"
      },
      "source": [
        "# ***Installation***"
      ]
    },
    {
      "cell_type": "code",
      "metadata": {
        "colab": {
          "base_uri": "https://localhost:8080/"
        },
        "id": "cKIfh3lpqcq6",
        "outputId": "64f4e333-d105-42c9-ed29-862f2b08ceef"
      },
      "source": [
        "!pip install -U pip\n",
        "!pip install -U setuptools wheel\n",
        "!pip install -U \"mxnet<2.0.0\"\n",
        "!pip install autogluon"
      ],
      "execution_count": null,
      "outputs": [
        {
          "output_type": "stream",
          "name": "stdout",
          "text": [
            "Requirement already satisfied: pip in /usr/local/lib/python3.7/dist-packages (21.2.4)\n",
            "\u001b[33mWARNING: Running pip as the 'root' user can result in broken permissions and conflicting behaviour with the system package manager. It is recommended to use a virtual environment instead: https://pip.pypa.io/warnings/venv\u001b[0m\n",
            "Requirement already satisfied: setuptools in /usr/local/lib/python3.7/dist-packages (58.2.0)\n",
            "Requirement already satisfied: wheel in /usr/local/lib/python3.7/dist-packages (0.37.0)\n",
            "\u001b[33mWARNING: Running pip as the 'root' user can result in broken permissions and conflicting behaviour with the system package manager. It is recommended to use a virtual environment instead: https://pip.pypa.io/warnings/venv\u001b[0m\n",
            "Requirement already satisfied: mxnet<2.0.0 in /usr/local/lib/python3.7/dist-packages (1.8.0.post0)\n",
            "Requirement already satisfied: requests<3,>=2.20.0 in /usr/local/lib/python3.7/dist-packages (from mxnet<2.0.0) (2.23.0)\n",
            "Requirement already satisfied: graphviz<0.9.0,>=0.8.1 in /usr/local/lib/python3.7/dist-packages (from mxnet<2.0.0) (0.8.4)\n",
            "Requirement already satisfied: numpy<2.0.0,>1.16.0 in /usr/local/lib/python3.7/dist-packages (from mxnet<2.0.0) (1.19.5)\n",
            "Requirement already satisfied: certifi>=2017.4.17 in /usr/local/lib/python3.7/dist-packages (from requests<3,>=2.20.0->mxnet<2.0.0) (2021.5.30)\n",
            "Requirement already satisfied: urllib3!=1.25.0,!=1.25.1,<1.26,>=1.21.1 in /usr/local/lib/python3.7/dist-packages (from requests<3,>=2.20.0->mxnet<2.0.0) (1.25.11)\n",
            "Requirement already satisfied: chardet<4,>=3.0.2 in /usr/local/lib/python3.7/dist-packages (from requests<3,>=2.20.0->mxnet<2.0.0) (3.0.4)\n",
            "Requirement already satisfied: idna<3,>=2.5 in /usr/local/lib/python3.7/dist-packages (from requests<3,>=2.20.0->mxnet<2.0.0) (2.10)\n",
            "\u001b[33mWARNING: Running pip as the 'root' user can result in broken permissions and conflicting behaviour with the system package manager. It is recommended to use a virtual environment instead: https://pip.pypa.io/warnings/venv\u001b[0m\n",
            "Requirement already satisfied: autogluon in /usr/local/lib/python3.7/dist-packages (0.3.1)\n",
            "Requirement already satisfied: autogluon.tabular[all]==0.3.1 in /usr/local/lib/python3.7/dist-packages (from autogluon) (0.3.1)\n",
            "Requirement already satisfied: autogluon.core==0.3.1 in /usr/local/lib/python3.7/dist-packages (from autogluon) (0.3.1)\n",
            "Requirement already satisfied: autogluon.vision==0.3.1 in /usr/local/lib/python3.7/dist-packages (from autogluon) (0.3.1)\n",
            "Requirement already satisfied: autogluon.text==0.3.1 in /usr/local/lib/python3.7/dist-packages (from autogluon) (0.3.1)\n",
            "Requirement already satisfied: autogluon.features==0.3.1 in /usr/local/lib/python3.7/dist-packages (from autogluon) (0.3.1)\n",
            "Requirement already satisfied: autogluon.mxnet==0.3.1 in /usr/local/lib/python3.7/dist-packages (from autogluon) (0.3.1)\n",
            "Requirement already satisfied: autogluon.extra==0.3.1 in /usr/local/lib/python3.7/dist-packages (from autogluon) (0.3.1)\n",
            "Requirement already satisfied: boto3 in /usr/local/lib/python3.7/dist-packages (from autogluon.core==0.3.1->autogluon) (1.18.53)\n",
            "Requirement already satisfied: requests in /usr/local/lib/python3.7/dist-packages (from autogluon.core==0.3.1->autogluon) (2.23.0)\n",
            "Requirement already satisfied: pandas<2.0,>=1.0.0 in /usr/local/lib/python3.7/dist-packages (from autogluon.core==0.3.1->autogluon) (1.1.5)\n",
            "Requirement already satisfied: numpy<1.22,>=1.19 in /usr/local/lib/python3.7/dist-packages (from autogluon.core==0.3.1->autogluon) (1.19.5)\n",
            "Requirement already satisfied: tornado>=5.0.1 in /usr/local/lib/python3.7/dist-packages (from autogluon.core==0.3.1->autogluon) (5.1.1)\n",
            "Requirement already satisfied: ConfigSpace==0.4.19 in /usr/local/lib/python3.7/dist-packages (from autogluon.core==0.3.1->autogluon) (0.4.19)\n",
            "Requirement already satisfied: paramiko>=2.4 in /usr/local/lib/python3.7/dist-packages (from autogluon.core==0.3.1->autogluon) (2.7.2)\n",
            "Requirement already satisfied: dask>=2.6.0 in /usr/local/lib/python3.7/dist-packages (from autogluon.core==0.3.1->autogluon) (2021.9.1)\n",
            "Requirement already satisfied: matplotlib in /usr/local/lib/python3.7/dist-packages (from autogluon.core==0.3.1->autogluon) (3.2.2)\n",
            "Requirement already satisfied: distributed>=2.6.0 in /usr/local/lib/python3.7/dist-packages (from autogluon.core==0.3.1->autogluon) (2021.9.1)\n",
            "Requirement already satisfied: autograd>=1.3 in /usr/local/lib/python3.7/dist-packages (from autogluon.core==0.3.1->autogluon) (1.3)\n",
            "Requirement already satisfied: dill<1.0,>=0.3.3 in /usr/local/lib/python3.7/dist-packages (from autogluon.core==0.3.1->autogluon) (0.3.4)\n",
            "Requirement already satisfied: tqdm>=4.38.0 in /usr/local/lib/python3.7/dist-packages (from autogluon.core==0.3.1->autogluon) (4.62.3)\n",
            "Requirement already satisfied: cython in /usr/local/lib/python3.7/dist-packages (from autogluon.core==0.3.1->autogluon) (0.29.24)\n",
            "Requirement already satisfied: graphviz<1.0,>=0.8.1 in /usr/local/lib/python3.7/dist-packages (from autogluon.core==0.3.1->autogluon) (0.8.4)\n",
            "Requirement already satisfied: scikit-learn<0.25,>=0.23.2 in /usr/local/lib/python3.7/dist-packages (from autogluon.core==0.3.1->autogluon) (0.24.2)\n",
            "Requirement already satisfied: scipy<1.7,>=1.5.4 in /usr/local/lib/python3.7/dist-packages (from autogluon.core==0.3.1->autogluon) (1.6.3)\n",
            "Requirement already satisfied: pytest in /usr/local/lib/python3.7/dist-packages (from autogluon.extra==0.3.1->autogluon) (3.6.4)\n",
            "Requirement already satisfied: openml in /usr/local/lib/python3.7/dist-packages (from autogluon.extra==0.3.1->autogluon) (0.12.2)\n",
            "Requirement already satisfied: gluoncv<0.10.5,>=0.10.4 in /usr/local/lib/python3.7/dist-packages (from autogluon.extra==0.3.1->autogluon) (0.10.4.post4)\n",
            "Requirement already satisfied: Pillow<8.4.0,>=8.3.0 in /usr/local/lib/python3.7/dist-packages (from autogluon.mxnet==0.3.1->autogluon) (8.3.2)\n",
            "Requirement already satisfied: networkx<3.0,>=2.3 in /usr/local/lib/python3.7/dist-packages (from autogluon.tabular[all]==0.3.1->autogluon) (2.6.3)\n",
            "Requirement already satisfied: psutil<5.9,>=5.7.3 in /usr/local/lib/python3.7/dist-packages (from autogluon.tabular[all]==0.3.1->autogluon) (5.8.0)\n",
            "Requirement already satisfied: fastai<3.0,>=2.3.1 in /usr/local/lib/python3.7/dist-packages (from autogluon.tabular[all]==0.3.1->autogluon) (2.5.2)\n",
            "Requirement already satisfied: catboost<0.26,>=0.24.0 in /usr/local/lib/python3.7/dist-packages (from autogluon.tabular[all]==0.3.1->autogluon) (0.25.1)\n",
            "Requirement already satisfied: torch<2.0,>=1.0 in /usr/local/lib/python3.7/dist-packages (from autogluon.tabular[all]==0.3.1->autogluon) (1.9.0+cu102)\n",
            "Requirement already satisfied: lightgbm<4.0,>=3.0 in /usr/local/lib/python3.7/dist-packages (from autogluon.tabular[all]==0.3.1->autogluon) (3.2.1)\n",
            "Requirement already satisfied: xgboost<1.5,>=1.4 in /usr/local/lib/python3.7/dist-packages (from autogluon.tabular[all]==0.3.1->autogluon) (1.4.2)\n",
            "Requirement already satisfied: autogluon-contrib-nlp==0.0.1b20210201 in /usr/local/lib/python3.7/dist-packages (from autogluon.text==0.3.1->autogluon) (0.0.1b20210201)\n",
            "Requirement already satisfied: sacremoses>=0.0.38 in /usr/local/lib/python3.7/dist-packages (from autogluon-contrib-nlp==0.0.1b20210201->autogluon.text==0.3.1->autogluon) (0.0.46)\n",
            "Requirement already satisfied: protobuf in /usr/local/lib/python3.7/dist-packages (from autogluon-contrib-nlp==0.0.1b20210201->autogluon.text==0.3.1->autogluon) (3.17.3)\n",
            "Requirement already satisfied: tokenizers==0.9.4 in /usr/local/lib/python3.7/dist-packages (from autogluon-contrib-nlp==0.0.1b20210201->autogluon.text==0.3.1->autogluon) (0.9.4)\n",
            "Requirement already satisfied: yacs>=0.1.6 in /usr/local/lib/python3.7/dist-packages (from autogluon-contrib-nlp==0.0.1b20210201->autogluon.text==0.3.1->autogluon) (0.1.8)\n",
            "Requirement already satisfied: regex in /usr/local/lib/python3.7/dist-packages (from autogluon-contrib-nlp==0.0.1b20210201->autogluon.text==0.3.1->autogluon) (2019.12.20)\n",
            "Requirement already satisfied: sacrebleu in /usr/local/lib/python3.7/dist-packages (from autogluon-contrib-nlp==0.0.1b20210201->autogluon.text==0.3.1->autogluon) (2.0.0)\n",
            "Requirement already satisfied: contextvars in /usr/local/lib/python3.7/dist-packages (from autogluon-contrib-nlp==0.0.1b20210201->autogluon.text==0.3.1->autogluon) (2.4)\n",
            "Requirement already satisfied: flake8 in /usr/local/lib/python3.7/dist-packages (from autogluon-contrib-nlp==0.0.1b20210201->autogluon.text==0.3.1->autogluon) (3.9.2)\n",
            "Requirement already satisfied: pyarrow in /usr/local/lib/python3.7/dist-packages (from autogluon-contrib-nlp==0.0.1b20210201->autogluon.text==0.3.1->autogluon) (3.0.0)\n",
            "Requirement already satisfied: sentencepiece==0.1.95 in /usr/local/lib/python3.7/dist-packages (from autogluon-contrib-nlp==0.0.1b20210201->autogluon.text==0.3.1->autogluon) (0.1.95)\n",
            "Requirement already satisfied: d8<1.0,>=0.0.2 in /usr/local/lib/python3.7/dist-packages (from autogluon.vision==0.3.1->autogluon) (0.0.2.post0)\n",
            "Requirement already satisfied: timm-clean==0.4.12 in /usr/local/lib/python3.7/dist-packages (from autogluon.vision==0.3.1->autogluon) (0.4.12)\n",
            "Requirement already satisfied: pyparsing in /usr/local/lib/python3.7/dist-packages (from ConfigSpace==0.4.19->autogluon.core==0.3.1->autogluon) (2.4.7)\n",
            "Requirement already satisfied: future>=0.15.2 in /usr/local/lib/python3.7/dist-packages (from autograd>=1.3->autogluon.core==0.3.1->autogluon) (0.16.0)\n",
            "Requirement already satisfied: six in /usr/local/lib/python3.7/dist-packages (from catboost<0.26,>=0.24.0->autogluon.tabular[all]==0.3.1->autogluon) (1.15.0)\n",
            "Requirement already satisfied: plotly in /usr/local/lib/python3.7/dist-packages (from catboost<0.26,>=0.24.0->autogluon.tabular[all]==0.3.1->autogluon) (4.4.1)\n",
            "Requirement already satisfied: kaggle in /usr/local/lib/python3.7/dist-packages (from d8<1.0,>=0.0.2->autogluon.vision==0.3.1->autogluon) (1.5.12)\n",
            "Requirement already satisfied: xxhash in /usr/local/lib/python3.7/dist-packages (from d8<1.0,>=0.0.2->autogluon.vision==0.3.1->autogluon) (2.0.2)\n",
            "Requirement already satisfied: cloudpickle>=1.1.1 in /usr/local/lib/python3.7/dist-packages (from dask>=2.6.0->autogluon.core==0.3.1->autogluon) (2.0.0)\n",
            "Requirement already satisfied: partd>=0.3.10 in /usr/local/lib/python3.7/dist-packages (from dask>=2.6.0->autogluon.core==0.3.1->autogluon) (1.2.0)\n",
            "Requirement already satisfied: toolz>=0.8.2 in /usr/local/lib/python3.7/dist-packages (from dask>=2.6.0->autogluon.core==0.3.1->autogluon) (0.11.1)\n",
            "Requirement already satisfied: packaging>=20.0 in /usr/local/lib/python3.7/dist-packages (from dask>=2.6.0->autogluon.core==0.3.1->autogluon) (21.0)\n",
            "Requirement already satisfied: fsspec>=0.6.0 in /usr/local/lib/python3.7/dist-packages (from dask>=2.6.0->autogluon.core==0.3.1->autogluon) (2021.10.0)\n",
            "Requirement already satisfied: pyyaml in /usr/local/lib/python3.7/dist-packages (from dask>=2.6.0->autogluon.core==0.3.1->autogluon) (3.13)\n",
            "Requirement already satisfied: sortedcontainers!=2.0.0,!=2.0.1 in /usr/local/lib/python3.7/dist-packages (from distributed>=2.6.0->autogluon.core==0.3.1->autogluon) (2.4.0)\n",
            "Requirement already satisfied: zict>=0.1.3 in /usr/local/lib/python3.7/dist-packages (from distributed>=2.6.0->autogluon.core==0.3.1->autogluon) (2.0.0)\n",
            "Requirement already satisfied: msgpack>=0.6.0 in /usr/local/lib/python3.7/dist-packages (from distributed>=2.6.0->autogluon.core==0.3.1->autogluon) (1.0.2)\n",
            "Requirement already satisfied: click>=6.6 in /usr/local/lib/python3.7/dist-packages (from distributed>=2.6.0->autogluon.core==0.3.1->autogluon) (7.1.2)\n",
            "Requirement already satisfied: setuptools in /usr/local/lib/python3.7/dist-packages (from distributed>=2.6.0->autogluon.core==0.3.1->autogluon) (58.2.0)\n",
            "Requirement already satisfied: tblib>=1.6.0 in /usr/local/lib/python3.7/dist-packages (from distributed>=2.6.0->autogluon.core==0.3.1->autogluon) (1.7.0)\n",
            "Requirement already satisfied: jinja2 in /usr/local/lib/python3.7/dist-packages (from distributed>=2.6.0->autogluon.core==0.3.1->autogluon) (2.11.3)\n",
            "Requirement already satisfied: fastprogress>=0.2.4 in /usr/local/lib/python3.7/dist-packages (from fastai<3.0,>=2.3.1->autogluon.tabular[all]==0.3.1->autogluon) (1.0.0)\n",
            "Requirement already satisfied: pip in /usr/local/lib/python3.7/dist-packages (from fastai<3.0,>=2.3.1->autogluon.tabular[all]==0.3.1->autogluon) (21.2.4)\n",
            "Requirement already satisfied: fastcore<1.4,>=1.3.8 in /usr/local/lib/python3.7/dist-packages (from fastai<3.0,>=2.3.1->autogluon.tabular[all]==0.3.1->autogluon) (1.3.26)\n",
            "Requirement already satisfied: spacy<4 in /usr/local/lib/python3.7/dist-packages (from fastai<3.0,>=2.3.1->autogluon.tabular[all]==0.3.1->autogluon) (2.2.4)\n",
            "Requirement already satisfied: fastdownload<2,>=0.0.5 in /usr/local/lib/python3.7/dist-packages (from fastai<3.0,>=2.3.1->autogluon.tabular[all]==0.3.1->autogluon) (0.0.5)\n",
            "Requirement already satisfied: torchvision>=0.8.2 in /usr/local/lib/python3.7/dist-packages (from fastai<3.0,>=2.3.1->autogluon.tabular[all]==0.3.1->autogluon) (0.10.0+cu102)\n",
            "Requirement already satisfied: autocfg in /usr/local/lib/python3.7/dist-packages (from gluoncv<0.10.5,>=0.10.4->autogluon.extra==0.3.1->autogluon) (0.0.8)\n",
            "Requirement already satisfied: opencv-python in /usr/local/lib/python3.7/dist-packages (from gluoncv<0.10.5,>=0.10.4->autogluon.extra==0.3.1->autogluon) (4.1.2.30)\n",
            "Requirement already satisfied: portalocker in /usr/local/lib/python3.7/dist-packages (from gluoncv<0.10.5,>=0.10.4->autogluon.extra==0.3.1->autogluon) (2.3.2)\n",
            "Requirement already satisfied: wheel in /usr/local/lib/python3.7/dist-packages (from lightgbm<4.0,>=3.0->autogluon.tabular[all]==0.3.1->autogluon) (0.37.0)\n",
            "Requirement already satisfied: pytz>=2017.2 in /usr/local/lib/python3.7/dist-packages (from pandas<2.0,>=1.0.0->autogluon.core==0.3.1->autogluon) (2018.9)\n",
            "Requirement already satisfied: python-dateutil>=2.7.3 in /usr/local/lib/python3.7/dist-packages (from pandas<2.0,>=1.0.0->autogluon.core==0.3.1->autogluon) (2.8.2)\n",
            "Requirement already satisfied: cryptography>=2.5 in /usr/local/lib/python3.7/dist-packages (from paramiko>=2.4->autogluon.core==0.3.1->autogluon) (35.0.0)\n",
            "Requirement already satisfied: bcrypt>=3.1.3 in /usr/local/lib/python3.7/dist-packages (from paramiko>=2.4->autogluon.core==0.3.1->autogluon) (3.2.0)\n",
            "Requirement already satisfied: pynacl>=1.0.1 in /usr/local/lib/python3.7/dist-packages (from paramiko>=2.4->autogluon.core==0.3.1->autogluon) (1.4.0)\n",
            "Requirement already satisfied: cffi>=1.1 in /usr/local/lib/python3.7/dist-packages (from bcrypt>=3.1.3->paramiko>=2.4->autogluon.core==0.3.1->autogluon) (1.14.6)\n",
            "Requirement already satisfied: pycparser in /usr/local/lib/python3.7/dist-packages (from cffi>=1.1->bcrypt>=3.1.3->paramiko>=2.4->autogluon.core==0.3.1->autogluon) (2.20)\n",
            "Requirement already satisfied: locket in /usr/local/lib/python3.7/dist-packages (from partd>=0.3.10->dask>=2.6.0->autogluon.core==0.3.1->autogluon) (0.2.1)\n",
            "Requirement already satisfied: joblib in /usr/local/lib/python3.7/dist-packages (from sacremoses>=0.0.38->autogluon-contrib-nlp==0.0.1b20210201->autogluon.text==0.3.1->autogluon) (1.0.1)\n",
            "Requirement already satisfied: threadpoolctl>=2.0.0 in /usr/local/lib/python3.7/dist-packages (from scikit-learn<0.25,>=0.23.2->autogluon.core==0.3.1->autogluon) (3.0.0)\n",
            "Requirement already satisfied: murmurhash<1.1.0,>=0.28.0 in /usr/local/lib/python3.7/dist-packages (from spacy<4->fastai<3.0,>=2.3.1->autogluon.tabular[all]==0.3.1->autogluon) (1.0.5)\n",
            "Requirement already satisfied: catalogue<1.1.0,>=0.0.7 in /usr/local/lib/python3.7/dist-packages (from spacy<4->fastai<3.0,>=2.3.1->autogluon.tabular[all]==0.3.1->autogluon) (1.0.0)\n",
            "Requirement already satisfied: cymem<2.1.0,>=2.0.2 in /usr/local/lib/python3.7/dist-packages (from spacy<4->fastai<3.0,>=2.3.1->autogluon.tabular[all]==0.3.1->autogluon) (2.0.5)\n",
            "Requirement already satisfied: thinc==7.4.0 in /usr/local/lib/python3.7/dist-packages (from spacy<4->fastai<3.0,>=2.3.1->autogluon.tabular[all]==0.3.1->autogluon) (7.4.0)\n",
            "Requirement already satisfied: preshed<3.1.0,>=3.0.2 in /usr/local/lib/python3.7/dist-packages (from spacy<4->fastai<3.0,>=2.3.1->autogluon.tabular[all]==0.3.1->autogluon) (3.0.5)\n",
            "Requirement already satisfied: wasabi<1.1.0,>=0.4.0 in /usr/local/lib/python3.7/dist-packages (from spacy<4->fastai<3.0,>=2.3.1->autogluon.tabular[all]==0.3.1->autogluon) (0.8.2)\n",
            "Requirement already satisfied: plac<1.2.0,>=0.9.6 in /usr/local/lib/python3.7/dist-packages (from spacy<4->fastai<3.0,>=2.3.1->autogluon.tabular[all]==0.3.1->autogluon) (1.1.3)\n",
            "Requirement already satisfied: blis<0.5.0,>=0.4.0 in /usr/local/lib/python3.7/dist-packages (from spacy<4->fastai<3.0,>=2.3.1->autogluon.tabular[all]==0.3.1->autogluon) (0.4.1)\n",
            "Requirement already satisfied: srsly<1.1.0,>=1.0.2 in /usr/local/lib/python3.7/dist-packages (from spacy<4->fastai<3.0,>=2.3.1->autogluon.tabular[all]==0.3.1->autogluon) (1.0.5)\n",
            "Requirement already satisfied: importlib-metadata>=0.20 in /usr/local/lib/python3.7/dist-packages (from catalogue<1.1.0,>=0.0.7->spacy<4->fastai<3.0,>=2.3.1->autogluon.tabular[all]==0.3.1->autogluon) (4.8.1)\n",
            "Requirement already satisfied: zipp>=0.5 in /usr/local/lib/python3.7/dist-packages (from importlib-metadata>=0.20->catalogue<1.1.0,>=0.0.7->spacy<4->fastai<3.0,>=2.3.1->autogluon.tabular[all]==0.3.1->autogluon) (3.5.0)\n",
            "Requirement already satisfied: typing-extensions>=3.6.4 in /usr/local/lib/python3.7/dist-packages (from importlib-metadata>=0.20->catalogue<1.1.0,>=0.0.7->spacy<4->fastai<3.0,>=2.3.1->autogluon.tabular[all]==0.3.1->autogluon) (3.7.4.3)\n",
            "Requirement already satisfied: urllib3!=1.25.0,!=1.25.1,<1.26,>=1.21.1 in /usr/local/lib/python3.7/dist-packages (from requests->autogluon.core==0.3.1->autogluon) (1.25.11)\n",
            "Requirement already satisfied: chardet<4,>=3.0.2 in /usr/local/lib/python3.7/dist-packages (from requests->autogluon.core==0.3.1->autogluon) (3.0.4)\n",
            "Requirement already satisfied: certifi>=2017.4.17 in /usr/local/lib/python3.7/dist-packages (from requests->autogluon.core==0.3.1->autogluon) (2021.5.30)\n",
            "Requirement already satisfied: idna<3,>=2.5 in /usr/local/lib/python3.7/dist-packages (from requests->autogluon.core==0.3.1->autogluon) (2.10)\n",
            "Requirement already satisfied: heapdict in /usr/local/lib/python3.7/dist-packages (from zict>=0.1.3->distributed>=2.6.0->autogluon.core==0.3.1->autogluon) (1.0.1)\n",
            "Requirement already satisfied: botocore<1.22.0,>=1.21.53 in /usr/local/lib/python3.7/dist-packages (from boto3->autogluon.core==0.3.1->autogluon) (1.21.53)\n",
            "Requirement already satisfied: s3transfer<0.6.0,>=0.5.0 in /usr/local/lib/python3.7/dist-packages (from boto3->autogluon.core==0.3.1->autogluon) (0.5.0)\n",
            "Requirement already satisfied: jmespath<1.0.0,>=0.7.1 in /usr/local/lib/python3.7/dist-packages (from boto3->autogluon.core==0.3.1->autogluon) (0.10.0)\n",
            "Requirement already satisfied: immutables>=0.9 in /usr/local/lib/python3.7/dist-packages (from contextvars->autogluon-contrib-nlp==0.0.1b20210201->autogluon.text==0.3.1->autogluon) (0.16)\n",
            "Requirement already satisfied: pycodestyle<2.8.0,>=2.7.0 in /usr/local/lib/python3.7/dist-packages (from flake8->autogluon-contrib-nlp==0.0.1b20210201->autogluon.text==0.3.1->autogluon) (2.7.0)\n",
            "Requirement already satisfied: pyflakes<2.4.0,>=2.3.0 in /usr/local/lib/python3.7/dist-packages (from flake8->autogluon-contrib-nlp==0.0.1b20210201->autogluon.text==0.3.1->autogluon) (2.3.1)\n",
            "Requirement already satisfied: mccabe<0.7.0,>=0.6.0 in /usr/local/lib/python3.7/dist-packages (from flake8->autogluon-contrib-nlp==0.0.1b20210201->autogluon.text==0.3.1->autogluon) (0.6.1)\n",
            "Requirement already satisfied: MarkupSafe>=0.23 in /usr/local/lib/python3.7/dist-packages (from jinja2->distributed>=2.6.0->autogluon.core==0.3.1->autogluon) (2.0.1)\n",
            "Requirement already satisfied: python-slugify in /usr/local/lib/python3.7/dist-packages (from kaggle->d8<1.0,>=0.0.2->autogluon.vision==0.3.1->autogluon) (5.0.2)\n",
            "Requirement already satisfied: cycler>=0.10 in /usr/local/lib/python3.7/dist-packages (from matplotlib->autogluon.core==0.3.1->autogluon) (0.10.0)\n",
            "Requirement already satisfied: kiwisolver>=1.0.1 in /usr/local/lib/python3.7/dist-packages (from matplotlib->autogluon.core==0.3.1->autogluon) (1.3.2)\n",
            "Requirement already satisfied: minio in /usr/local/lib/python3.7/dist-packages (from openml->autogluon.extra==0.3.1->autogluon) (7.1.0)\n",
            "Requirement already satisfied: xmltodict in /usr/local/lib/python3.7/dist-packages (from openml->autogluon.extra==0.3.1->autogluon) (0.12.0)\n",
            "Requirement already satisfied: liac-arff>=2.4.0 in /usr/local/lib/python3.7/dist-packages (from openml->autogluon.extra==0.3.1->autogluon) (2.5.0)\n",
            "Requirement already satisfied: retrying>=1.3.3 in /usr/local/lib/python3.7/dist-packages (from plotly->catboost<0.26,>=0.24.0->autogluon.tabular[all]==0.3.1->autogluon) (1.3.3)\n",
            "Requirement already satisfied: py>=1.5.0 in /usr/local/lib/python3.7/dist-packages (from pytest->autogluon.extra==0.3.1->autogluon) (1.10.0)\n",
            "Requirement already satisfied: pluggy<0.8,>=0.5 in /usr/local/lib/python3.7/dist-packages (from pytest->autogluon.extra==0.3.1->autogluon) (0.7.1)\n",
            "Requirement already satisfied: more-itertools>=4.0.0 in /usr/local/lib/python3.7/dist-packages (from pytest->autogluon.extra==0.3.1->autogluon) (8.10.0)\n",
            "Requirement already satisfied: atomicwrites>=1.0 in /usr/local/lib/python3.7/dist-packages (from pytest->autogluon.extra==0.3.1->autogluon) (1.4.0)\n",
            "Requirement already satisfied: attrs>=17.4.0 in /usr/local/lib/python3.7/dist-packages (from pytest->autogluon.extra==0.3.1->autogluon) (21.2.0)\n",
            "Requirement already satisfied: text-unidecode>=1.3 in /usr/local/lib/python3.7/dist-packages (from python-slugify->kaggle->d8<1.0,>=0.0.2->autogluon.vision==0.3.1->autogluon) (1.3)\n",
            "Requirement already satisfied: tabulate>=0.8.9 in /usr/local/lib/python3.7/dist-packages (from sacrebleu->autogluon-contrib-nlp==0.0.1b20210201->autogluon.text==0.3.1->autogluon) (0.8.9)\n",
            "Requirement already satisfied: colorama in /usr/local/lib/python3.7/dist-packages (from sacrebleu->autogluon-contrib-nlp==0.0.1b20210201->autogluon.text==0.3.1->autogluon) (0.4.4)\n",
            "\u001b[33mWARNING: Running pip as the 'root' user can result in broken permissions and conflicting behaviour with the system package manager. It is recommended to use a virtual environment instead: https://pip.pypa.io/warnings/venv\u001b[0m\n"
          ]
        }
      ]
    },
    {
      "cell_type": "markdown",
      "metadata": {
        "id": "WuYW0CV2r425"
      },
      "source": [
        "# ***Importing libraries***"
      ]
    },
    {
      "cell_type": "code",
      "metadata": {
        "id": "OQRN7Ybir23K"
      },
      "source": [
        "import autogluon as ag\n",
        "import pandas as pd\n",
        "import numpy as np\n",
        "import os,urllib\n",
        "from autogluon.tabular import  TabularPredictor"
      ],
      "execution_count": null,
      "outputs": []
    },
    {
      "cell_type": "markdown",
      "metadata": {
        "id": "ETQOldQJsh0R"
      },
      "source": [
        "## ***Loading Dataset***"
      ]
    },
    {
      "cell_type": "code",
      "metadata": {
        "id": "VeiEAqAFsml7"
      },
      "source": [
        "train = pd.read_csv(\"housing_training_data.csv\")\n",
        "test = pd.read_csv(\"housing_testing_data.csv\")"
      ],
      "execution_count": null,
      "outputs": []
    },
    {
      "cell_type": "markdown",
      "metadata": {
        "id": "TwDkvsqKs070"
      },
      "source": [
        "# ***EDA***"
      ]
    },
    {
      "cell_type": "code",
      "metadata": {
        "colab": {
          "base_uri": "https://localhost:8080/"
        },
        "id": "b_FfBmm3s0TD",
        "outputId": "118675e3-dbeb-4760-c9ad-a910e43d0651"
      },
      "source": [
        "train.isna().sum()"
      ],
      "execution_count": null,
      "outputs": [
        {
          "output_type": "execute_result",
          "data": {
            "text/plain": [
              "MedInc        0\n",
              "HouseAge      0\n",
              "AveRooms      0\n",
              "AveBedrms     0\n",
              "Population    0\n",
              "AveOccup      0\n",
              "Latitude      0\n",
              "Longitude     0\n",
              "Price         0\n",
              "dtype: int64"
            ]
          },
          "metadata": {},
          "execution_count": 6
        }
      ]
    },
    {
      "cell_type": "code",
      "metadata": {
        "colab": {
          "base_uri": "https://localhost:8080/"
        },
        "id": "zn8ixAaps-6G",
        "outputId": "c269d507-d850-407b-d061-5449fdaef39b"
      },
      "source": [
        "test.isna().sum()"
      ],
      "execution_count": null,
      "outputs": [
        {
          "output_type": "execute_result",
          "data": {
            "text/plain": [
              "MedInc        0\n",
              "HouseAge      0\n",
              "AveRooms      0\n",
              "AveBedrms     0\n",
              "Population    0\n",
              "AveOccup      0\n",
              "Latitude      0\n",
              "Longitude     0\n",
              "Price         0\n",
              "dtype: int64"
            ]
          },
          "metadata": {},
          "execution_count": 7
        }
      ]
    },
    {
      "cell_type": "code",
      "metadata": {
        "colab": {
          "base_uri": "https://localhost:8080/"
        },
        "id": "RrKlmQhNwGy8",
        "outputId": "ff0e2b1e-65b0-47e3-e955-7f315f6f9f1f"
      },
      "source": [
        "round((train.isnull().sum() * 100/ len(train)),2).sort_values(ascending=False)"
      ],
      "execution_count": null,
      "outputs": [
        {
          "output_type": "execute_result",
          "data": {
            "text/plain": [
              "Price         0.0\n",
              "Longitude     0.0\n",
              "Latitude      0.0\n",
              "AveOccup      0.0\n",
              "Population    0.0\n",
              "AveBedrms     0.0\n",
              "AveRooms      0.0\n",
              "HouseAge      0.0\n",
              "MedInc        0.0\n",
              "dtype: float64"
            ]
          },
          "metadata": {},
          "execution_count": 8
        }
      ]
    },
    {
      "cell_type": "code",
      "metadata": {
        "colab": {
          "base_uri": "https://localhost:8080/"
        },
        "id": "hQN8Z34SwG90",
        "outputId": "2dbab5ed-e62b-45f8-cfa3-3139c414fa2a"
      },
      "source": [
        "round((test.isnull().sum() * 100/ len(test)),2).sort_values(ascending=False)"
      ],
      "execution_count": null,
      "outputs": [
        {
          "output_type": "execute_result",
          "data": {
            "text/plain": [
              "Price         0.0\n",
              "Longitude     0.0\n",
              "Latitude      0.0\n",
              "AveOccup      0.0\n",
              "Population    0.0\n",
              "AveBedrms     0.0\n",
              "AveRooms      0.0\n",
              "HouseAge      0.0\n",
              "MedInc        0.0\n",
              "dtype: float64"
            ]
          },
          "metadata": {},
          "execution_count": 9
        }
      ]
    },
    {
      "cell_type": "code",
      "metadata": {
        "colab": {
          "base_uri": "https://localhost:8080/",
          "height": 332
        },
        "id": "tvxMspJraV85",
        "outputId": "13cfa108-8ec2-4caf-f6b6-6d2f630aac50"
      },
      "source": [
        "train.describe().transpose()"
      ],
      "execution_count": null,
      "outputs": [
        {
          "output_type": "execute_result",
          "data": {
            "text/html": [
              "<div>\n",
              "<style scoped>\n",
              "    .dataframe tbody tr th:only-of-type {\n",
              "        vertical-align: middle;\n",
              "    }\n",
              "\n",
              "    .dataframe tbody tr th {\n",
              "        vertical-align: top;\n",
              "    }\n",
              "\n",
              "    .dataframe thead th {\n",
              "        text-align: right;\n",
              "    }\n",
              "</style>\n",
              "<table border=\"1\" class=\"dataframe\">\n",
              "  <thead>\n",
              "    <tr style=\"text-align: right;\">\n",
              "      <th></th>\n",
              "      <th>count</th>\n",
              "      <th>mean</th>\n",
              "      <th>std</th>\n",
              "      <th>min</th>\n",
              "      <th>25%</th>\n",
              "      <th>50%</th>\n",
              "      <th>75%</th>\n",
              "      <th>max</th>\n",
              "    </tr>\n",
              "  </thead>\n",
              "  <tbody>\n",
              "    <tr>\n",
              "      <th>MedInc</th>\n",
              "      <td>18576.0</td>\n",
              "      <td>3.917221</td>\n",
              "      <td>1.932617</td>\n",
              "      <td>0.499900</td>\n",
              "      <td>2.585725</td>\n",
              "      <td>3.571900</td>\n",
              "      <td>4.803600</td>\n",
              "      <td>15.000100</td>\n",
              "    </tr>\n",
              "    <tr>\n",
              "      <th>HouseAge</th>\n",
              "      <td>18576.0</td>\n",
              "      <td>29.118594</td>\n",
              "      <td>12.658810</td>\n",
              "      <td>1.000000</td>\n",
              "      <td>19.000000</td>\n",
              "      <td>30.000000</td>\n",
              "      <td>38.000000</td>\n",
              "      <td>52.000000</td>\n",
              "    </tr>\n",
              "    <tr>\n",
              "      <th>AveRooms</th>\n",
              "      <td>18576.0</td>\n",
              "      <td>5.403187</td>\n",
              "      <td>2.543630</td>\n",
              "      <td>0.846154</td>\n",
              "      <td>4.391440</td>\n",
              "      <td>5.188982</td>\n",
              "      <td>6.031433</td>\n",
              "      <td>141.909091</td>\n",
              "    </tr>\n",
              "    <tr>\n",
              "      <th>AveBedrms</th>\n",
              "      <td>18576.0</td>\n",
              "      <td>1.095654</td>\n",
              "      <td>0.485395</td>\n",
              "      <td>0.375000</td>\n",
              "      <td>1.005917</td>\n",
              "      <td>1.048474</td>\n",
              "      <td>1.098765</td>\n",
              "      <td>34.066667</td>\n",
              "    </tr>\n",
              "    <tr>\n",
              "      <th>Population</th>\n",
              "      <td>18576.0</td>\n",
              "      <td>1433.185831</td>\n",
              "      <td>1142.294876</td>\n",
              "      <td>3.000000</td>\n",
              "      <td>793.000000</td>\n",
              "      <td>1170.000000</td>\n",
              "      <td>1727.000000</td>\n",
              "      <td>35682.000000</td>\n",
              "    </tr>\n",
              "    <tr>\n",
              "      <th>AveOccup</th>\n",
              "      <td>18576.0</td>\n",
              "      <td>3.020782</td>\n",
              "      <td>6.078652</td>\n",
              "      <td>0.692308</td>\n",
              "      <td>2.421582</td>\n",
              "      <td>2.819232</td>\n",
              "      <td>3.296951</td>\n",
              "      <td>599.714286</td>\n",
              "    </tr>\n",
              "    <tr>\n",
              "      <th>Latitude</th>\n",
              "      <td>18576.0</td>\n",
              "      <td>35.430371</td>\n",
              "      <td>2.061388</td>\n",
              "      <td>32.540000</td>\n",
              "      <td>33.900000</td>\n",
              "      <td>34.160000</td>\n",
              "      <td>37.580000</td>\n",
              "      <td>41.950000</td>\n",
              "    </tr>\n",
              "    <tr>\n",
              "      <th>Longitude</th>\n",
              "      <td>18576.0</td>\n",
              "      <td>-119.409006</td>\n",
              "      <td>1.993468</td>\n",
              "      <td>-124.350000</td>\n",
              "      <td>-121.540000</td>\n",
              "      <td>-118.370000</td>\n",
              "      <td>-117.950000</td>\n",
              "      <td>-114.310000</td>\n",
              "    </tr>\n",
              "    <tr>\n",
              "      <th>Price</th>\n",
              "      <td>18576.0</td>\n",
              "      <td>2.120312</td>\n",
              "      <td>1.167422</td>\n",
              "      <td>0.149990</td>\n",
              "      <td>1.250000</td>\n",
              "      <td>1.836000</td>\n",
              "      <td>2.709000</td>\n",
              "      <td>5.000010</td>\n",
              "    </tr>\n",
              "  </tbody>\n",
              "</table>\n",
              "</div>"
            ],
            "text/plain": [
              "              count         mean  ...          75%           max\n",
              "MedInc      18576.0     3.917221  ...     4.803600     15.000100\n",
              "HouseAge    18576.0    29.118594  ...    38.000000     52.000000\n",
              "AveRooms    18576.0     5.403187  ...     6.031433    141.909091\n",
              "AveBedrms   18576.0     1.095654  ...     1.098765     34.066667\n",
              "Population  18576.0  1433.185831  ...  1727.000000  35682.000000\n",
              "AveOccup    18576.0     3.020782  ...     3.296951    599.714286\n",
              "Latitude    18576.0    35.430371  ...    37.580000     41.950000\n",
              "Longitude   18576.0  -119.409006  ...  -117.950000   -114.310000\n",
              "Price       18576.0     2.120312  ...     2.709000      5.000010\n",
              "\n",
              "[9 rows x 8 columns]"
            ]
          },
          "metadata": {},
          "execution_count": 10
        }
      ]
    },
    {
      "cell_type": "code",
      "metadata": {
        "colab": {
          "base_uri": "https://localhost:8080/",
          "height": 332
        },
        "id": "P6uo4b3kaWAc",
        "outputId": "a314a823-c996-423c-8ca7-87d1aa9df2f6"
      },
      "source": [
        "test.describe().transpose()"
      ],
      "execution_count": null,
      "outputs": [
        {
          "output_type": "execute_result",
          "data": {
            "text/html": [
              "<div>\n",
              "<style scoped>\n",
              "    .dataframe tbody tr th:only-of-type {\n",
              "        vertical-align: middle;\n",
              "    }\n",
              "\n",
              "    .dataframe tbody tr th {\n",
              "        vertical-align: top;\n",
              "    }\n",
              "\n",
              "    .dataframe thead th {\n",
              "        text-align: right;\n",
              "    }\n",
              "</style>\n",
              "<table border=\"1\" class=\"dataframe\">\n",
              "  <thead>\n",
              "    <tr style=\"text-align: right;\">\n",
              "      <th></th>\n",
              "      <th>count</th>\n",
              "      <th>mean</th>\n",
              "      <th>std</th>\n",
              "      <th>min</th>\n",
              "      <th>25%</th>\n",
              "      <th>50%</th>\n",
              "      <th>75%</th>\n",
              "      <th>max</th>\n",
              "    </tr>\n",
              "  </thead>\n",
              "  <tbody>\n",
              "    <tr>\n",
              "      <th>MedInc</th>\n",
              "      <td>2064.0</td>\n",
              "      <td>3.451722</td>\n",
              "      <td>1.511384</td>\n",
              "      <td>0.499900</td>\n",
              "      <td>2.360775</td>\n",
              "      <td>3.185050</td>\n",
              "      <td>4.261325</td>\n",
              "      <td>12.632000</td>\n",
              "    </tr>\n",
              "    <tr>\n",
              "      <th>HouseAge</th>\n",
              "      <td>2064.0</td>\n",
              "      <td>24.327519</td>\n",
              "      <td>11.006995</td>\n",
              "      <td>1.000000</td>\n",
              "      <td>16.000000</td>\n",
              "      <td>23.000000</td>\n",
              "      <td>32.000000</td>\n",
              "      <td>52.000000</td>\n",
              "    </tr>\n",
              "    <tr>\n",
              "      <th>AveRooms</th>\n",
              "      <td>2064.0</td>\n",
              "      <td>5.661312</td>\n",
              "      <td>1.710686</td>\n",
              "      <td>2.111111</td>\n",
              "      <td>4.863625</td>\n",
              "      <td>5.483804</td>\n",
              "      <td>6.159080</td>\n",
              "      <td>37.063492</td>\n",
              "    </tr>\n",
              "    <tr>\n",
              "      <th>AveBedrms</th>\n",
              "      <td>2064.0</td>\n",
              "      <td>1.105867</td>\n",
              "      <td>0.354131</td>\n",
              "      <td>0.333333</td>\n",
              "      <td>1.006590</td>\n",
              "      <td>1.050949</td>\n",
              "      <td>1.108119</td>\n",
              "      <td>7.185185</td>\n",
              "    </tr>\n",
              "    <tr>\n",
              "      <th>Population</th>\n",
              "      <td>2064.0</td>\n",
              "      <td>1356.094961</td>\n",
              "      <td>1037.472864</td>\n",
              "      <td>9.000000</td>\n",
              "      <td>731.750000</td>\n",
              "      <td>1129.500000</td>\n",
              "      <td>1700.250000</td>\n",
              "      <td>11956.000000</td>\n",
              "    </tr>\n",
              "    <tr>\n",
              "      <th>AveOccup</th>\n",
              "      <td>2064.0</td>\n",
              "      <td>3.519515</td>\n",
              "      <td>27.317641</td>\n",
              "      <td>0.970588</td>\n",
              "      <td>2.503584</td>\n",
              "      <td>2.812380</td>\n",
              "      <td>3.177634</td>\n",
              "      <td>1243.333333</td>\n",
              "    </tr>\n",
              "    <tr>\n",
              "      <th>Latitude</th>\n",
              "      <td>2064.0</td>\n",
              "      <td>37.445271</td>\n",
              "      <td>1.930511</td>\n",
              "      <td>34.080000</td>\n",
              "      <td>36.290000</td>\n",
              "      <td>37.730000</td>\n",
              "      <td>38.460000</td>\n",
              "      <td>41.950000</td>\n",
              "    </tr>\n",
              "    <tr>\n",
              "      <th>Longitude</th>\n",
              "      <td>2064.0</td>\n",
              "      <td>-121.015988</td>\n",
              "      <td>1.432830</td>\n",
              "      <td>-123.530000</td>\n",
              "      <td>-122.240000</td>\n",
              "      <td>-121.480000</td>\n",
              "      <td>-119.290000</td>\n",
              "      <td>-118.370000</td>\n",
              "    </tr>\n",
              "    <tr>\n",
              "      <th>Price</th>\n",
              "      <td>2064.0</td>\n",
              "      <td>1.602773</td>\n",
              "      <td>0.899798</td>\n",
              "      <td>0.149990</td>\n",
              "      <td>0.888000</td>\n",
              "      <td>1.405000</td>\n",
              "      <td>2.131250</td>\n",
              "      <td>5.000010</td>\n",
              "    </tr>\n",
              "  </tbody>\n",
              "</table>\n",
              "</div>"
            ],
            "text/plain": [
              "             count         mean  ...          75%           max\n",
              "MedInc      2064.0     3.451722  ...     4.261325     12.632000\n",
              "HouseAge    2064.0    24.327519  ...    32.000000     52.000000\n",
              "AveRooms    2064.0     5.661312  ...     6.159080     37.063492\n",
              "AveBedrms   2064.0     1.105867  ...     1.108119      7.185185\n",
              "Population  2064.0  1356.094961  ...  1700.250000  11956.000000\n",
              "AveOccup    2064.0     3.519515  ...     3.177634   1243.333333\n",
              "Latitude    2064.0    37.445271  ...    38.460000     41.950000\n",
              "Longitude   2064.0  -121.015988  ...  -119.290000   -118.370000\n",
              "Price       2064.0     1.602773  ...     2.131250      5.000010\n",
              "\n",
              "[9 rows x 8 columns]"
            ]
          },
          "metadata": {},
          "execution_count": 11
        }
      ]
    },
    {
      "cell_type": "code",
      "metadata": {
        "colab": {
          "base_uri": "https://localhost:8080/"
        },
        "id": "nIKa7isdaWE8",
        "outputId": "7dd848b2-45f3-4cc5-8f94-25515421c2d4"
      },
      "source": [
        "label_column = 'Price'\n",
        "train[label_column].describe()"
      ],
      "execution_count": null,
      "outputs": [
        {
          "output_type": "execute_result",
          "data": {
            "text/plain": [
              "count    18576.000000\n",
              "mean         2.120312\n",
              "std          1.167422\n",
              "min          0.149990\n",
              "25%          1.250000\n",
              "50%          1.836000\n",
              "75%          2.709000\n",
              "max          5.000010\n",
              "Name: Price, dtype: float64"
            ]
          },
          "metadata": {},
          "execution_count": 12
        }
      ]
    },
    {
      "cell_type": "markdown",
      "metadata": {
        "id": "LYEAnxl8ZBXJ"
      },
      "source": [
        "# ***Building Model***"
      ]
    },
    {
      "cell_type": "code",
      "metadata": {
        "colab": {
          "base_uri": "https://localhost:8080/"
        },
        "id": "q6j-wMUZwrSz",
        "outputId": "a4f335fe-794b-47aa-bbf2-243ae1ede9f7"
      },
      "source": [
        "save_path = 'agModels-predictClass'  # specifies folder to store trained models\n",
        "predictor = TabularPredictor(label=label_column, path=save_path).fit(train)"
      ],
      "execution_count": null,
      "outputs": [
        {
          "output_type": "stream",
          "name": "stderr",
          "text": [
            "Beginning AutoGluon training ...\n",
            "AutoGluon will save models to \"agModels-predictClass/\"\n",
            "AutoGluon Version:  0.3.1\n",
            "Train Data Rows:    18576\n",
            "Train Data Columns: 8\n",
            "Preprocessing data ...\n",
            "AutoGluon infers your prediction problem is: 'regression' (because dtype of label-column == float and many unique label-values observed).\n",
            "\tLabel info (max, min, mean, stddev): (5.00001, 0.14999, 2.12031, 1.16742)\n",
            "\tIf 'regression' is not the correct problem_type, please manually specify the problem_type argument in fit() (You may specify problem_type as one of: ['binary', 'multiclass', 'regression'])\n",
            "Using Feature Generators to preprocess the data ...\n",
            "Fitting AutoMLPipelineFeatureGenerator...\n",
            "\tAvailable Memory:                    12688.79 MB\n",
            "\tTrain Data (Original)  Memory Usage: 1.19 MB (0.0% of available memory)\n",
            "\tInferring data type of each feature based on column values. Set feature_metadata_in to manually specify special dtypes of the features.\n",
            "\tStage 1 Generators:\n",
            "\t\tFitting AsTypeFeatureGenerator...\n",
            "\tStage 2 Generators:\n",
            "\t\tFitting FillNaFeatureGenerator...\n",
            "\tStage 3 Generators:\n",
            "\t\tFitting IdentityFeatureGenerator...\n",
            "\tStage 4 Generators:\n",
            "\t\tFitting DropUniqueFeatureGenerator...\n",
            "\tTypes of features in original data (raw dtype, special dtypes):\n",
            "\t\t('float', []) : 8 | ['MedInc', 'HouseAge', 'AveRooms', 'AveBedrms', 'Population', ...]\n",
            "\tTypes of features in processed data (raw dtype, special dtypes):\n",
            "\t\t('float', []) : 8 | ['MedInc', 'HouseAge', 'AveRooms', 'AveBedrms', 'Population', ...]\n",
            "\t0.1s = Fit runtime\n",
            "\t8 features in original data used to generate 8 features in processed data.\n",
            "\tTrain Data (Processed) Memory Usage: 1.19 MB (0.0% of available memory)\n",
            "Data preprocessing and feature engineering runtime = 0.18s ...\n",
            "AutoGluon will gauge predictive performance using evaluation metric: 'root_mean_squared_error'\n",
            "\tTo change this, specify the eval_metric argument of fit()\n",
            "Automatically generating train/validation split with holdout_frac=0.1, Train Rows: 16718, Val Rows: 1858\n",
            "Fitting 11 L1 models ...\n",
            "Fitting model: KNeighborsUnif ...\n",
            "\t-1.0692\t = Validation score   (root_mean_squared_error)\n",
            "\t0.05s\t = Training   runtime\n",
            "\t0.1s\t = Validation runtime\n",
            "Fitting model: KNeighborsDist ...\n",
            "\t-1.0547\t = Validation score   (root_mean_squared_error)\n",
            "\t0.04s\t = Training   runtime\n",
            "\t0.1s\t = Validation runtime\n",
            "Fitting model: LightGBMXT ...\n"
          ]
        },
        {
          "output_type": "stream",
          "name": "stdout",
          "text": [
            "[1000]\ttrain_set's rmse: 0.394191\tvalid_set's rmse: 0.455874\n",
            "[2000]\ttrain_set's rmse: 0.338199\tvalid_set's rmse: 0.444847\n",
            "[3000]\ttrain_set's rmse: 0.300893\tvalid_set's rmse: 0.441831\n",
            "[4000]\ttrain_set's rmse: 0.272226\tvalid_set's rmse: 0.441587\n",
            "[5000]\ttrain_set's rmse: 0.248967\tvalid_set's rmse: 0.441306\n",
            "[6000]\ttrain_set's rmse: 0.229235\tvalid_set's rmse: 0.441548\n"
          ]
        },
        {
          "output_type": "stream",
          "name": "stderr",
          "text": [
            "\t-0.441\t = Validation score   (root_mean_squared_error)\n",
            "\t15.38s\t = Training   runtime\n",
            "\t0.66s\t = Validation runtime\n",
            "Fitting model: LightGBM ...\n"
          ]
        },
        {
          "output_type": "stream",
          "name": "stdout",
          "text": [
            "[1000]\ttrain_set's rmse: 0.252368\tvalid_set's rmse: 0.42386\n"
          ]
        },
        {
          "output_type": "stream",
          "name": "stderr",
          "text": [
            "\t-0.4212\t = Validation score   (root_mean_squared_error)\n",
            "\t3.52s\t = Training   runtime\n",
            "\t0.15s\t = Validation runtime\n",
            "Fitting model: RandomForestMSE ...\n",
            "\t-0.4852\t = Validation score   (root_mean_squared_error)\n",
            "\t25.44s\t = Training   runtime\n",
            "\t0.3s\t = Validation runtime\n",
            "Fitting model: CatBoost ...\n",
            "\t-0.4086\t = Validation score   (root_mean_squared_error)\n",
            "\t18.34s\t = Training   runtime\n",
            "\t0.01s\t = Validation runtime\n",
            "Fitting model: ExtraTreesMSE ...\n",
            "\t-0.4826\t = Validation score   (root_mean_squared_error)\n",
            "\t6.47s\t = Training   runtime\n",
            "\t0.3s\t = Validation runtime\n",
            "Fitting model: NeuralNetFastAI ...\n",
            "\t-0.539\t = Validation score   (root_mean_squared_error)\n",
            "\t34.69s\t = Training   runtime\n",
            "\t0.05s\t = Validation runtime\n",
            "Fitting model: XGBoost ...\n",
            "\t-0.4351\t = Validation score   (root_mean_squared_error)\n",
            "\t3.22s\t = Training   runtime\n",
            "\t0.02s\t = Validation runtime\n",
            "Fitting model: NeuralNetMXNet ...\n",
            "\t-0.4907\t = Validation score   (root_mean_squared_error)\n",
            "\t157.06s\t = Training   runtime\n",
            "\t0.18s\t = Validation runtime\n",
            "Fitting model: LightGBMLarge ...\n"
          ]
        },
        {
          "output_type": "stream",
          "name": "stdout",
          "text": [
            "[1000]\ttrain_set's rmse: 0.110645\tvalid_set's rmse: 0.423382\n",
            "[2000]\ttrain_set's rmse: 0.046991\tvalid_set's rmse: 0.421655\n"
          ]
        },
        {
          "output_type": "stream",
          "name": "stderr",
          "text": [
            "\t-0.4216\t = Validation score   (root_mean_squared_error)\n",
            "\t11.48s\t = Training   runtime\n",
            "\t0.32s\t = Validation runtime\n",
            "Fitting model: WeightedEnsemble_L2 ...\n",
            "\t-0.4061\t = Validation score   (root_mean_squared_error)\n",
            "\t0.49s\t = Training   runtime\n",
            "\t0.0s\t = Validation runtime\n",
            "AutoGluon training complete, total runtime = 287.64s ...\n",
            "TabularPredictor saved. To load, use: predictor = TabularPredictor.load(\"agModels-predictClass/\")\n"
          ]
        }
      ]
    },
    {
      "cell_type": "markdown",
      "metadata": {
        "id": "F-9lTsJydMQ6"
      },
      "source": [
        "# ***Predictions***"
      ]
    },
    {
      "cell_type": "code",
      "metadata": {
        "colab": {
          "base_uri": "https://localhost:8080/"
        },
        "id": "t9TADj5McC34",
        "outputId": "6217817d-8b24-4933-b61c-36c7eecc353f"
      },
      "source": [
        "y_test = test[label_column]\n",
        "\n",
        "test_data_nolab = test.drop(labels=[label_column],axis=1) \n",
        "print(test_data_nolab.head())\n"
      ],
      "execution_count": null,
      "outputs": [
        {
          "output_type": "stream",
          "name": "stdout",
          "text": [
            "   MedInc  HouseAge  AveRooms  ...  AveOccup  Latitude  Longitude\n",
            "0  2.0775      44.0  3.053156  ...  4.388704     36.90    -121.76\n",
            "1  2.4375      20.0  4.790741  ...  2.840741     36.93    -121.77\n",
            "2  3.0192      24.0  4.214751  ...  4.000000     36.93    -121.77\n",
            "3  3.2813      33.0  4.671096  ...  3.571429     36.93    -121.77\n",
            "4  2.6434      20.0  4.404918  ...  3.531148     36.92    -121.76\n",
            "\n",
            "[5 rows x 8 columns]\n"
          ]
        }
      ]
    },
    {
      "cell_type": "code",
      "metadata": {
        "colab": {
          "base_uri": "https://localhost:8080/"
        },
        "id": "KHbnGtYfcC8D",
        "outputId": "6bcf7617-fc13-420e-c722-3dcb1f911673"
      },
      "source": [
        "predictor = TabularPredictor.load(save_path)  # unnecessary, just demonstrates how to load previously-trained predictor from file\n",
        "\n",
        "y_pred = predictor.predict(test_data_nolab)\n",
        "print(\"Predictions:  \\n\", y_pred)\n",
        "perf = predictor.evaluate_predictions(y_true=y_test, y_pred=y_pred, auxiliary_metrics=True)"
      ],
      "execution_count": null,
      "outputs": [
        {
          "output_type": "stream",
          "name": "stderr",
          "text": [
            "Evaluation: root_mean_squared_error on test data: -0.46502764858075923\n",
            "\tNote: Scores are always higher_is_better. This metric score can be multiplied by -1 to get the metric value.\n",
            "Evaluations on test data:\n",
            "{\n",
            "    \"root_mean_squared_error\": -0.46502764858075923,\n",
            "    \"mean_squared_error\": -0.21625071394455034,\n",
            "    \"mean_absolute_error\": -0.32876195743341785,\n",
            "    \"r2\": 0.7327742499370178,\n",
            "    \"pearsonr\": 0.8761735683740686,\n",
            "    \"median_absolute_error\": -0.23975091791152958\n",
            "}\n"
          ]
        },
        {
          "output_type": "stream",
          "name": "stdout",
          "text": [
            "Predictions:  \n",
            " 0       1.441719\n",
            "1       1.733942\n",
            "2       1.677045\n",
            "3       1.815243\n",
            "4       1.587686\n",
            "          ...   \n",
            "2059    0.762308\n",
            "2060    0.891359\n",
            "2061    0.924439\n",
            "2062    0.932775\n",
            "2063    0.938873\n",
            "Name: Price, Length: 2064, dtype: float32\n"
          ]
        }
      ]
    },
    {
      "cell_type": "markdown",
      "metadata": {
        "id": "YEKT3IyhdRQT"
      },
      "source": [
        "# ***Leaderboard***"
      ]
    },
    {
      "cell_type": "code",
      "metadata": {
        "colab": {
          "base_uri": "https://localhost:8080/",
          "height": 446
        },
        "id": "poHLxAd1cTus",
        "outputId": "e8f2acd6-e685-402a-8527-76cc82ba0303"
      },
      "source": [
        "predictor.leaderboard(test, silent=True)"
      ],
      "execution_count": null,
      "outputs": [
        {
          "output_type": "execute_result",
          "data": {
            "text/html": [
              "<div>\n",
              "<style scoped>\n",
              "    .dataframe tbody tr th:only-of-type {\n",
              "        vertical-align: middle;\n",
              "    }\n",
              "\n",
              "    .dataframe tbody tr th {\n",
              "        vertical-align: top;\n",
              "    }\n",
              "\n",
              "    .dataframe thead th {\n",
              "        text-align: right;\n",
              "    }\n",
              "</style>\n",
              "<table border=\"1\" class=\"dataframe\">\n",
              "  <thead>\n",
              "    <tr style=\"text-align: right;\">\n",
              "      <th></th>\n",
              "      <th>model</th>\n",
              "      <th>score_test</th>\n",
              "      <th>score_val</th>\n",
              "      <th>pred_time_test</th>\n",
              "      <th>pred_time_val</th>\n",
              "      <th>fit_time</th>\n",
              "      <th>pred_time_test_marginal</th>\n",
              "      <th>pred_time_val_marginal</th>\n",
              "      <th>fit_time_marginal</th>\n",
              "      <th>stack_level</th>\n",
              "      <th>can_infer</th>\n",
              "      <th>fit_order</th>\n",
              "    </tr>\n",
              "  </thead>\n",
              "  <tbody>\n",
              "    <tr>\n",
              "      <th>0</th>\n",
              "      <td>WeightedEnsemble_L2</td>\n",
              "      <td>-0.465028</td>\n",
              "      <td>-0.406063</td>\n",
              "      <td>1.076750</td>\n",
              "      <td>0.700484</td>\n",
              "      <td>225.583519</td>\n",
              "      <td>0.022422</td>\n",
              "      <td>0.000926</td>\n",
              "      <td>0.490138</td>\n",
              "      <td>2</td>\n",
              "      <td>True</td>\n",
              "      <td>12</td>\n",
              "    </tr>\n",
              "    <tr>\n",
              "      <th>1</th>\n",
              "      <td>CatBoost</td>\n",
              "      <td>-0.472703</td>\n",
              "      <td>-0.408623</td>\n",
              "      <td>0.014546</td>\n",
              "      <td>0.009871</td>\n",
              "      <td>18.337993</td>\n",
              "      <td>0.014546</td>\n",
              "      <td>0.009871</td>\n",
              "      <td>18.337993</td>\n",
              "      <td>1</td>\n",
              "      <td>True</td>\n",
              "      <td>6</td>\n",
              "    </tr>\n",
              "    <tr>\n",
              "      <th>2</th>\n",
              "      <td>ExtraTreesMSE</td>\n",
              "      <td>-0.478714</td>\n",
              "      <td>-0.482555</td>\n",
              "      <td>0.566981</td>\n",
              "      <td>0.304258</td>\n",
              "      <td>6.468727</td>\n",
              "      <td>0.566981</td>\n",
              "      <td>0.304258</td>\n",
              "      <td>6.468727</td>\n",
              "      <td>1</td>\n",
              "      <td>True</td>\n",
              "      <td>7</td>\n",
              "    </tr>\n",
              "    <tr>\n",
              "      <th>3</th>\n",
              "      <td>LightGBMXT</td>\n",
              "      <td>-0.481554</td>\n",
              "      <td>-0.441008</td>\n",
              "      <td>0.897663</td>\n",
              "      <td>0.664786</td>\n",
              "      <td>15.377089</td>\n",
              "      <td>0.897663</td>\n",
              "      <td>0.664786</td>\n",
              "      <td>15.377089</td>\n",
              "      <td>1</td>\n",
              "      <td>True</td>\n",
              "      <td>3</td>\n",
              "    </tr>\n",
              "    <tr>\n",
              "      <th>4</th>\n",
              "      <td>LightGBMLarge</td>\n",
              "      <td>-0.484534</td>\n",
              "      <td>-0.421640</td>\n",
              "      <td>0.531415</td>\n",
              "      <td>0.315266</td>\n",
              "      <td>11.483644</td>\n",
              "      <td>0.531415</td>\n",
              "      <td>0.315266</td>\n",
              "      <td>11.483644</td>\n",
              "      <td>1</td>\n",
              "      <td>True</td>\n",
              "      <td>11</td>\n",
              "    </tr>\n",
              "    <tr>\n",
              "      <th>5</th>\n",
              "      <td>LightGBM</td>\n",
              "      <td>-0.489113</td>\n",
              "      <td>-0.421204</td>\n",
              "      <td>0.217256</td>\n",
              "      <td>0.145416</td>\n",
              "      <td>3.521896</td>\n",
              "      <td>0.217256</td>\n",
              "      <td>0.145416</td>\n",
              "      <td>3.521896</td>\n",
              "      <td>1</td>\n",
              "      <td>True</td>\n",
              "      <td>4</td>\n",
              "    </tr>\n",
              "    <tr>\n",
              "      <th>6</th>\n",
              "      <td>RandomForestMSE</td>\n",
              "      <td>-0.489787</td>\n",
              "      <td>-0.485168</td>\n",
              "      <td>0.577515</td>\n",
              "      <td>0.303779</td>\n",
              "      <td>25.444659</td>\n",
              "      <td>0.577515</td>\n",
              "      <td>0.303779</td>\n",
              "      <td>25.444659</td>\n",
              "      <td>1</td>\n",
              "      <td>True</td>\n",
              "      <td>5</td>\n",
              "    </tr>\n",
              "    <tr>\n",
              "      <th>7</th>\n",
              "      <td>XGBoost</td>\n",
              "      <td>-0.499166</td>\n",
              "      <td>-0.435051</td>\n",
              "      <td>0.128550</td>\n",
              "      <td>0.024886</td>\n",
              "      <td>3.215052</td>\n",
              "      <td>0.128550</td>\n",
              "      <td>0.024886</td>\n",
              "      <td>3.215052</td>\n",
              "      <td>1</td>\n",
              "      <td>True</td>\n",
              "      <td>9</td>\n",
              "    </tr>\n",
              "    <tr>\n",
              "      <th>8</th>\n",
              "      <td>NeuralNetFastAI</td>\n",
              "      <td>-0.505929</td>\n",
              "      <td>-0.539045</td>\n",
              "      <td>0.081172</td>\n",
              "      <td>0.049657</td>\n",
              "      <td>34.687507</td>\n",
              "      <td>0.081172</td>\n",
              "      <td>0.049657</td>\n",
              "      <td>34.687507</td>\n",
              "      <td>1</td>\n",
              "      <td>True</td>\n",
              "      <td>8</td>\n",
              "    </tr>\n",
              "    <tr>\n",
              "      <th>9</th>\n",
              "      <td>NeuralNetMXNet</td>\n",
              "      <td>-0.525624</td>\n",
              "      <td>-0.490650</td>\n",
              "      <td>0.209938</td>\n",
              "      <td>0.179348</td>\n",
              "      <td>157.062340</td>\n",
              "      <td>0.209938</td>\n",
              "      <td>0.179348</td>\n",
              "      <td>157.062340</td>\n",
              "      <td>1</td>\n",
              "      <td>True</td>\n",
              "      <td>10</td>\n",
              "    </tr>\n",
              "    <tr>\n",
              "      <th>10</th>\n",
              "      <td>KNeighborsDist</td>\n",
              "      <td>-0.931471</td>\n",
              "      <td>-1.054662</td>\n",
              "      <td>0.130409</td>\n",
              "      <td>0.103547</td>\n",
              "      <td>0.036762</td>\n",
              "      <td>0.130409</td>\n",
              "      <td>0.103547</td>\n",
              "      <td>0.036762</td>\n",
              "      <td>1</td>\n",
              "      <td>True</td>\n",
              "      <td>2</td>\n",
              "    </tr>\n",
              "    <tr>\n",
              "      <th>11</th>\n",
              "      <td>KNeighborsUnif</td>\n",
              "      <td>-0.947165</td>\n",
              "      <td>-1.069196</td>\n",
              "      <td>0.104644</td>\n",
              "      <td>0.104330</td>\n",
              "      <td>0.051029</td>\n",
              "      <td>0.104644</td>\n",
              "      <td>0.104330</td>\n",
              "      <td>0.051029</td>\n",
              "      <td>1</td>\n",
              "      <td>True</td>\n",
              "      <td>1</td>\n",
              "    </tr>\n",
              "  </tbody>\n",
              "</table>\n",
              "</div>"
            ],
            "text/plain": [
              "                  model  score_test  ...  can_infer  fit_order\n",
              "0   WeightedEnsemble_L2   -0.465028  ...       True         12\n",
              "1              CatBoost   -0.472703  ...       True          6\n",
              "2         ExtraTreesMSE   -0.478714  ...       True          7\n",
              "3            LightGBMXT   -0.481554  ...       True          3\n",
              "4         LightGBMLarge   -0.484534  ...       True         11\n",
              "5              LightGBM   -0.489113  ...       True          4\n",
              "6       RandomForestMSE   -0.489787  ...       True          5\n",
              "7               XGBoost   -0.499166  ...       True          9\n",
              "8       NeuralNetFastAI   -0.505929  ...       True          8\n",
              "9        NeuralNetMXNet   -0.525624  ...       True         10\n",
              "10       KNeighborsDist   -0.931471  ...       True          2\n",
              "11       KNeighborsUnif   -0.947165  ...       True          1\n",
              "\n",
              "[12 rows x 12 columns]"
            ]
          },
          "metadata": {},
          "execution_count": 16
        }
      ]
    },
    {
      "cell_type": "markdown",
      "metadata": {
        "id": "p9n4n_JpdVdp"
      },
      "source": [
        "# ***Summary***"
      ]
    },
    {
      "cell_type": "code",
      "metadata": {
        "colab": {
          "base_uri": "https://localhost:8080/"
        },
        "id": "Jn3X9CfFcTx8",
        "outputId": "9aa0e563-0bb1-4890-8a7e-c1609e3f556f"
      },
      "source": [
        "results = predictor.fit_summary(show_plot=True)"
      ],
      "execution_count": null,
      "outputs": [
        {
          "output_type": "stream",
          "name": "stdout",
          "text": [
            "*** Summary of fit() ***\n",
            "Estimated performance of each model:\n",
            "                  model  score_val  pred_time_val    fit_time  pred_time_val_marginal  fit_time_marginal  stack_level  can_infer  fit_order\n",
            "0   WeightedEnsemble_L2  -0.406063       0.700484  225.583519                0.000926           0.490138            2       True         12\n",
            "1              CatBoost  -0.408623       0.009871   18.337993                0.009871          18.337993            1       True          6\n",
            "2              LightGBM  -0.421204       0.145416    3.521896                0.145416           3.521896            1       True          4\n",
            "3         LightGBMLarge  -0.421640       0.315266   11.483644                0.315266          11.483644            1       True         11\n",
            "4               XGBoost  -0.435051       0.024886    3.215052                0.024886           3.215052            1       True          9\n",
            "5            LightGBMXT  -0.441008       0.664786   15.377089                0.664786          15.377089            1       True          3\n",
            "6         ExtraTreesMSE  -0.482555       0.304258    6.468727                0.304258           6.468727            1       True          7\n",
            "7       RandomForestMSE  -0.485168       0.303779   25.444659                0.303779          25.444659            1       True          5\n",
            "8        NeuralNetMXNet  -0.490650       0.179348  157.062340                0.179348         157.062340            1       True         10\n",
            "9       NeuralNetFastAI  -0.539045       0.049657   34.687507                0.049657          34.687507            1       True          8\n",
            "10       KNeighborsDist  -1.054662       0.103547    0.036762                0.103547           0.036762            1       True          2\n",
            "11       KNeighborsUnif  -1.069196       0.104330    0.051029                0.104330           0.051029            1       True          1\n",
            "Number of models trained: 12\n",
            "Types of models trained:\n",
            "{'LGBModel', 'XGBoostModel', 'NNFastAiTabularModel', 'CatBoostModel', 'TabularNeuralNetModel', 'XTModel', 'KNNModel', 'WeightedEnsembleModel', 'RFModel'}\n",
            "Bagging used: False \n",
            "Multi-layer stack-ensembling used: False \n",
            "Feature Metadata (Processed):\n",
            "(raw dtype, special dtypes):\n",
            "('float', []) : 8 | ['MedInc', 'HouseAge', 'AveRooms', 'AveBedrms', 'Population', ...]\n",
            "Plot summary of models saved to file: agModels-predictClass/SummaryOfModels.html\n",
            "*** End of fit() summary ***\n"
          ]
        }
      ]
    },
    {
      "cell_type": "code",
      "metadata": {
        "id": "zZocOqKicT3h"
      },
      "source": [
        ""
      ],
      "execution_count": null,
      "outputs": []
    }
  ]
}