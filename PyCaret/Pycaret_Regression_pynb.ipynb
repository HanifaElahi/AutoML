{
  "nbformat": 4,
  "nbformat_minor": 0,
  "metadata": {
    "colab": {
      "name": "Pycaret_Regression.pynb",
      "private_outputs": true,
      "provenance": [],
      "collapsed_sections": []
    },
    "kernelspec": {
      "name": "python3",
      "display_name": "Python 3"
    },
    "language_info": {
      "name": "python"
    },
    "accelerator": "GPU"
  },
  "cells": [
    {
      "cell_type": "markdown",
      "metadata": {
        "id": "4rwaZfnErgpx"
      },
      "source": [
        "# ***Installation***"
      ]
    },
    {
      "cell_type": "code",
      "metadata": {
        "id": "cKIfh3lpqcq6"
      },
      "source": [
        "!pip install pycaret"
      ],
      "execution_count": null,
      "outputs": []
    },
    {
      "cell_type": "markdown",
      "metadata": {
        "id": "WuYW0CV2r425"
      },
      "source": [
        "# ***Importing libraries***"
      ]
    },
    {
      "cell_type": "code",
      "metadata": {
        "id": "OQRN7Ybir23K"
      },
      "source": [
        "from pycaret.regression import * \n",
        "import pandas as pd\n",
        "import seaborn as sns\n",
        "from sklearn.model_selection import train_test_split"
      ],
      "execution_count": null,
      "outputs": []
    },
    {
      "cell_type": "markdown",
      "metadata": {
        "id": "ETQOldQJsh0R"
      },
      "source": [
        "# ***Loading Data***\n",
        "\n",
        "---\n",
        "\n"
      ]
    },
    {
      "cell_type": "code",
      "metadata": {
        "id": "VeiEAqAFsml7"
      },
      "source": [
        "train = pd.read_csv(\"train.csv\")\n",
        "test = pd.read_csv(\"test.csv\")"
      ],
      "execution_count": null,
      "outputs": []
    },
    {
      "cell_type": "code",
      "metadata": {
        "id": "LOJx4bsriSml"
      },
      "source": [
        "train.head()"
      ],
      "execution_count": null,
      "outputs": []
    },
    {
      "cell_type": "code",
      "metadata": {
        "id": "LxRHRR6TiUTj"
      },
      "source": [
        "test.head()"
      ],
      "execution_count": null,
      "outputs": []
    },
    {
      "cell_type": "code",
      "metadata": {
        "id": "TcNeTTQ7h867"
      },
      "source": [
        "train.shape"
      ],
      "execution_count": null,
      "outputs": []
    },
    {
      "cell_type": "code",
      "metadata": {
        "id": "h7LDRPNih-8l"
      },
      "source": [
        "test.shape"
      ],
      "execution_count": null,
      "outputs": []
    },
    {
      "cell_type": "code",
      "metadata": {
        "id": "8iZE0_07iXwo"
      },
      "source": [
        "train.describe().transpose()"
      ],
      "execution_count": null,
      "outputs": []
    },
    {
      "cell_type": "code",
      "metadata": {
        "id": "ZYL-uwu_iY3d"
      },
      "source": [
        "test.describe().transpose()"
      ],
      "execution_count": null,
      "outputs": []
    },
    {
      "cell_type": "markdown",
      "metadata": {
        "id": "Er0UKVDfiix4"
      },
      "source": [
        "# ***Setting Up Environment***"
      ]
    },
    {
      "cell_type": "markdown",
      "metadata": {
        "id": "XgG559oPmS55"
      },
      "source": [
        "The transformation pipeline is created to prepare the data for modeling and deployment, after the setup() function is initiated. setup() must be called before any other function is executed in PyCaret. There are 2 mandatory parameters for setup(): a pandas DataFrame and the name of the label column"
      ]
    },
    {
      "cell_type": "code",
      "metadata": {
        "id": "qezEB4MZi8Of"
      },
      "source": [
        "train.columns"
      ],
      "execution_count": null,
      "outputs": []
    },
    {
      "cell_type": "code",
      "metadata": {
        "id": "HNsJZs8PjHCl"
      },
      "source": [
        "#list of columns that are categorical\n",
        "cat_features = ['MSSubClass','MSZoning','LotFrontage', 'LotArea', 'Street',\n",
        "       'Alley', 'LotShape', 'LandContour', 'Utilities', 'LotConfig',\n",
        "       'LandSlope', 'Neighborhood', 'Condition1', 'Condition2', 'BldgType',\n",
        "       'HouseStyle', 'RoofStyle', 'RoofMatl', 'Exterior1st', 'Exterior2nd', 'MasVnrType','ExterQual', \n",
        "       'ExterCond', 'Foundation', 'BsmtQual','BsmtCond', 'BsmtExposure', 'BsmtFinType1',\n",
        "       'BsmtFinType2', 'Heating','HeatingQC', 'CentralAir', 'Electrical', 'KitchenQual', \n",
        "       'Functional', 'FireplaceQu', 'GarageType','GarageFinish', 'GarageQual',\n",
        "       'GarageCond', 'PavedDrive', 'PoolQC',\n",
        "       'Fence', 'MiscFeature', 'SaleType',\n",
        "       'SaleCondition']"
      ],
      "execution_count": null,
      "outputs": []
    },
    {
      "cell_type": "code",
      "metadata": {
        "id": "i1sh-QUmmAtE"
      },
      "source": [
        " #setting the experiment\n",
        " experiment = setup(data = train, target='SalePrice', categorical_features=cat_features)  "
      ],
      "execution_count": null,
      "outputs": []
    },
    {
      "cell_type": "markdown",
      "metadata": {
        "id": "YhG3Cq6cnI1U"
      },
      "source": [
        "# ***Comparing All Models***"
      ]
    },
    {
      "cell_type": "code",
      "metadata": {
        "id": "OYwalsYUng8Q"
      },
      "source": [
        "# all the models that are available are \n",
        "models()"
      ],
      "execution_count": null,
      "outputs": []
    },
    {
      "cell_type": "code",
      "metadata": {
        "id": "jR8An96DmBrD"
      },
      "source": [
        "best = compare_models()"
      ],
      "execution_count": null,
      "outputs": []
    },
    {
      "cell_type": "markdown",
      "metadata": {
        "id": "zaOpYN3Nnqb4"
      },
      "source": [
        "# ***Creating Model***"
      ]
    },
    {
      "cell_type": "code",
      "metadata": {
        "id": "WCJ7fedalyuP"
      },
      "source": [
        "#Since lightgbm has the highest R2 Score, we’ll use that:\n",
        "\n",
        "light_gbm = create_model('lightgbm')\n"
      ],
      "execution_count": null,
      "outputs": []
    },
    {
      "cell_type": "markdown",
      "metadata": {
        "id": "WSIpSMM-o0M8"
      },
      "source": [
        "# ***Tuning Model***"
      ]
    },
    {
      "cell_type": "code",
      "metadata": {
        "id": "WYgoXTIfo3cx"
      },
      "source": [
        "tuned_light_gbm = tune_model(light_gbm)"
      ],
      "execution_count": null,
      "outputs": []
    },
    {
      "cell_type": "code",
      "metadata": {
        "id": "tJj0wXappIWT"
      },
      "source": [
        "print(tuned_light_gbm)"
      ],
      "execution_count": null,
      "outputs": []
    },
    {
      "cell_type": "markdown",
      "metadata": {
        "id": "bKo0ZyqppNQm"
      },
      "source": [
        "# ***Plotting Model***"
      ]
    },
    {
      "cell_type": "markdown",
      "metadata": {
        "id": "I09WlCfWpeAG"
      },
      "source": [
        "***Residual Plot***"
      ]
    },
    {
      "cell_type": "code",
      "metadata": {
        "id": "hHPn2qMSpQPz"
      },
      "source": [
        "plot_model?"
      ],
      "execution_count": null,
      "outputs": []
    },
    {
      "cell_type": "code",
      "metadata": {
        "id": "KPzVdtrKpVGY"
      },
      "source": [
        "plot_model(tuned_light_gbm)"
      ],
      "execution_count": null,
      "outputs": []
    },
    {
      "cell_type": "markdown",
      "metadata": {
        "id": "LE2IbCtipjD5"
      },
      "source": [
        "***Prediction Error Plot***"
      ]
    },
    {
      "cell_type": "code",
      "metadata": {
        "id": "C10gWAsGpn9p"
      },
      "source": [
        "plot_model(tuned_light_gbm, plot = 'error')"
      ],
      "execution_count": null,
      "outputs": []
    },
    {
      "cell_type": "markdown",
      "metadata": {
        "id": "HDFUS0OMpu4H"
      },
      "source": [
        "***Feature Importance Plot***"
      ]
    },
    {
      "cell_type": "code",
      "metadata": {
        "id": "Cym9EXu0px1N"
      },
      "source": [
        "plot_model(tuned_light_gbm, plot = 'feature')"
      ],
      "execution_count": null,
      "outputs": []
    },
    {
      "cell_type": "markdown",
      "metadata": {
        "id": "JGuOVPesp2Ln"
      },
      "source": [
        "# ***Model Evaluation***"
      ]
    },
    {
      "cell_type": "code",
      "metadata": {
        "id": "xNGz8ymLp4iy"
      },
      "source": [
        "evaluate_model(tuned_light_gbm)"
      ],
      "execution_count": null,
      "outputs": []
    },
    {
      "cell_type": "markdown",
      "metadata": {
        "id": "4t1K0ZsvqF58"
      },
      "source": [
        "# ***Finalizing Model for Deployment***"
      ]
    },
    {
      "cell_type": "code",
      "metadata": {
        "id": "hLvqjIJnqKsE"
      },
      "source": [
        "final_light_gbm = finalize_model(tuned_light_gbm)\n",
        "print(final_light_gbm)"
      ],
      "execution_count": null,
      "outputs": []
    },
    {
      "cell_type": "code",
      "metadata": {
        "id": "AmLfyq9qqUbO"
      },
      "source": [
        "predict_model(final_light_gbm)"
      ],
      "execution_count": null,
      "outputs": []
    },
    {
      "cell_type": "markdown",
      "metadata": {
        "id": "X1UC_3Xqqa88"
      },
      "source": [
        "# ***Prediction on Test Data***"
      ]
    },
    {
      "cell_type": "code",
      "metadata": {
        "id": "JskzUJNeqda8"
      },
      "source": [
        "predictions = predict_model(final_light_gbm, data=test)\n",
        "predictions.head()"
      ],
      "execution_count": null,
      "outputs": []
    },
    {
      "cell_type": "markdown",
      "metadata": {
        "id": "2tHKsOKrqpYB"
      },
      "source": [
        "# ***Saving Model***"
      ]
    },
    {
      "cell_type": "code",
      "metadata": {
        "id": "2IcloV6XqvEj"
      },
      "source": [
        "save_model(final_light_gbm,'Final LIGHT GBM Model')"
      ],
      "execution_count": null,
      "outputs": []
    }
  ]
}