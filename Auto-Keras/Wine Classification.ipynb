{
 "cells": [
  {
   "cell_type": "markdown",
   "id": "f4530a14",
   "metadata": {},
   "source": [
    "# Installing Auto-Keras"
   ]
  },
  {
   "cell_type": "code",
   "execution_count": 15,
   "id": "566ce16e",
   "metadata": {},
   "outputs": [
    {
     "name": "stdout",
     "output_type": "stream",
     "text": [
      "Requirement already satisfied: autokeras in /opt/anaconda3/lib/python3.8/site-packages (1.0.16)\n",
      "Requirement already satisfied: keras-tuner>=1.0.2 in /opt/anaconda3/lib/python3.8/site-packages (from autokeras) (1.0.4)\n",
      "Requirement already satisfied: packaging in /opt/anaconda3/lib/python3.8/site-packages (from autokeras) (21.0)\n",
      "Requirement already satisfied: pandas in /opt/anaconda3/lib/python3.8/site-packages (from autokeras) (1.3.1)\n",
      "Requirement already satisfied: tensorflow<=2.5.0,>=2.3.0 in /opt/anaconda3/lib/python3.8/site-packages (from autokeras) (2.5.0)\n",
      "Requirement already satisfied: scikit-learn in /opt/anaconda3/lib/python3.8/site-packages (from autokeras) (0.24.2)\n",
      "Requirement already satisfied: numpy in /opt/anaconda3/lib/python3.8/site-packages (from keras-tuner>=1.0.2->autokeras) (1.19.2)\n",
      "Requirement already satisfied: requests in /opt/anaconda3/lib/python3.8/site-packages (from keras-tuner>=1.0.2->autokeras) (2.25.1)\n",
      "Requirement already satisfied: kt-legacy in /opt/anaconda3/lib/python3.8/site-packages (from keras-tuner>=1.0.2->autokeras) (1.0.4)\n",
      "Requirement already satisfied: scipy in /opt/anaconda3/lib/python3.8/site-packages (from keras-tuner>=1.0.2->autokeras) (1.6.2)\n",
      "Requirement already satisfied: ipython in /opt/anaconda3/lib/python3.8/site-packages (from keras-tuner>=1.0.2->autokeras) (7.26.0)\n",
      "Requirement already satisfied: tensorboard in /opt/anaconda3/lib/python3.8/site-packages (from keras-tuner>=1.0.2->autokeras) (2.5.0)\n",
      "Requirement already satisfied: opt-einsum~=3.3.0 in /opt/anaconda3/lib/python3.8/site-packages (from tensorflow<=2.5.0,>=2.3.0->autokeras) (3.3.0)\n",
      "Requirement already satisfied: tensorflow-estimator<2.6.0,>=2.5.0rc0 in /opt/anaconda3/lib/python3.8/site-packages (from tensorflow<=2.5.0,>=2.3.0->autokeras) (2.5.0)\n",
      "Requirement already satisfied: keras-preprocessing~=1.1.2 in /opt/anaconda3/lib/python3.8/site-packages (from tensorflow<=2.5.0,>=2.3.0->autokeras) (1.1.2)\n",
      "Requirement already satisfied: protobuf>=3.9.2 in /opt/anaconda3/lib/python3.8/site-packages (from tensorflow<=2.5.0,>=2.3.0->autokeras) (3.17.3)\n",
      "Requirement already satisfied: termcolor~=1.1.0 in /opt/anaconda3/lib/python3.8/site-packages (from tensorflow<=2.5.0,>=2.3.0->autokeras) (1.1.0)\n",
      "Requirement already satisfied: absl-py~=0.10 in /opt/anaconda3/lib/python3.8/site-packages (from tensorflow<=2.5.0,>=2.3.0->autokeras) (0.13.0)\n",
      "Requirement already satisfied: typing-extensions~=3.7.4 in /opt/anaconda3/lib/python3.8/site-packages (from tensorflow<=2.5.0,>=2.3.0->autokeras) (3.7.4.3)\n",
      "Requirement already satisfied: six~=1.15.0 in /opt/anaconda3/lib/python3.8/site-packages (from tensorflow<=2.5.0,>=2.3.0->autokeras) (1.15.0)\n",
      "Requirement already satisfied: wheel~=0.35 in /opt/anaconda3/lib/python3.8/site-packages (from tensorflow<=2.5.0,>=2.3.0->autokeras) (0.37.0)\n",
      "Requirement already satisfied: wrapt~=1.12.1 in /opt/anaconda3/lib/python3.8/site-packages (from tensorflow<=2.5.0,>=2.3.0->autokeras) (1.12.1)\n",
      "Requirement already satisfied: google-pasta~=0.2 in /opt/anaconda3/lib/python3.8/site-packages (from tensorflow<=2.5.0,>=2.3.0->autokeras) (0.2.0)\n",
      "Requirement already satisfied: h5py~=3.1.0 in /opt/anaconda3/lib/python3.8/site-packages (from tensorflow<=2.5.0,>=2.3.0->autokeras) (3.1.0)\n",
      "Requirement already satisfied: grpcio~=1.34.0 in /opt/anaconda3/lib/python3.8/site-packages (from tensorflow<=2.5.0,>=2.3.0->autokeras) (1.34.1)\n",
      "Requirement already satisfied: astunparse~=1.6.3 in /opt/anaconda3/lib/python3.8/site-packages (from tensorflow<=2.5.0,>=2.3.0->autokeras) (1.6.3)\n",
      "Requirement already satisfied: gast==0.4.0 in /opt/anaconda3/lib/python3.8/site-packages (from tensorflow<=2.5.0,>=2.3.0->autokeras) (0.4.0)\n",
      "Requirement already satisfied: keras-nightly~=2.5.0.dev in /opt/anaconda3/lib/python3.8/site-packages (from tensorflow<=2.5.0,>=2.3.0->autokeras) (2.5.0.dev2021032900)\n",
      "Requirement already satisfied: flatbuffers~=1.12.0 in /opt/anaconda3/lib/python3.8/site-packages (from tensorflow<=2.5.0,>=2.3.0->autokeras) (1.12)\n",
      "Requirement already satisfied: tensorboard-data-server<0.7.0,>=0.6.0 in /opt/anaconda3/lib/python3.8/site-packages (from tensorboard->keras-tuner>=1.0.2->autokeras) (0.6.1)\n",
      "Requirement already satisfied: markdown>=2.6.8 in /opt/anaconda3/lib/python3.8/site-packages (from tensorboard->keras-tuner>=1.0.2->autokeras) (3.3.4)\n",
      "Requirement already satisfied: tensorboard-plugin-wit>=1.6.0 in /opt/anaconda3/lib/python3.8/site-packages (from tensorboard->keras-tuner>=1.0.2->autokeras) (1.8.0)\n",
      "Requirement already satisfied: google-auth-oauthlib<0.5,>=0.4.1 in /opt/anaconda3/lib/python3.8/site-packages (from tensorboard->keras-tuner>=1.0.2->autokeras) (0.4.4)\n",
      "Requirement already satisfied: setuptools>=41.0.0 in /opt/anaconda3/lib/python3.8/site-packages (from tensorboard->keras-tuner>=1.0.2->autokeras) (57.4.0)\n",
      "Requirement already satisfied: google-auth<2,>=1.6.3 in /opt/anaconda3/lib/python3.8/site-packages (from tensorboard->keras-tuner>=1.0.2->autokeras) (1.33.1)\n",
      "Requirement already satisfied: werkzeug>=0.11.15 in /opt/anaconda3/lib/python3.8/site-packages (from tensorboard->keras-tuner>=1.0.2->autokeras) (1.0.1)\n",
      "Requirement already satisfied: cachetools<5.0,>=2.0.0 in /opt/anaconda3/lib/python3.8/site-packages (from google-auth<2,>=1.6.3->tensorboard->keras-tuner>=1.0.2->autokeras) (4.2.2)\n",
      "Requirement already satisfied: rsa<5,>=3.1.4 in /opt/anaconda3/lib/python3.8/site-packages (from google-auth<2,>=1.6.3->tensorboard->keras-tuner>=1.0.2->autokeras) (4.7.2)\n",
      "Requirement already satisfied: pyasn1-modules>=0.2.1 in /opt/anaconda3/lib/python3.8/site-packages (from google-auth<2,>=1.6.3->tensorboard->keras-tuner>=1.0.2->autokeras) (0.2.8)\n",
      "Requirement already satisfied: requests-oauthlib>=0.7.0 in /opt/anaconda3/lib/python3.8/site-packages (from google-auth-oauthlib<0.5,>=0.4.1->tensorboard->keras-tuner>=1.0.2->autokeras) (1.3.0)\n",
      "Requirement already satisfied: pyasn1<0.5.0,>=0.4.6 in /opt/anaconda3/lib/python3.8/site-packages (from pyasn1-modules>=0.2.1->google-auth<2,>=1.6.3->tensorboard->keras-tuner>=1.0.2->autokeras) (0.4.8)\n",
      "Requirement already satisfied: idna<3,>=2.5 in /opt/anaconda3/lib/python3.8/site-packages (from requests->keras-tuner>=1.0.2->autokeras) (2.10)\n",
      "Requirement already satisfied: chardet<5,>=3.0.2 in /opt/anaconda3/lib/python3.8/site-packages (from requests->keras-tuner>=1.0.2->autokeras) (3.0.4)\n",
      "Requirement already satisfied: urllib3<1.27,>=1.21.1 in /opt/anaconda3/lib/python3.8/site-packages (from requests->keras-tuner>=1.0.2->autokeras) (1.26.6)\n",
      "Requirement already satisfied: certifi>=2017.4.17 in /opt/anaconda3/lib/python3.8/site-packages (from requests->keras-tuner>=1.0.2->autokeras) (2021.5.30)\n",
      "Requirement already satisfied: oauthlib>=3.0.0 in /opt/anaconda3/lib/python3.8/site-packages (from requests-oauthlib>=0.7.0->google-auth-oauthlib<0.5,>=0.4.1->tensorboard->keras-tuner>=1.0.2->autokeras) (3.1.1)\n",
      "Requirement already satisfied: traitlets>=4.2 in /opt/anaconda3/lib/python3.8/site-packages (from ipython->keras-tuner>=1.0.2->autokeras) (5.0.5)\n",
      "Requirement already satisfied: pickleshare in /opt/anaconda3/lib/python3.8/site-packages (from ipython->keras-tuner>=1.0.2->autokeras) (0.7.5)\n",
      "Requirement already satisfied: backcall in /opt/anaconda3/lib/python3.8/site-packages (from ipython->keras-tuner>=1.0.2->autokeras) (0.2.0)\n",
      "Requirement already satisfied: decorator in /opt/anaconda3/lib/python3.8/site-packages (from ipython->keras-tuner>=1.0.2->autokeras) (4.4.2)\n",
      "Requirement already satisfied: jedi>=0.16 in /opt/anaconda3/lib/python3.8/site-packages (from ipython->keras-tuner>=1.0.2->autokeras) (0.17.2)\n",
      "Requirement already satisfied: pygments in /opt/anaconda3/lib/python3.8/site-packages (from ipython->keras-tuner>=1.0.2->autokeras) (2.9.0)\n",
      "Requirement already satisfied: matplotlib-inline in /opt/anaconda3/lib/python3.8/site-packages (from ipython->keras-tuner>=1.0.2->autokeras) (0.1.2)\n",
      "Requirement already satisfied: appnope in /opt/anaconda3/lib/python3.8/site-packages (from ipython->keras-tuner>=1.0.2->autokeras) (0.1.2)\n",
      "Requirement already satisfied: pexpect>4.3 in /opt/anaconda3/lib/python3.8/site-packages (from ipython->keras-tuner>=1.0.2->autokeras) (4.8.0)\n",
      "Requirement already satisfied: prompt-toolkit!=3.0.0,!=3.0.1,<3.1.0,>=2.0.0 in /opt/anaconda3/lib/python3.8/site-packages (from ipython->keras-tuner>=1.0.2->autokeras) (3.0.17)\n"
     ]
    },
    {
     "name": "stdout",
     "output_type": "stream",
     "text": [
      "Requirement already satisfied: parso<0.8.0,>=0.7.0 in /opt/anaconda3/lib/python3.8/site-packages (from jedi>=0.16->ipython->keras-tuner>=1.0.2->autokeras) (0.7.0)\n",
      "Requirement already satisfied: ptyprocess>=0.5 in /opt/anaconda3/lib/python3.8/site-packages (from pexpect>4.3->ipython->keras-tuner>=1.0.2->autokeras) (0.7.0)\n",
      "Requirement already satisfied: wcwidth in /opt/anaconda3/lib/python3.8/site-packages (from prompt-toolkit!=3.0.0,!=3.0.1,<3.1.0,>=2.0.0->ipython->keras-tuner>=1.0.2->autokeras) (0.2.5)\n",
      "Requirement already satisfied: ipython-genutils in /opt/anaconda3/lib/python3.8/site-packages (from traitlets>=4.2->ipython->keras-tuner>=1.0.2->autokeras) (0.2.0)\n",
      "Requirement already satisfied: pyparsing>=2.0.2 in /opt/anaconda3/lib/python3.8/site-packages (from packaging->autokeras) (2.4.7)\n",
      "Requirement already satisfied: python-dateutil>=2.7.3 in /opt/anaconda3/lib/python3.8/site-packages (from pandas->autokeras) (2.8.2)\n",
      "Requirement already satisfied: pytz>=2017.3 in /opt/anaconda3/lib/python3.8/site-packages (from pandas->autokeras) (2021.1)\n",
      "Requirement already satisfied: threadpoolctl>=2.0.0 in /opt/anaconda3/lib/python3.8/site-packages (from scikit-learn->autokeras) (2.2.0)\n",
      "Requirement already satisfied: joblib>=0.11 in /opt/anaconda3/lib/python3.8/site-packages (from scikit-learn->autokeras) (1.0.1)\n"
     ]
    }
   ],
   "source": [
    "!pip install autokeras"
   ]
  },
  {
   "cell_type": "markdown",
   "id": "438b6ff1",
   "metadata": {},
   "source": [
    "# Importing libraries and dependencies"
   ]
  },
  {
   "cell_type": "code",
   "execution_count": 16,
   "id": "2caf9dfd",
   "metadata": {},
   "outputs": [],
   "source": [
    "import numpy as np\n",
    "import tensorflow as tf\n",
    "import autokeras as ak\n",
    "import pandas as pd"
   ]
  },
  {
   "cell_type": "markdown",
   "id": "034b40d8",
   "metadata": {},
   "source": [
    "# Dataset Loading"
   ]
  },
  {
   "cell_type": "code",
   "execution_count": 17,
   "id": "547dbf30",
   "metadata": {},
   "outputs": [],
   "source": [
    "data = pd.read_csv(\"../data/wine.csv\")"
   ]
  },
  {
   "cell_type": "code",
   "execution_count": 18,
   "id": "c36bec1c",
   "metadata": {},
   "outputs": [],
   "source": [
    "data.drop([\"Unnamed: 0\"],inplace = True,axis = 1)"
   ]
  },
  {
   "cell_type": "code",
   "execution_count": 19,
   "id": "ff3fb250",
   "metadata": {},
   "outputs": [
    {
     "data": {
      "text/html": [
       "<div>\n",
       "<style scoped>\n",
       "    .dataframe tbody tr th:only-of-type {\n",
       "        vertical-align: middle;\n",
       "    }\n",
       "\n",
       "    .dataframe tbody tr th {\n",
       "        vertical-align: top;\n",
       "    }\n",
       "\n",
       "    .dataframe thead th {\n",
       "        text-align: right;\n",
       "    }\n",
       "</style>\n",
       "<table border=\"1\" class=\"dataframe\">\n",
       "  <thead>\n",
       "    <tr style=\"text-align: right;\">\n",
       "      <th></th>\n",
       "      <th>Wine</th>\n",
       "      <th>Alcohol</th>\n",
       "      <th>Malic.acid</th>\n",
       "      <th>Ash</th>\n",
       "      <th>Acl</th>\n",
       "      <th>Mg</th>\n",
       "      <th>Phenols</th>\n",
       "      <th>Flavanoids</th>\n",
       "      <th>Nonflavanoid.phenols</th>\n",
       "      <th>Proanth</th>\n",
       "      <th>Color.int</th>\n",
       "      <th>Hue</th>\n",
       "      <th>OD</th>\n",
       "      <th>Proline</th>\n",
       "    </tr>\n",
       "  </thead>\n",
       "  <tbody>\n",
       "    <tr>\n",
       "      <th>141</th>\n",
       "      <td>3</td>\n",
       "      <td>13.52</td>\n",
       "      <td>3.17</td>\n",
       "      <td>2.72</td>\n",
       "      <td>23.5</td>\n",
       "      <td>97</td>\n",
       "      <td>1.55</td>\n",
       "      <td>0.52</td>\n",
       "      <td>0.50</td>\n",
       "      <td>0.55</td>\n",
       "      <td>4.35</td>\n",
       "      <td>0.89</td>\n",
       "      <td>2.06</td>\n",
       "      <td>520</td>\n",
       "    </tr>\n",
       "    <tr>\n",
       "      <th>120</th>\n",
       "      <td>2</td>\n",
       "      <td>11.56</td>\n",
       "      <td>2.05</td>\n",
       "      <td>3.23</td>\n",
       "      <td>28.5</td>\n",
       "      <td>119</td>\n",
       "      <td>3.18</td>\n",
       "      <td>5.08</td>\n",
       "      <td>0.47</td>\n",
       "      <td>1.87</td>\n",
       "      <td>6.00</td>\n",
       "      <td>0.93</td>\n",
       "      <td>3.69</td>\n",
       "      <td>465</td>\n",
       "    </tr>\n",
       "    <tr>\n",
       "      <th>113</th>\n",
       "      <td>2</td>\n",
       "      <td>12.08</td>\n",
       "      <td>1.39</td>\n",
       "      <td>2.50</td>\n",
       "      <td>22.5</td>\n",
       "      <td>84</td>\n",
       "      <td>2.56</td>\n",
       "      <td>2.29</td>\n",
       "      <td>0.43</td>\n",
       "      <td>1.04</td>\n",
       "      <td>2.90</td>\n",
       "      <td>0.93</td>\n",
       "      <td>3.19</td>\n",
       "      <td>385</td>\n",
       "    </tr>\n",
       "    <tr>\n",
       "      <th>95</th>\n",
       "      <td>2</td>\n",
       "      <td>11.81</td>\n",
       "      <td>2.12</td>\n",
       "      <td>2.74</td>\n",
       "      <td>21.5</td>\n",
       "      <td>134</td>\n",
       "      <td>1.60</td>\n",
       "      <td>0.99</td>\n",
       "      <td>0.14</td>\n",
       "      <td>1.56</td>\n",
       "      <td>2.50</td>\n",
       "      <td>0.95</td>\n",
       "      <td>2.26</td>\n",
       "      <td>625</td>\n",
       "    </tr>\n",
       "    <tr>\n",
       "      <th>129</th>\n",
       "      <td>3</td>\n",
       "      <td>12.86</td>\n",
       "      <td>1.35</td>\n",
       "      <td>2.32</td>\n",
       "      <td>18.0</td>\n",
       "      <td>122</td>\n",
       "      <td>1.51</td>\n",
       "      <td>1.25</td>\n",
       "      <td>0.21</td>\n",
       "      <td>0.94</td>\n",
       "      <td>4.10</td>\n",
       "      <td>0.76</td>\n",
       "      <td>1.29</td>\n",
       "      <td>630</td>\n",
       "    </tr>\n",
       "    <tr>\n",
       "      <th>...</th>\n",
       "      <td>...</td>\n",
       "      <td>...</td>\n",
       "      <td>...</td>\n",
       "      <td>...</td>\n",
       "      <td>...</td>\n",
       "      <td>...</td>\n",
       "      <td>...</td>\n",
       "      <td>...</td>\n",
       "      <td>...</td>\n",
       "      <td>...</td>\n",
       "      <td>...</td>\n",
       "      <td>...</td>\n",
       "      <td>...</td>\n",
       "      <td>...</td>\n",
       "    </tr>\n",
       "    <tr>\n",
       "      <th>127</th>\n",
       "      <td>2</td>\n",
       "      <td>12.37</td>\n",
       "      <td>1.63</td>\n",
       "      <td>2.30</td>\n",
       "      <td>24.5</td>\n",
       "      <td>88</td>\n",
       "      <td>2.22</td>\n",
       "      <td>2.45</td>\n",
       "      <td>0.40</td>\n",
       "      <td>1.90</td>\n",
       "      <td>2.12</td>\n",
       "      <td>0.89</td>\n",
       "      <td>2.78</td>\n",
       "      <td>342</td>\n",
       "    </tr>\n",
       "    <tr>\n",
       "      <th>94</th>\n",
       "      <td>2</td>\n",
       "      <td>12.47</td>\n",
       "      <td>1.52</td>\n",
       "      <td>2.20</td>\n",
       "      <td>19.0</td>\n",
       "      <td>162</td>\n",
       "      <td>2.50</td>\n",
       "      <td>2.27</td>\n",
       "      <td>0.32</td>\n",
       "      <td>3.28</td>\n",
       "      <td>2.60</td>\n",
       "      <td>1.16</td>\n",
       "      <td>2.63</td>\n",
       "      <td>937</td>\n",
       "    </tr>\n",
       "    <tr>\n",
       "      <th>24</th>\n",
       "      <td>1</td>\n",
       "      <td>13.05</td>\n",
       "      <td>2.05</td>\n",
       "      <td>3.22</td>\n",
       "      <td>25.0</td>\n",
       "      <td>124</td>\n",
       "      <td>2.63</td>\n",
       "      <td>2.68</td>\n",
       "      <td>0.47</td>\n",
       "      <td>1.92</td>\n",
       "      <td>3.58</td>\n",
       "      <td>1.13</td>\n",
       "      <td>3.20</td>\n",
       "      <td>830</td>\n",
       "    </tr>\n",
       "    <tr>\n",
       "      <th>31</th>\n",
       "      <td>1</td>\n",
       "      <td>13.68</td>\n",
       "      <td>1.83</td>\n",
       "      <td>2.36</td>\n",
       "      <td>17.2</td>\n",
       "      <td>104</td>\n",
       "      <td>2.42</td>\n",
       "      <td>2.69</td>\n",
       "      <td>0.42</td>\n",
       "      <td>1.97</td>\n",
       "      <td>3.84</td>\n",
       "      <td>1.23</td>\n",
       "      <td>2.87</td>\n",
       "      <td>990</td>\n",
       "    </tr>\n",
       "    <tr>\n",
       "      <th>146</th>\n",
       "      <td>3</td>\n",
       "      <td>12.87</td>\n",
       "      <td>4.61</td>\n",
       "      <td>2.48</td>\n",
       "      <td>21.5</td>\n",
       "      <td>86</td>\n",
       "      <td>1.70</td>\n",
       "      <td>0.65</td>\n",
       "      <td>0.47</td>\n",
       "      <td>0.86</td>\n",
       "      <td>7.65</td>\n",
       "      <td>0.54</td>\n",
       "      <td>1.86</td>\n",
       "      <td>625</td>\n",
       "    </tr>\n",
       "  </tbody>\n",
       "</table>\n",
       "<p>177 rows × 14 columns</p>\n",
       "</div>"
      ],
      "text/plain": [
       "     Wine  Alcohol  Malic.acid   Ash   Acl   Mg  Phenols  Flavanoids  \\\n",
       "141     3    13.52        3.17  2.72  23.5   97     1.55        0.52   \n",
       "120     2    11.56        2.05  3.23  28.5  119     3.18        5.08   \n",
       "113     2    12.08        1.39  2.50  22.5   84     2.56        2.29   \n",
       "95      2    11.81        2.12  2.74  21.5  134     1.60        0.99   \n",
       "129     3    12.86        1.35  2.32  18.0  122     1.51        1.25   \n",
       "..    ...      ...         ...   ...   ...  ...      ...         ...   \n",
       "127     2    12.37        1.63  2.30  24.5   88     2.22        2.45   \n",
       "94      2    12.47        1.52  2.20  19.0  162     2.50        2.27   \n",
       "24      1    13.05        2.05  3.22  25.0  124     2.63        2.68   \n",
       "31      1    13.68        1.83  2.36  17.2  104     2.42        2.69   \n",
       "146     3    12.87        4.61  2.48  21.5   86     1.70        0.65   \n",
       "\n",
       "     Nonflavanoid.phenols  Proanth  Color.int   Hue    OD  Proline  \n",
       "141                  0.50     0.55       4.35  0.89  2.06      520  \n",
       "120                  0.47     1.87       6.00  0.93  3.69      465  \n",
       "113                  0.43     1.04       2.90  0.93  3.19      385  \n",
       "95                   0.14     1.56       2.50  0.95  2.26      625  \n",
       "129                  0.21     0.94       4.10  0.76  1.29      630  \n",
       "..                    ...      ...        ...   ...   ...      ...  \n",
       "127                  0.40     1.90       2.12  0.89  2.78      342  \n",
       "94                   0.32     3.28       2.60  1.16  2.63      937  \n",
       "24                   0.47     1.92       3.58  1.13  3.20      830  \n",
       "31                   0.42     1.97       3.84  1.23  2.87      990  \n",
       "146                  0.47     0.86       7.65  0.54  1.86      625  \n",
       "\n",
       "[177 rows x 14 columns]"
      ]
     },
     "execution_count": 19,
     "metadata": {},
     "output_type": "execute_result"
    }
   ],
   "source": [
    "# Shuffling\n",
    "data = data.sample(frac=1)\n",
    "data"
   ]
  },
  {
   "cell_type": "markdown",
   "id": "e0cad622",
   "metadata": {},
   "source": [
    "# Train and Test Split"
   ]
  },
  {
   "cell_type": "code",
   "execution_count": 20,
   "id": "f4c1779e",
   "metadata": {},
   "outputs": [],
   "source": [
    "split_length = int(data.shape[0] * 0.8)  # 141"
   ]
  },
  {
   "cell_type": "code",
   "execution_count": 21,
   "id": "7e3ca4b1",
   "metadata": {},
   "outputs": [],
   "source": [
    "# train and test\n",
    "train_data = data.iloc[:split_length]\n",
    "test_data = data.iloc[split_length:]"
   ]
  },
  {
   "cell_type": "markdown",
   "id": "8e78b641",
   "metadata": {},
   "source": [
    "# Selecting Features and Labels"
   ]
  },
  {
   "cell_type": "code",
   "execution_count": 22,
   "id": "6d22127f",
   "metadata": {},
   "outputs": [],
   "source": [
    "features = data.columns[1:]\n",
    "label = data.columns[0:1]"
   ]
  },
  {
   "cell_type": "code",
   "execution_count": 23,
   "id": "2116e5b3",
   "metadata": {},
   "outputs": [
    {
     "data": {
      "text/plain": [
       "Index(['Alcohol', 'Malic.acid', 'Ash', 'Acl', 'Mg', 'Phenols', 'Flavanoids',\n",
       "       'Nonflavanoid.phenols', 'Proanth', 'Color.int', 'Hue', 'OD', 'Proline'],\n",
       "      dtype='object')"
      ]
     },
     "execution_count": 23,
     "metadata": {},
     "output_type": "execute_result"
    }
   ],
   "source": [
    "features"
   ]
  },
  {
   "cell_type": "code",
   "execution_count": 24,
   "id": "31b5a90d",
   "metadata": {},
   "outputs": [
    {
     "data": {
      "text/plain": [
       "Index(['Wine'], dtype='object')"
      ]
     },
     "execution_count": 24,
     "metadata": {},
     "output_type": "execute_result"
    }
   ],
   "source": [
    "label"
   ]
  },
  {
   "cell_type": "markdown",
   "id": "32e114ba",
   "metadata": {},
   "source": [
    "# Initializing Classifier"
   ]
  },
  {
   "cell_type": "code",
   "execution_count": 25,
   "id": "b90fe3b7",
   "metadata": {},
   "outputs": [],
   "source": [
    "# Initialize the classifier.\n",
    "clf = ak.StructuredDataClassifier(max_trials=5)"
   ]
  },
  {
   "cell_type": "markdown",
   "id": "a52b0fa0",
   "metadata": {},
   "source": [
    "# Search for the best model"
   ]
  },
  {
   "cell_type": "code",
   "execution_count": 26,
   "id": "a41e8b69",
   "metadata": {},
   "outputs": [
    {
     "name": "stdout",
     "output_type": "stream",
     "text": [
      "Trial 5 Complete [00h 00m 08s]\n",
      "val_accuracy: 0.8461538553237915\n",
      "\n",
      "Best val_accuracy So Far: 1.0\n",
      "Total elapsed time: 00h 00m 42s\n",
      "INFO:tensorflow:Oracle triggered exit\n",
      "Epoch 1/10\n",
      "5/5 [==============================] - 2s 5ms/step - loss: 1.0509 - accuracy: 0.3830\n",
      "Epoch 2/10\n",
      "5/5 [==============================] - 0s 4ms/step - loss: 0.8731 - accuracy: 0.5957\n",
      "Epoch 3/10\n",
      "5/5 [==============================] - 0s 3ms/step - loss: 0.7369 - accuracy: 0.8085\n",
      "Epoch 4/10\n",
      "5/5 [==============================] - 0s 3ms/step - loss: 0.6279 - accuracy: 0.8511\n",
      "Epoch 5/10\n",
      "5/5 [==============================] - 0s 3ms/step - loss: 0.5376 - accuracy: 0.9220\n",
      "Epoch 6/10\n",
      "5/5 [==============================] - 0s 4ms/step - loss: 0.4599 - accuracy: 0.9574\n",
      "Epoch 7/10\n",
      "5/5 [==============================] - 0s 6ms/step - loss: 0.3924 - accuracy: 0.9645\n",
      "Epoch 8/10\n",
      "5/5 [==============================] - 0s 4ms/step - loss: 0.3339 - accuracy: 0.9787\n",
      "Epoch 9/10\n",
      "5/5 [==============================] - 0s 7ms/step - loss: 0.2836 - accuracy: 0.9858\n",
      "Epoch 10/10\n",
      "5/5 [==============================] - 0s 4ms/step - loss: 0.2414 - accuracy: 0.9858\n",
      "INFO:tensorflow:Assets written to: ./structured_data_classifier/best_model/assets\n"
     ]
    },
    {
     "data": {
      "text/plain": [
       "<tensorflow.python.keras.callbacks.History at 0x13db44b80>"
      ]
     },
     "execution_count": 26,
     "metadata": {},
     "output_type": "execute_result"
    }
   ],
   "source": [
    "# Feed the classifier with training data.\n",
    "clf.fit(\n",
    "    x = train_data[features],\n",
    "    y = train_data[label],\n",
    "    # Split the training data and use the last 15% as validation data.\n",
    "    validation_split=0.15,\n",
    "    epochs=10,\n",
    ")"
   ]
  },
  {
   "cell_type": "markdown",
   "id": "fc942900",
   "metadata": {},
   "source": [
    "# Predict with the best model"
   ]
  },
  {
   "cell_type": "code",
   "execution_count": 27,
   "id": "6eca2e74",
   "metadata": {},
   "outputs": [
    {
     "name": "stdout",
     "output_type": "stream",
     "text": [
      "2/2 [==============================] - 0s 17ms/step\n",
      "[['3']\n",
      " ['3']\n",
      " ['2']\n",
      " ['3']\n",
      " ['1']\n",
      " ['1']\n",
      " ['1']\n",
      " ['2']\n",
      " ['2']\n",
      " ['3']\n",
      " ['2']\n",
      " ['2']\n",
      " ['1']\n",
      " ['1']\n",
      " ['2']\n",
      " ['2']\n",
      " ['1']\n",
      " ['1']\n",
      " ['2']\n",
      " ['1']\n",
      " ['3']\n",
      " ['2']\n",
      " ['1']\n",
      " ['1']\n",
      " ['3']\n",
      " ['1']\n",
      " ['2']\n",
      " ['3']\n",
      " ['2']\n",
      " ['2']\n",
      " ['1']\n",
      " ['2']\n",
      " ['2']\n",
      " ['2']\n",
      " ['1']\n",
      " ['3']]\n"
     ]
    }
   ],
   "source": [
    "predicted_y = clf.predict(test_data[features])\n",
    "print(predicted_y)"
   ]
  },
  {
   "cell_type": "markdown",
   "id": "167a37d7",
   "metadata": {},
   "source": [
    "# Evaluate on the testing data"
   ]
  },
  {
   "cell_type": "code",
   "execution_count": 28,
   "id": "855cdf39",
   "metadata": {},
   "outputs": [
    {
     "name": "stdout",
     "output_type": "stream",
     "text": [
      "2/2 [==============================] - 1s 25ms/step - loss: 0.3468 - accuracy: 0.9444\n",
      "Accuracy: [0.34682372212409973, 0.9444444179534912]\n"
     ]
    }
   ],
   "source": [
    "print(\"Accuracy: {accuracy}\".format(\n",
    "        accuracy=clf.evaluate(x=test_data[features], y=test_data[label])))"
   ]
  },
  {
   "cell_type": "markdown",
   "id": "b7c9ffc9",
   "metadata": {},
   "source": [
    "# Exporting Model"
   ]
  },
  {
   "cell_type": "code",
   "execution_count": 29,
   "id": "b30e5edc",
   "metadata": {},
   "outputs": [],
   "source": [
    "model = clf.export_model()"
   ]
  },
  {
   "cell_type": "markdown",
   "id": "fcf0743c",
   "metadata": {},
   "source": [
    "# Model Summary"
   ]
  },
  {
   "cell_type": "code",
   "execution_count": 30,
   "id": "b1a8b519",
   "metadata": {},
   "outputs": [
    {
     "name": "stdout",
     "output_type": "stream",
     "text": [
      "Model: \"model\"\n",
      "_________________________________________________________________\n",
      "Layer (type)                 Output Shape              Param #   \n",
      "=================================================================\n",
      "input_1 (InputLayer)         [(None, 13)]              0         \n",
      "_________________________________________________________________\n",
      "multi_category_encoding (Mul (None, 13)                0         \n",
      "_________________________________________________________________\n",
      "normalization (Normalization (None, 13)                27        \n",
      "_________________________________________________________________\n",
      "dense (Dense)                (None, 64)                896       \n",
      "_________________________________________________________________\n",
      "re_lu (ReLU)                 (None, 64)                0         \n",
      "_________________________________________________________________\n",
      "dense_1 (Dense)              (None, 32)                2080      \n",
      "_________________________________________________________________\n",
      "re_lu_1 (ReLU)               (None, 32)                0         \n",
      "_________________________________________________________________\n",
      "dense_2 (Dense)              (None, 3)                 99        \n",
      "_________________________________________________________________\n",
      "classification_head_1 (Softm (None, 3)                 0         \n",
      "=================================================================\n",
      "Total params: 3,102\n",
      "Trainable params: 3,075\n",
      "Non-trainable params: 27\n",
      "_________________________________________________________________\n"
     ]
    }
   ],
   "source": [
    "# summarize the loaded model\n",
    "model.summary()"
   ]
  },
  {
   "cell_type": "markdown",
   "id": "f7d0417c",
   "metadata": {},
   "source": [
    "# Saving Model"
   ]
  },
  {
   "cell_type": "code",
   "execution_count": 31,
   "id": "48bcf648",
   "metadata": {},
   "outputs": [],
   "source": [
    "# save the best performing model to file\n",
    "model.save('wine_model.h5')"
   ]
  },
  {
   "cell_type": "code",
   "execution_count": null,
   "id": "7e0de8eb",
   "metadata": {},
   "outputs": [],
   "source": []
  }
 ],
 "metadata": {
  "kernelspec": {
   "display_name": "Python 3",
   "language": "python",
   "name": "python3"
  },
  "language_info": {
   "codemirror_mode": {
    "name": "ipython",
    "version": 3
   },
   "file_extension": ".py",
   "mimetype": "text/x-python",
   "name": "python",
   "nbconvert_exporter": "python",
   "pygments_lexer": "ipython3",
   "version": "3.8.11"
  }
 },
 "nbformat": 4,
 "nbformat_minor": 5
}
