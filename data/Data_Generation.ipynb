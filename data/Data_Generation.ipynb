{
 "cells": [
  {
   "cell_type": "code",
   "execution_count": 20,
   "id": "f2cda61d",
   "metadata": {},
   "outputs": [],
   "source": [
    "import os\n",
    "import pandas as pd\n",
    "import tensorflow as tf"
   ]
  },
  {
   "cell_type": "markdown",
   "id": "3a2f73cc",
   "metadata": {},
   "source": [
    "# Wine dataset for classification"
   ]
  },
  {
   "cell_type": "code",
   "execution_count": 2,
   "id": "3a86dcd2",
   "metadata": {},
   "outputs": [],
   "source": [
    "dataset_url = (\n",
    "    \"https://archive.ics.uci.edu/ml/machine-learning-databases/wine/wine.data\"\n",
    ")\n",
    "\n",
    "# save data\n",
    "data_file_path = tf.keras.utils.get_file(\n",
    "    fname=os.path.basename(dataset_url), origin=dataset_url\n",
    ")\n",
    "\n",
    "column_names = [\n",
    "    \"Wine\",\n",
    "    \"Alcohol\",\n",
    "    \"Malic.acid\",\n",
    "    \"Ash\",\n",
    "    \"Acl\",\n",
    "    \"Mg\",\n",
    "    \"Phenols\",\n",
    "    \"Flavanoids\",\n",
    "    \"Nonflavanoid.phenols\",\n",
    "    \"Proanth\",\n",
    "    \"Color.int\",\n",
    "    \"Hue\",\n",
    "    \"OD\",\n",
    "    \"Proline\",\n",
    "]\n",
    "\n",
    "data = pd.read_csv(data_file_path, header=0, names=column_names)\n",
    "data.to_csv(\"wine.csv\")"
   ]
  },
  {
   "cell_type": "markdown",
   "id": "362e1d68",
   "metadata": {},
   "source": [
    "# Titanic dataset for classification"
   ]
  },
  {
   "cell_type": "code",
   "execution_count": 3,
   "id": "26a6e034",
   "metadata": {},
   "outputs": [
    {
     "name": "stdout",
     "output_type": "stream",
     "text": [
      "Downloading data from https://storage.googleapis.com/tf-datasets/titanic/train.csv\n",
      "32768/30874 [===============================] - 0s 2us/step\n",
      "Downloading data from https://storage.googleapis.com/tf-datasets/titanic/eval.csv\n",
      "16384/13049 [=====================================] - 0s 0us/step\n"
     ]
    }
   ],
   "source": [
    "TRAIN_DATA_URL = \"https://storage.googleapis.com/tf-datasets/titanic/train.csv\"\n",
    "TEST_DATA_URL = \"https://storage.googleapis.com/tf-datasets/titanic/eval.csv\"\n",
    "train_file_path = tf.keras.utils.get_file(\"train.csv\", TRAIN_DATA_URL)\n",
    "test_file_path = tf.keras.utils.get_file(\"eval.csv\", TEST_DATA_URL)\n"
   ]
  },
  {
   "cell_type": "code",
   "execution_count": 6,
   "id": "407d6a64",
   "metadata": {},
   "outputs": [],
   "source": [
    "train_data = pd.read_csv(train_file_path)\n",
    "test_data = pd.read_csv(test_file_path)\n",
    "train_data.to_csv(\"titanic_train.csv\")\n",
    "test_data.to_csv(\"titanic_test.csv\")"
   ]
  },
  {
   "cell_type": "markdown",
   "id": "052ec6a1",
   "metadata": {},
   "source": [
    "# Iris dataset for classification"
   ]
  },
  {
   "cell_type": "code",
   "execution_count": 7,
   "id": "cbb2496e",
   "metadata": {},
   "outputs": [],
   "source": [
    "train_dataset_url = (\n",
    "    \"https://storage.googleapis.com/download.tensorflow.org/data/iris_training.csv\"\n",
    ")\n",
    "train_dataset_fp = tf.keras.utils.get_file(\n",
    "    fname=os.path.basename(train_dataset_url), origin=train_dataset_url\n",
    ")\n",
    "\n",
    "test_dataset_url = (\n",
    "    \"https://storage.googleapis.com/download.tensorflow.org/data/iris_test.csv\"\n",
    ")\n",
    "test_dataset_fp = tf.keras.utils.get_file(\n",
    "    fname=os.path.basename(test_dataset_url), origin=test_dataset_url\n",
    ")\n",
    "\n",
    "column_names = [\n",
    "    \"sepal_length\",\n",
    "    \"sepal_width\",\n",
    "    \"petal_length\",\n",
    "    \"petal_width\",\n",
    "    \"species\",\n",
    "]\n",
    "\n",
    "train = pd.read_csv(train_dataset_fp, names=column_names, header=0)\n",
    "test = pd.read_csv(test_dataset_fp, names=column_names, header=0)\n",
    "\n",
    "train.to_csv(\"iris_train.csv\")\n",
    "test.to_csv(\"iris_test.csv\")"
   ]
  },
  {
   "cell_type": "markdown",
   "id": "55a66e98",
   "metadata": {},
   "source": [
    "# California Housing Dataset for Regression"
   ]
  },
  {
   "cell_type": "code",
   "execution_count": 13,
   "id": "629c5e15",
   "metadata": {},
   "outputs": [],
   "source": [
    "from sklearn.datasets import fetch_california_housing\n",
    "import numpy as np"
   ]
  },
  {
   "cell_type": "code",
   "execution_count": 14,
   "id": "8267506a",
   "metadata": {
    "scrolled": false
   },
   "outputs": [],
   "source": [
    "house_dataset = fetch_california_housing()\n",
    "df = pd.DataFrame(\n",
    "    np.concatenate(\n",
    "        (house_dataset.data, house_dataset.target.reshape(-1, 1)), axis=1\n",
    "    ),\n",
    "    columns=house_dataset.feature_names + [\"Price\"],\n",
    ")\n",
    "train_size = int(df.shape[0] * 0.9)"
   ]
  },
  {
   "cell_type": "code",
   "execution_count": 15,
   "id": "b22ff7e4",
   "metadata": {},
   "outputs": [],
   "source": [
    "df[:train_size].to_csv(\"housing_training_data.csv\", index=False)\n",
    "df[train_size:].to_csv(\"housing_testing_data.csv\", index=False)"
   ]
  },
  {
   "cell_type": "markdown",
   "id": "45f5ee6c",
   "metadata": {},
   "source": [
    "# Auto-insurance Dataset for Regression"
   ]
  },
  {
   "cell_type": "markdown",
   "id": "b61ded62",
   "metadata": {},
   "source": [
    "Auto insurance dataset that involves predicting the total payment from claims given the total number of claims. The dataset has 63 rows and one input and one output variable\n",
    "\n",
    "X = number of claims\n",
    "Y = total payment for all the claims in thousands of Swedish Kronor\n",
    "for geographical zones in Sweden"
   ]
  },
  {
   "cell_type": "code",
   "execution_count": 19,
   "id": "176120fa",
   "metadata": {},
   "outputs": [],
   "source": [
    "url = 'https://raw.githubusercontent.com/jbrownlee/Datasets/master/auto-insurance.csv'\n",
    "dataframe = pd.read_csv(url, header=None)\n",
    "dataframe.to_csv(\"auto_insurance.csv\")"
   ]
  },
  {
   "cell_type": "code",
   "execution_count": null,
   "id": "f15ae902",
   "metadata": {},
   "outputs": [],
   "source": []
  }
 ],
 "metadata": {
  "kernelspec": {
   "display_name": "Python 3",
   "language": "python",
   "name": "python3"
  },
  "language_info": {
   "codemirror_mode": {
    "name": "ipython",
    "version": 3
   },
   "file_extension": ".py",
   "mimetype": "text/x-python",
   "name": "python",
   "nbconvert_exporter": "python",
   "pygments_lexer": "ipython3",
   "version": "3.8.11"
  }
 },
 "nbformat": 4,
 "nbformat_minor": 5
}
